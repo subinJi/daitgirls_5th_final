{
 "cells": [
  {
   "cell_type": "code",
   "execution_count": 1,
   "id": "a57a4b2e",
   "metadata": {},
   "outputs": [],
   "source": [
    "import pandas as pd\n",
    "import numpy as np\n",
    "import matplotlib.pyplot as plt\n",
    "import warnings\n",
    "warnings.filterwarnings(action='ignore')"
   ]
  },
  {
   "cell_type": "markdown",
   "id": "c1d77661",
   "metadata": {},
   "source": [
    "### 자연관광지 정규화"
   ]
  },
  {
   "cell_type": "code",
   "execution_count": 2,
   "id": "00e6d39e",
   "metadata": {},
   "outputs": [
    {
     "data": {
      "text/html": [
       "<div>\n",
       "<style scoped>\n",
       "    .dataframe tbody tr th:only-of-type {\n",
       "        vertical-align: middle;\n",
       "    }\n",
       "\n",
       "    .dataframe tbody tr th {\n",
       "        vertical-align: top;\n",
       "    }\n",
       "\n",
       "    .dataframe thead th {\n",
       "        text-align: right;\n",
       "    }\n",
       "</style>\n",
       "<table border=\"1\" class=\"dataframe\">\n",
       "  <thead>\n",
       "    <tr style=\"text-align: right;\">\n",
       "      <th></th>\n",
       "      <th>sido_code</th>\n",
       "      <th>sigun_code</th>\n",
       "      <th>sido</th>\n",
       "      <th>sigun</th>\n",
       "      <th>국립공원 면적</th>\n",
       "      <th>도립공원 면적</th>\n",
       "      <th>군립공원 면적</th>\n",
       "      <th>자연휴양림 면적</th>\n",
       "      <th>자연명승지 면적</th>\n",
       "      <th>시군구 면적</th>\n",
       "      <th>비율</th>\n",
       "      <th>정규화</th>\n",
       "      <th>Unnamed: 12</th>\n",
       "      <th>Unnamed: 13</th>\n",
       "      <th>Unnamed: 14</th>\n",
       "      <th>Unnamed: 15</th>\n",
       "      <th>Unnamed: 16</th>\n",
       "      <th>Unnamed: 17</th>\n",
       "      <th>Unnamed: 18</th>\n",
       "      <th>Unnamed: 19</th>\n",
       "    </tr>\n",
       "  </thead>\n",
       "  <tbody>\n",
       "    <tr>\n",
       "      <th>0</th>\n",
       "      <td>11</td>\n",
       "      <td>11010</td>\n",
       "      <td>서울특별시</td>\n",
       "      <td>종로구</td>\n",
       "      <td>4.998</td>\n",
       "      <td>0.0</td>\n",
       "      <td>0.0</td>\n",
       "      <td>0.0</td>\n",
       "      <td>3.648988</td>\n",
       "      <td>23.913172</td>\n",
       "      <td>0.361599</td>\n",
       "      <td>0.246234</td>\n",
       "      <td>NaN</td>\n",
       "      <td>NaN</td>\n",
       "      <td>NaN</td>\n",
       "      <td>NaN</td>\n",
       "      <td>NaN</td>\n",
       "      <td>NaN</td>\n",
       "      <td>NaN</td>\n",
       "      <td>NaN</td>\n",
       "    </tr>\n",
       "    <tr>\n",
       "      <th>1</th>\n",
       "      <td>11</td>\n",
       "      <td>11020</td>\n",
       "      <td>서울특별시</td>\n",
       "      <td>중구</td>\n",
       "      <td>0.000</td>\n",
       "      <td>0.0</td>\n",
       "      <td>0.0</td>\n",
       "      <td>0.0</td>\n",
       "      <td>0.000000</td>\n",
       "      <td>9.960308</td>\n",
       "      <td>0.000000</td>\n",
       "      <td>0.000000</td>\n",
       "      <td>NaN</td>\n",
       "      <td>NaN</td>\n",
       "      <td>NaN</td>\n",
       "      <td>NaN</td>\n",
       "      <td>NaN</td>\n",
       "      <td>NaN</td>\n",
       "      <td>NaN</td>\n",
       "      <td>NaN</td>\n",
       "    </tr>\n",
       "  </tbody>\n",
       "</table>\n",
       "</div>"
      ],
      "text/plain": [
       "   sido_code  sigun_code   sido sigun  국립공원 면적  도립공원 면적  군립공원 면적  자연휴양림 면적  \\\n",
       "0         11       11010  서울특별시   종로구    4.998      0.0      0.0       0.0   \n",
       "1         11       11020  서울특별시    중구    0.000      0.0      0.0       0.0   \n",
       "\n",
       "   자연명승지 면적     시군구 면적        비율       정규화  Unnamed: 12  Unnamed: 13  \\\n",
       "0  3.648988  23.913172  0.361599  0.246234          NaN          NaN   \n",
       "1  0.000000   9.960308  0.000000  0.000000          NaN          NaN   \n",
       "\n",
       "   Unnamed: 14  Unnamed: 15  Unnamed: 16  Unnamed: 17  Unnamed: 18  \\\n",
       "0          NaN          NaN          NaN          NaN          NaN   \n",
       "1          NaN          NaN          NaN          NaN          NaN   \n",
       "\n",
       "   Unnamed: 19  \n",
       "0          NaN  \n",
       "1          NaN  "
      ]
     },
     "execution_count": 2,
     "metadata": {},
     "output_type": "execute_result"
    }
   ],
   "source": [
    "nature = pd.read_excel('data_format_자연관광지 면적 총합.xlsx')\n",
    "nature.head(2)"
   ]
  },
  {
   "cell_type": "code",
   "execution_count": 3,
   "id": "37142326",
   "metadata": {},
   "outputs": [
    {
     "data": {
      "text/html": [
       "<div>\n",
       "<style scoped>\n",
       "    .dataframe tbody tr th:only-of-type {\n",
       "        vertical-align: middle;\n",
       "    }\n",
       "\n",
       "    .dataframe tbody tr th {\n",
       "        vertical-align: top;\n",
       "    }\n",
       "\n",
       "    .dataframe thead th {\n",
       "        text-align: right;\n",
       "    }\n",
       "</style>\n",
       "<table border=\"1\" class=\"dataframe\">\n",
       "  <thead>\n",
       "    <tr style=\"text-align: right;\">\n",
       "      <th></th>\n",
       "      <th>sido_code</th>\n",
       "      <th>sigun_code</th>\n",
       "      <th>sido</th>\n",
       "      <th>sigun</th>\n",
       "      <th>국립공원 면적</th>\n",
       "      <th>도립공원 면적</th>\n",
       "      <th>군립공원 면적</th>\n",
       "      <th>자연휴양림 면적</th>\n",
       "      <th>자연명승지 면적</th>\n",
       "      <th>시군구 면적</th>\n",
       "      <th>비율</th>\n",
       "    </tr>\n",
       "  </thead>\n",
       "  <tbody>\n",
       "    <tr>\n",
       "      <th>0</th>\n",
       "      <td>11</td>\n",
       "      <td>11010</td>\n",
       "      <td>서울특별시</td>\n",
       "      <td>종로구</td>\n",
       "      <td>4.998</td>\n",
       "      <td>0.0</td>\n",
       "      <td>0.0</td>\n",
       "      <td>0.0</td>\n",
       "      <td>3.648988</td>\n",
       "      <td>23.913172</td>\n",
       "      <td>0.361599</td>\n",
       "    </tr>\n",
       "    <tr>\n",
       "      <th>1</th>\n",
       "      <td>11</td>\n",
       "      <td>11020</td>\n",
       "      <td>서울특별시</td>\n",
       "      <td>중구</td>\n",
       "      <td>0.000</td>\n",
       "      <td>0.0</td>\n",
       "      <td>0.0</td>\n",
       "      <td>0.0</td>\n",
       "      <td>0.000000</td>\n",
       "      <td>9.960308</td>\n",
       "      <td>0.000000</td>\n",
       "    </tr>\n",
       "  </tbody>\n",
       "</table>\n",
       "</div>"
      ],
      "text/plain": [
       "   sido_code  sigun_code   sido sigun  국립공원 면적  도립공원 면적  군립공원 면적  자연휴양림 면적  \\\n",
       "0         11       11010  서울특별시   종로구    4.998      0.0      0.0       0.0   \n",
       "1         11       11020  서울특별시    중구    0.000      0.0      0.0       0.0   \n",
       "\n",
       "   자연명승지 면적     시군구 면적        비율  \n",
       "0  3.648988  23.913172  0.361599  \n",
       "1  0.000000   9.960308  0.000000  "
      ]
     },
     "execution_count": 3,
     "metadata": {},
     "output_type": "execute_result"
    }
   ],
   "source": [
    "# 필요없는 컬럼 없애기\n",
    "nature = nature.drop(['정규화','Unnamed: 12', 'Unnamed: 13', 'Unnamed: 14', 'Unnamed: 15', 'Unnamed: 16', 'Unnamed: 17', 'Unnamed: 18', 'Unnamed: 19'],1)\n",
    "nature.head(2)"
   ]
  },
  {
   "cell_type": "code",
   "execution_count": 4,
   "id": "09bc31b5",
   "metadata": {},
   "outputs": [
    {
     "data": {
      "text/html": [
       "<div>\n",
       "<style scoped>\n",
       "    .dataframe tbody tr th:only-of-type {\n",
       "        vertical-align: middle;\n",
       "    }\n",
       "\n",
       "    .dataframe tbody tr th {\n",
       "        vertical-align: top;\n",
       "    }\n",
       "\n",
       "    .dataframe thead th {\n",
       "        text-align: right;\n",
       "    }\n",
       "</style>\n",
       "<table border=\"1\" class=\"dataframe\">\n",
       "  <thead>\n",
       "    <tr style=\"text-align: right;\">\n",
       "      <th></th>\n",
       "      <th>sido_code</th>\n",
       "      <th>sigun_code</th>\n",
       "      <th>sido</th>\n",
       "      <th>sigun</th>\n",
       "      <th>국립공원 면적</th>\n",
       "      <th>도립공원 면적</th>\n",
       "      <th>군립공원 면적</th>\n",
       "      <th>자연휴양림 면적</th>\n",
       "      <th>자연명승지 면적</th>\n",
       "      <th>시군구 면적</th>\n",
       "      <th>비율</th>\n",
       "      <th>지역명</th>\n",
       "    </tr>\n",
       "  </thead>\n",
       "  <tbody>\n",
       "    <tr>\n",
       "      <th>0</th>\n",
       "      <td>11</td>\n",
       "      <td>11010</td>\n",
       "      <td>서울특별시</td>\n",
       "      <td>종로구</td>\n",
       "      <td>4.998</td>\n",
       "      <td>0.0</td>\n",
       "      <td>0.0</td>\n",
       "      <td>0.0</td>\n",
       "      <td>3.648988</td>\n",
       "      <td>23.913172</td>\n",
       "      <td>0.361599</td>\n",
       "      <td>서울특별시 종로구</td>\n",
       "    </tr>\n",
       "    <tr>\n",
       "      <th>1</th>\n",
       "      <td>11</td>\n",
       "      <td>11020</td>\n",
       "      <td>서울특별시</td>\n",
       "      <td>중구</td>\n",
       "      <td>0.000</td>\n",
       "      <td>0.0</td>\n",
       "      <td>0.0</td>\n",
       "      <td>0.0</td>\n",
       "      <td>0.000000</td>\n",
       "      <td>9.960308</td>\n",
       "      <td>0.000000</td>\n",
       "      <td>서울특별시 중구</td>\n",
       "    </tr>\n",
       "    <tr>\n",
       "      <th>2</th>\n",
       "      <td>11</td>\n",
       "      <td>11030</td>\n",
       "      <td>서울특별시</td>\n",
       "      <td>용산구</td>\n",
       "      <td>0.000</td>\n",
       "      <td>0.0</td>\n",
       "      <td>0.0</td>\n",
       "      <td>0.0</td>\n",
       "      <td>0.000000</td>\n",
       "      <td>21.866145</td>\n",
       "      <td>0.000000</td>\n",
       "      <td>서울특별시 용산구</td>\n",
       "    </tr>\n",
       "    <tr>\n",
       "      <th>3</th>\n",
       "      <td>11</td>\n",
       "      <td>11040</td>\n",
       "      <td>서울특별시</td>\n",
       "      <td>성동구</td>\n",
       "      <td>0.000</td>\n",
       "      <td>0.0</td>\n",
       "      <td>0.0</td>\n",
       "      <td>0.0</td>\n",
       "      <td>0.000000</td>\n",
       "      <td>16.861004</td>\n",
       "      <td>0.000000</td>\n",
       "      <td>서울특별시 성동구</td>\n",
       "    </tr>\n",
       "    <tr>\n",
       "      <th>4</th>\n",
       "      <td>11</td>\n",
       "      <td>11050</td>\n",
       "      <td>서울특별시</td>\n",
       "      <td>광진구</td>\n",
       "      <td>0.000</td>\n",
       "      <td>0.0</td>\n",
       "      <td>0.0</td>\n",
       "      <td>0.0</td>\n",
       "      <td>0.000000</td>\n",
       "      <td>17.062940</td>\n",
       "      <td>0.000000</td>\n",
       "      <td>서울특별시 광진구</td>\n",
       "    </tr>\n",
       "  </tbody>\n",
       "</table>\n",
       "</div>"
      ],
      "text/plain": [
       "   sido_code  sigun_code   sido sigun  국립공원 면적  도립공원 면적  군립공원 면적  자연휴양림 면적  \\\n",
       "0         11       11010  서울특별시   종로구    4.998      0.0      0.0       0.0   \n",
       "1         11       11020  서울특별시    중구    0.000      0.0      0.0       0.0   \n",
       "2         11       11030  서울특별시   용산구    0.000      0.0      0.0       0.0   \n",
       "3         11       11040  서울특별시   성동구    0.000      0.0      0.0       0.0   \n",
       "4         11       11050  서울특별시   광진구    0.000      0.0      0.0       0.0   \n",
       "\n",
       "   자연명승지 면적     시군구 면적        비율        지역명  \n",
       "0  3.648988  23.913172  0.361599  서울특별시 종로구  \n",
       "1  0.000000   9.960308  0.000000   서울특별시 중구  \n",
       "2  0.000000  21.866145  0.000000  서울특별시 용산구  \n",
       "3  0.000000  16.861004  0.000000  서울특별시 성동구  \n",
       "4  0.000000  17.062940  0.000000  서울특별시 광진구  "
      ]
     },
     "execution_count": 4,
     "metadata": {},
     "output_type": "execute_result"
    }
   ],
   "source": [
    "# 지역명 컬럼 만들기\n",
    "cols = ['sido', 'sigun']\n",
    "nature['지역명'] = nature[cols].apply(lambda row: ' '.join(row.values.astype(str)), axis=1)\n",
    "nature.head()"
   ]
  },
  {
   "cell_type": "code",
   "execution_count": 5,
   "id": "8ab41572",
   "metadata": {},
   "outputs": [
    {
     "data": {
      "text/html": [
       "<div>\n",
       "<style scoped>\n",
       "    .dataframe tbody tr th:only-of-type {\n",
       "        vertical-align: middle;\n",
       "    }\n",
       "\n",
       "    .dataframe tbody tr th {\n",
       "        vertical-align: top;\n",
       "    }\n",
       "\n",
       "    .dataframe thead th {\n",
       "        text-align: right;\n",
       "    }\n",
       "</style>\n",
       "<table border=\"1\" class=\"dataframe\">\n",
       "  <thead>\n",
       "    <tr style=\"text-align: right;\">\n",
       "      <th></th>\n",
       "      <th>sido_code</th>\n",
       "      <th>sigun_code</th>\n",
       "      <th>sido</th>\n",
       "      <th>sigun</th>\n",
       "      <th>국립공원 면적</th>\n",
       "      <th>도립공원 면적</th>\n",
       "      <th>군립공원 면적</th>\n",
       "      <th>자연휴양림 면적</th>\n",
       "      <th>자연명승지 면적</th>\n",
       "      <th>시군구 면적</th>\n",
       "      <th>비율</th>\n",
       "      <th>지역명</th>\n",
       "      <th>공원_휴양림_명승지 면적 합</th>\n",
       "    </tr>\n",
       "  </thead>\n",
       "  <tbody>\n",
       "    <tr>\n",
       "      <th>0</th>\n",
       "      <td>11</td>\n",
       "      <td>11010</td>\n",
       "      <td>서울특별시</td>\n",
       "      <td>종로구</td>\n",
       "      <td>4.998</td>\n",
       "      <td>0.0</td>\n",
       "      <td>0.0</td>\n",
       "      <td>0.0</td>\n",
       "      <td>3.648988</td>\n",
       "      <td>23.913172</td>\n",
       "      <td>0.361599</td>\n",
       "      <td>서울특별시 종로구</td>\n",
       "      <td>8.646988</td>\n",
       "    </tr>\n",
       "    <tr>\n",
       "      <th>1</th>\n",
       "      <td>11</td>\n",
       "      <td>11020</td>\n",
       "      <td>서울특별시</td>\n",
       "      <td>중구</td>\n",
       "      <td>0.000</td>\n",
       "      <td>0.0</td>\n",
       "      <td>0.0</td>\n",
       "      <td>0.0</td>\n",
       "      <td>0.000000</td>\n",
       "      <td>9.960308</td>\n",
       "      <td>0.000000</td>\n",
       "      <td>서울특별시 중구</td>\n",
       "      <td>0.000000</td>\n",
       "    </tr>\n",
       "    <tr>\n",
       "      <th>2</th>\n",
       "      <td>11</td>\n",
       "      <td>11030</td>\n",
       "      <td>서울특별시</td>\n",
       "      <td>용산구</td>\n",
       "      <td>0.000</td>\n",
       "      <td>0.0</td>\n",
       "      <td>0.0</td>\n",
       "      <td>0.0</td>\n",
       "      <td>0.000000</td>\n",
       "      <td>21.866145</td>\n",
       "      <td>0.000000</td>\n",
       "      <td>서울특별시 용산구</td>\n",
       "      <td>0.000000</td>\n",
       "    </tr>\n",
       "    <tr>\n",
       "      <th>3</th>\n",
       "      <td>11</td>\n",
       "      <td>11040</td>\n",
       "      <td>서울특별시</td>\n",
       "      <td>성동구</td>\n",
       "      <td>0.000</td>\n",
       "      <td>0.0</td>\n",
       "      <td>0.0</td>\n",
       "      <td>0.0</td>\n",
       "      <td>0.000000</td>\n",
       "      <td>16.861004</td>\n",
       "      <td>0.000000</td>\n",
       "      <td>서울특별시 성동구</td>\n",
       "      <td>0.000000</td>\n",
       "    </tr>\n",
       "    <tr>\n",
       "      <th>4</th>\n",
       "      <td>11</td>\n",
       "      <td>11050</td>\n",
       "      <td>서울특별시</td>\n",
       "      <td>광진구</td>\n",
       "      <td>0.000</td>\n",
       "      <td>0.0</td>\n",
       "      <td>0.0</td>\n",
       "      <td>0.0</td>\n",
       "      <td>0.000000</td>\n",
       "      <td>17.062940</td>\n",
       "      <td>0.000000</td>\n",
       "      <td>서울특별시 광진구</td>\n",
       "      <td>0.000000</td>\n",
       "    </tr>\n",
       "  </tbody>\n",
       "</table>\n",
       "</div>"
      ],
      "text/plain": [
       "   sido_code  sigun_code   sido sigun  국립공원 면적  도립공원 면적  군립공원 면적  자연휴양림 면적  \\\n",
       "0         11       11010  서울특별시   종로구    4.998      0.0      0.0       0.0   \n",
       "1         11       11020  서울특별시    중구    0.000      0.0      0.0       0.0   \n",
       "2         11       11030  서울특별시   용산구    0.000      0.0      0.0       0.0   \n",
       "3         11       11040  서울특별시   성동구    0.000      0.0      0.0       0.0   \n",
       "4         11       11050  서울특별시   광진구    0.000      0.0      0.0       0.0   \n",
       "\n",
       "   자연명승지 면적     시군구 면적        비율        지역명  공원_휴양림_명승지 면적 합  \n",
       "0  3.648988  23.913172  0.361599  서울특별시 종로구         8.646988  \n",
       "1  0.000000   9.960308  0.000000   서울특별시 중구         0.000000  \n",
       "2  0.000000  21.866145  0.000000  서울특별시 용산구         0.000000  \n",
       "3  0.000000  16.861004  0.000000  서울특별시 성동구         0.000000  \n",
       "4  0.000000  17.062940  0.000000  서울특별시 광진구         0.000000  "
      ]
     },
     "execution_count": 5,
     "metadata": {},
     "output_type": "execute_result"
    }
   ],
   "source": [
    "# 국립공원, 도립공원, 군립공원, 자연휴양림, 자연명승지 면적 합 만들기\n",
    "nature['공원_휴양림_명승지 면적 합'] = nature['국립공원 면적'] + nature['도립공원 면적'] + nature['군립공원 면적'] + nature['자연휴양림 면적'] + nature['자연명승지 면적']\n",
    "nature.head()"
   ]
  },
  {
   "cell_type": "code",
   "execution_count": 6,
   "id": "b4deccd9",
   "metadata": {},
   "outputs": [
    {
     "data": {
      "text/plain": [
       "Index(['sido_code', 'sigun_code', 'sido', 'sigun', '국립공원 면적', '도립공원 면적',\n",
       "       '군립공원 면적', '자연휴양림 면적', '자연명승지 면적', '시군구 면적', '비율', '지역명',\n",
       "       '공원_휴양림_명승지 면적 합'],\n",
       "      dtype='object')"
      ]
     },
     "execution_count": 6,
     "metadata": {},
     "output_type": "execute_result"
    }
   ],
   "source": [
    "# 원하는 순서대로 컬럼 재배치\n",
    "nature.columns"
   ]
  },
  {
   "cell_type": "code",
   "execution_count": 7,
   "id": "34d6fdaa",
   "metadata": {},
   "outputs": [
    {
     "data": {
      "text/html": [
       "<div>\n",
       "<style scoped>\n",
       "    .dataframe tbody tr th:only-of-type {\n",
       "        vertical-align: middle;\n",
       "    }\n",
       "\n",
       "    .dataframe tbody tr th {\n",
       "        vertical-align: top;\n",
       "    }\n",
       "\n",
       "    .dataframe thead th {\n",
       "        text-align: right;\n",
       "    }\n",
       "</style>\n",
       "<table border=\"1\" class=\"dataframe\">\n",
       "  <thead>\n",
       "    <tr style=\"text-align: right;\">\n",
       "      <th></th>\n",
       "      <th>sido_code</th>\n",
       "      <th>sigun_code</th>\n",
       "      <th>sido</th>\n",
       "      <th>sigun</th>\n",
       "      <th>지역명</th>\n",
       "      <th>국립공원 면적</th>\n",
       "      <th>도립공원 면적</th>\n",
       "      <th>군립공원 면적</th>\n",
       "      <th>자연휴양림 면적</th>\n",
       "      <th>자연명승지 면적</th>\n",
       "      <th>공원_휴양림_명승지 면적 합</th>\n",
       "      <th>시군구 면적</th>\n",
       "      <th>비율</th>\n",
       "    </tr>\n",
       "  </thead>\n",
       "  <tbody>\n",
       "    <tr>\n",
       "      <th>0</th>\n",
       "      <td>11</td>\n",
       "      <td>11010</td>\n",
       "      <td>서울특별시</td>\n",
       "      <td>종로구</td>\n",
       "      <td>서울특별시 종로구</td>\n",
       "      <td>4.998</td>\n",
       "      <td>0.0</td>\n",
       "      <td>0.0</td>\n",
       "      <td>0.0</td>\n",
       "      <td>3.648988</td>\n",
       "      <td>8.646988</td>\n",
       "      <td>23.913172</td>\n",
       "      <td>0.361599</td>\n",
       "    </tr>\n",
       "    <tr>\n",
       "      <th>1</th>\n",
       "      <td>11</td>\n",
       "      <td>11020</td>\n",
       "      <td>서울특별시</td>\n",
       "      <td>중구</td>\n",
       "      <td>서울특별시 중구</td>\n",
       "      <td>0.000</td>\n",
       "      <td>0.0</td>\n",
       "      <td>0.0</td>\n",
       "      <td>0.0</td>\n",
       "      <td>0.000000</td>\n",
       "      <td>0.000000</td>\n",
       "      <td>9.960308</td>\n",
       "      <td>0.000000</td>\n",
       "    </tr>\n",
       "    <tr>\n",
       "      <th>2</th>\n",
       "      <td>11</td>\n",
       "      <td>11030</td>\n",
       "      <td>서울특별시</td>\n",
       "      <td>용산구</td>\n",
       "      <td>서울특별시 용산구</td>\n",
       "      <td>0.000</td>\n",
       "      <td>0.0</td>\n",
       "      <td>0.0</td>\n",
       "      <td>0.0</td>\n",
       "      <td>0.000000</td>\n",
       "      <td>0.000000</td>\n",
       "      <td>21.866145</td>\n",
       "      <td>0.000000</td>\n",
       "    </tr>\n",
       "    <tr>\n",
       "      <th>3</th>\n",
       "      <td>11</td>\n",
       "      <td>11040</td>\n",
       "      <td>서울특별시</td>\n",
       "      <td>성동구</td>\n",
       "      <td>서울특별시 성동구</td>\n",
       "      <td>0.000</td>\n",
       "      <td>0.0</td>\n",
       "      <td>0.0</td>\n",
       "      <td>0.0</td>\n",
       "      <td>0.000000</td>\n",
       "      <td>0.000000</td>\n",
       "      <td>16.861004</td>\n",
       "      <td>0.000000</td>\n",
       "    </tr>\n",
       "    <tr>\n",
       "      <th>4</th>\n",
       "      <td>11</td>\n",
       "      <td>11050</td>\n",
       "      <td>서울특별시</td>\n",
       "      <td>광진구</td>\n",
       "      <td>서울특별시 광진구</td>\n",
       "      <td>0.000</td>\n",
       "      <td>0.0</td>\n",
       "      <td>0.0</td>\n",
       "      <td>0.0</td>\n",
       "      <td>0.000000</td>\n",
       "      <td>0.000000</td>\n",
       "      <td>17.062940</td>\n",
       "      <td>0.000000</td>\n",
       "    </tr>\n",
       "  </tbody>\n",
       "</table>\n",
       "</div>"
      ],
      "text/plain": [
       "   sido_code  sigun_code   sido sigun        지역명  국립공원 면적  도립공원 면적  군립공원 면적  \\\n",
       "0         11       11010  서울특별시   종로구  서울특별시 종로구    4.998      0.0      0.0   \n",
       "1         11       11020  서울특별시    중구   서울특별시 중구    0.000      0.0      0.0   \n",
       "2         11       11030  서울특별시   용산구  서울특별시 용산구    0.000      0.0      0.0   \n",
       "3         11       11040  서울특별시   성동구  서울특별시 성동구    0.000      0.0      0.0   \n",
       "4         11       11050  서울특별시   광진구  서울특별시 광진구    0.000      0.0      0.0   \n",
       "\n",
       "   자연휴양림 면적  자연명승지 면적  공원_휴양림_명승지 면적 합     시군구 면적        비율  \n",
       "0       0.0  3.648988         8.646988  23.913172  0.361599  \n",
       "1       0.0  0.000000         0.000000   9.960308  0.000000  \n",
       "2       0.0  0.000000         0.000000  21.866145  0.000000  \n",
       "3       0.0  0.000000         0.000000  16.861004  0.000000  \n",
       "4       0.0  0.000000         0.000000  17.062940  0.000000  "
      ]
     },
     "execution_count": 7,
     "metadata": {},
     "output_type": "execute_result"
    }
   ],
   "source": [
    "nature = nature[['sido_code', 'sigun_code', 'sido', 'sigun', '지역명', '국립공원 면적', '도립공원 면적',\n",
    "       '군립공원 면적', '자연휴양림 면적', '자연명승지 면적', '공원_휴양림_명승지 면적 합', '시군구 면적', '비율']]\n",
    "nature.head()"
   ]
  },
  {
   "cell_type": "code",
   "execution_count": 8,
   "id": "dc81ca19",
   "metadata": {},
   "outputs": [
    {
     "data": {
      "text/html": [
       "<div>\n",
       "<style scoped>\n",
       "    .dataframe tbody tr th:only-of-type {\n",
       "        vertical-align: middle;\n",
       "    }\n",
       "\n",
       "    .dataframe tbody tr th {\n",
       "        vertical-align: top;\n",
       "    }\n",
       "\n",
       "    .dataframe thead th {\n",
       "        text-align: right;\n",
       "    }\n",
       "</style>\n",
       "<table border=\"1\" class=\"dataframe\">\n",
       "  <thead>\n",
       "    <tr style=\"text-align: right;\">\n",
       "      <th></th>\n",
       "      <th>지역명</th>\n",
       "      <th>공원_휴양림_명승지 면적 합</th>\n",
       "      <th>시군구 면적</th>\n",
       "      <th>비율</th>\n",
       "    </tr>\n",
       "  </thead>\n",
       "  <tbody>\n",
       "    <tr>\n",
       "      <th>0</th>\n",
       "      <td>서울특별시 종로구</td>\n",
       "      <td>8.646988</td>\n",
       "      <td>23.913172</td>\n",
       "      <td>0.361599</td>\n",
       "    </tr>\n",
       "    <tr>\n",
       "      <th>1</th>\n",
       "      <td>서울특별시 중구</td>\n",
       "      <td>0.000000</td>\n",
       "      <td>9.960308</td>\n",
       "      <td>0.000000</td>\n",
       "    </tr>\n",
       "  </tbody>\n",
       "</table>\n",
       "</div>"
      ],
      "text/plain": [
       "         지역명  공원_휴양림_명승지 면적 합     시군구 면적        비율\n",
       "0  서울특별시 종로구         8.646988  23.913172  0.361599\n",
       "1   서울특별시 중구         0.000000   9.960308  0.000000"
      ]
     },
     "execution_count": 8,
     "metadata": {},
     "output_type": "execute_result"
    }
   ],
   "source": [
    "nature = nature.drop(['sido_code', 'sigun_code', 'sido', 'sigun','국립공원 면적', '도립공원 면적',\n",
    "       '군립공원 면적', '자연휴양림 면적', '자연명승지 면적'],1)\n",
    "nature.head(2)"
   ]
  },
  {
   "cell_type": "code",
   "execution_count": 9,
   "id": "296fab34",
   "metadata": {},
   "outputs": [
    {
     "data": {
      "text/html": [
       "<div>\n",
       "<style scoped>\n",
       "    .dataframe tbody tr th:only-of-type {\n",
       "        vertical-align: middle;\n",
       "    }\n",
       "\n",
       "    .dataframe tbody tr th {\n",
       "        vertical-align: top;\n",
       "    }\n",
       "\n",
       "    .dataframe thead th {\n",
       "        text-align: right;\n",
       "    }\n",
       "</style>\n",
       "<table border=\"1\" class=\"dataframe\">\n",
       "  <thead>\n",
       "    <tr style=\"text-align: right;\">\n",
       "      <th></th>\n",
       "      <th>지역명</th>\n",
       "      <th>공원_휴양림_명승지 면적 합</th>\n",
       "      <th>시군구 면적</th>\n",
       "      <th>비율</th>\n",
       "      <th>정규화</th>\n",
       "    </tr>\n",
       "  </thead>\n",
       "  <tbody>\n",
       "    <tr>\n",
       "      <th>0</th>\n",
       "      <td>서울특별시 종로구</td>\n",
       "      <td>8.646988</td>\n",
       "      <td>23.913172</td>\n",
       "      <td>0.361599</td>\n",
       "      <td>0.246234</td>\n",
       "    </tr>\n",
       "    <tr>\n",
       "      <th>1</th>\n",
       "      <td>서울특별시 중구</td>\n",
       "      <td>0.000000</td>\n",
       "      <td>9.960308</td>\n",
       "      <td>0.000000</td>\n",
       "      <td>0.000000</td>\n",
       "    </tr>\n",
       "    <tr>\n",
       "      <th>2</th>\n",
       "      <td>서울특별시 용산구</td>\n",
       "      <td>0.000000</td>\n",
       "      <td>21.866145</td>\n",
       "      <td>0.000000</td>\n",
       "      <td>0.000000</td>\n",
       "    </tr>\n",
       "    <tr>\n",
       "      <th>3</th>\n",
       "      <td>서울특별시 성동구</td>\n",
       "      <td>0.000000</td>\n",
       "      <td>16.861004</td>\n",
       "      <td>0.000000</td>\n",
       "      <td>0.000000</td>\n",
       "    </tr>\n",
       "    <tr>\n",
       "      <th>4</th>\n",
       "      <td>서울특별시 광진구</td>\n",
       "      <td>0.000000</td>\n",
       "      <td>17.062940</td>\n",
       "      <td>0.000000</td>\n",
       "      <td>0.000000</td>\n",
       "    </tr>\n",
       "  </tbody>\n",
       "</table>\n",
       "</div>"
      ],
      "text/plain": [
       "         지역명  공원_휴양림_명승지 면적 합     시군구 면적        비율       정규화\n",
       "0  서울특별시 종로구         8.646988  23.913172  0.361599  0.246234\n",
       "1   서울특별시 중구         0.000000   9.960308  0.000000  0.000000\n",
       "2  서울특별시 용산구         0.000000  21.866145  0.000000  0.000000\n",
       "3  서울특별시 성동구         0.000000  16.861004  0.000000  0.000000\n",
       "4  서울특별시 광진구         0.000000  17.062940  0.000000  0.000000"
      ]
     },
     "execution_count": 9,
     "metadata": {},
     "output_type": "execute_result"
    }
   ],
   "source": [
    "nature['정규화'] = (nature['비율'] - nature['비율'].min()) / ( nature['비율'].max() - nature['비율'].min())\n",
    "nature.head()"
   ]
  },
  {
   "cell_type": "markdown",
   "id": "63ada153",
   "metadata": {},
   "source": [
    "### 지표 상관 행렬"
   ]
  },
  {
   "cell_type": "code",
   "execution_count": 10,
   "id": "6600dd9e",
   "metadata": {},
   "outputs": [
    {
     "data": {
      "text/html": [
       "<div>\n",
       "<style scoped>\n",
       "    .dataframe tbody tr th:only-of-type {\n",
       "        vertical-align: middle;\n",
       "    }\n",
       "\n",
       "    .dataframe tbody tr th {\n",
       "        vertical-align: top;\n",
       "    }\n",
       "\n",
       "    .dataframe thead th {\n",
       "        text-align: right;\n",
       "    }\n",
       "</style>\n",
       "<table border=\"1\" class=\"dataframe\">\n",
       "  <thead>\n",
       "    <tr style=\"text-align: right;\">\n",
       "      <th></th>\n",
       "      <th>Unnamed: 0</th>\n",
       "      <th>시도코드</th>\n",
       "      <th>시도명칭</th>\n",
       "      <th>시군구코드</th>\n",
       "      <th>시군구명칭2</th>\n",
       "      <th>시군구 인구 대비 평균 확진자 수 정규화</th>\n",
       "      <th>시가지면적 대비 방문객 수 정규화</th>\n",
       "      <th>전체 식당대비 안심식당 수 정규화</th>\n",
       "      <th>교통안전성</th>\n",
       "      <th>숙박안전성</th>\n",
       "      <th>...</th>\n",
       "      <th>위험성 지표</th>\n",
       "      <th>인프라 지표</th>\n",
       "      <th>위+인+관 지수</th>\n",
       "      <th>1일 방문자 정규화</th>\n",
       "      <th>순서정렬</th>\n",
       "      <th>지역명</th>\n",
       "      <th>Unnamed: 18</th>\n",
       "      <th>Unnamed: 19</th>\n",
       "      <th>Unnamed: 20</th>\n",
       "      <th>Unnamed: 21</th>\n",
       "    </tr>\n",
       "  </thead>\n",
       "  <tbody>\n",
       "    <tr>\n",
       "      <th>0</th>\n",
       "      <td>0</td>\n",
       "      <td>11</td>\n",
       "      <td>서울특별시</td>\n",
       "      <td>11010</td>\n",
       "      <td>종로구</td>\n",
       "      <td>0.561973</td>\n",
       "      <td>0.535179</td>\n",
       "      <td>0.072467</td>\n",
       "      <td>0.154472</td>\n",
       "      <td>0.27853</td>\n",
       "      <td>...</td>\n",
       "      <td>0.548576</td>\n",
       "      <td>0.187925</td>\n",
       "      <td>7.757227</td>\n",
       "      <td>0.328</td>\n",
       "      <td>1</td>\n",
       "      <td>서울특별시 종로구</td>\n",
       "      <td>NaN</td>\n",
       "      <td>NaN</td>\n",
       "      <td>NaN</td>\n",
       "      <td>NaN</td>\n",
       "    </tr>\n",
       "    <tr>\n",
       "      <th>1</th>\n",
       "      <td>1</td>\n",
       "      <td>11</td>\n",
       "      <td>서울특별시</td>\n",
       "      <td>11020</td>\n",
       "      <td>중구</td>\n",
       "      <td>1.000000</td>\n",
       "      <td>0.689380</td>\n",
       "      <td>0.000879</td>\n",
       "      <td>0.195122</td>\n",
       "      <td>0.55268</td>\n",
       "      <td>...</td>\n",
       "      <td>0.844690</td>\n",
       "      <td>0.187170</td>\n",
       "      <td>7.161978</td>\n",
       "      <td>0.326</td>\n",
       "      <td>2</td>\n",
       "      <td>서울특별시 중구</td>\n",
       "      <td>NaN</td>\n",
       "      <td>NaN</td>\n",
       "      <td>NaN</td>\n",
       "      <td>NaN</td>\n",
       "    </tr>\n",
       "  </tbody>\n",
       "</table>\n",
       "<p>2 rows × 22 columns</p>\n",
       "</div>"
      ],
      "text/plain": [
       "   Unnamed: 0  시도코드   시도명칭  시군구코드 시군구명칭2  시군구 인구 대비 평균 확진자 수 정규화   \\\n",
       "0           0    11  서울특별시  11010    종로구                 0.561973   \n",
       "1           1    11  서울특별시  11020     중구                 1.000000   \n",
       "\n",
       "   시가지면적 대비 방문객 수 정규화  전체 식당대비 안심식당 수 정규화     교통안전성    숙박안전성  ...    위험성 지표  \\\n",
       "0            0.535179            0.072467  0.154472  0.27853  ...  0.548576   \n",
       "1            0.689380            0.000879  0.195122  0.55268  ...  0.844690   \n",
       "\n",
       "     인프라 지표  위+인+관 지수  1일 방문자 정규화  순서정렬        지역명  Unnamed: 18 Unnamed: 19  \\\n",
       "0  0.187925  7.757227       0.328     1  서울특별시 종로구          NaN         NaN   \n",
       "1  0.187170  7.161978       0.326     2   서울특별시 중구          NaN         NaN   \n",
       "\n",
       "   Unnamed: 20  Unnamed: 21  \n",
       "0          NaN          NaN  \n",
       "1          NaN          NaN  \n",
       "\n",
       "[2 rows x 22 columns]"
      ]
     },
     "execution_count": 10,
     "metadata": {},
     "output_type": "execute_result"
    }
   ],
   "source": [
    "index = pd.read_excel('진짜최종.xlsx')\n",
    "index.head(2)"
   ]
  },
  {
   "cell_type": "code",
   "execution_count": 11,
   "id": "39a2785e",
   "metadata": {},
   "outputs": [
    {
     "data": {
      "text/plain": [
       "Index(['Unnamed: 0', '시도코드', '시도명칭', '시군구코드', '시군구명칭2',\n",
       "       '시군구 인구 대비 평균 확진자 수 정규화 ', '시가지면적 대비 방문객 수 정규화', '전체 식당대비 안심식당 수 정규화',\n",
       "       '교통안전성', '숙박안전성', '자연관광지 정규화', '검색량 정규화', '위험성 지표', '인프라 지표',\n",
       "       '위+인+관 지수', '1일 방문자 정규화', '순서정렬', '지역명', 'Unnamed: 18', 'Unnamed: 19',\n",
       "       'Unnamed: 20', 'Unnamed: 21'],\n",
       "      dtype='object')"
      ]
     },
     "execution_count": 11,
     "metadata": {},
     "output_type": "execute_result"
    }
   ],
   "source": [
    "index.columns"
   ]
  },
  {
   "cell_type": "code",
   "execution_count": 12,
   "id": "892431b8",
   "metadata": {},
   "outputs": [
    {
     "data": {
      "text/html": [
       "<div>\n",
       "<style scoped>\n",
       "    .dataframe tbody tr th:only-of-type {\n",
       "        vertical-align: middle;\n",
       "    }\n",
       "\n",
       "    .dataframe tbody tr th {\n",
       "        vertical-align: top;\n",
       "    }\n",
       "\n",
       "    .dataframe thead th {\n",
       "        text-align: right;\n",
       "    }\n",
       "</style>\n",
       "<table border=\"1\" class=\"dataframe\">\n",
       "  <thead>\n",
       "    <tr style=\"text-align: right;\">\n",
       "      <th></th>\n",
       "      <th>시군구명칭2</th>\n",
       "      <th>시군구 인구 대비 평균 확진자 수 정규화</th>\n",
       "      <th>시가지면적 대비 방문객 수 정규화</th>\n",
       "      <th>전체 식당대비 안심식당 수 정규화</th>\n",
       "      <th>교통안전성</th>\n",
       "      <th>숙박안전성</th>\n",
       "      <th>자연관광지 정규화</th>\n",
       "      <th>검색량 정규화</th>\n",
       "      <th>위험성 지표</th>\n",
       "      <th>인프라 지표</th>\n",
       "      <th>위+인+관 지수</th>\n",
       "      <th>1일 방문자 정규화</th>\n",
       "      <th>지역명</th>\n",
       "    </tr>\n",
       "  </thead>\n",
       "  <tbody>\n",
       "    <tr>\n",
       "      <th>0</th>\n",
       "      <td>종로구</td>\n",
       "      <td>0.561973</td>\n",
       "      <td>0.535179</td>\n",
       "      <td>0.072467</td>\n",
       "      <td>0.154472</td>\n",
       "      <td>0.27853</td>\n",
       "      <td>0.246234</td>\n",
       "      <td>0.102677</td>\n",
       "      <td>0.548576</td>\n",
       "      <td>0.187925</td>\n",
       "      <td>7.757227</td>\n",
       "      <td>0.328</td>\n",
       "      <td>서울특별시 종로구</td>\n",
       "    </tr>\n",
       "    <tr>\n",
       "      <th>1</th>\n",
       "      <td>중구</td>\n",
       "      <td>1.000000</td>\n",
       "      <td>0.689380</td>\n",
       "      <td>0.000879</td>\n",
       "      <td>0.195122</td>\n",
       "      <td>0.55268</td>\n",
       "      <td>0.000000</td>\n",
       "      <td>0.102677</td>\n",
       "      <td>0.844690</td>\n",
       "      <td>0.187170</td>\n",
       "      <td>7.161978</td>\n",
       "      <td>0.326</td>\n",
       "      <td>서울특별시 중구</td>\n",
       "    </tr>\n",
       "    <tr>\n",
       "      <th>2</th>\n",
       "      <td>용산구</td>\n",
       "      <td>0.450761</td>\n",
       "      <td>0.398645</td>\n",
       "      <td>0.058183</td>\n",
       "      <td>0.186992</td>\n",
       "      <td>0.36017</td>\n",
       "      <td>0.000000</td>\n",
       "      <td>0.102677</td>\n",
       "      <td>0.424703</td>\n",
       "      <td>0.151336</td>\n",
       "      <td>7.858617</td>\n",
       "      <td>0.246</td>\n",
       "      <td>서울특별시 용산구</td>\n",
       "    </tr>\n",
       "    <tr>\n",
       "      <th>3</th>\n",
       "      <td>성동구</td>\n",
       "      <td>0.338809</td>\n",
       "      <td>0.259935</td>\n",
       "      <td>0.000000</td>\n",
       "      <td>0.463415</td>\n",
       "      <td>0.15575</td>\n",
       "      <td>0.000000</td>\n",
       "      <td>0.102677</td>\n",
       "      <td>0.299372</td>\n",
       "      <td>0.154791</td>\n",
       "      <td>8.123098</td>\n",
       "      <td>0.150</td>\n",
       "      <td>서울특별시 성동구</td>\n",
       "    </tr>\n",
       "    <tr>\n",
       "      <th>4</th>\n",
       "      <td>광진구</td>\n",
       "      <td>0.373741</td>\n",
       "      <td>0.327115</td>\n",
       "      <td>0.103948</td>\n",
       "      <td>0.227642</td>\n",
       "      <td>0.31577</td>\n",
       "      <td>0.000000</td>\n",
       "      <td>0.102677</td>\n",
       "      <td>0.350428</td>\n",
       "      <td>0.161840</td>\n",
       "      <td>8.049182</td>\n",
       "      <td>0.179</td>\n",
       "      <td>서울특별시 광진구</td>\n",
       "    </tr>\n",
       "  </tbody>\n",
       "</table>\n",
       "</div>"
      ],
      "text/plain": [
       "  시군구명칭2  시군구 인구 대비 평균 확진자 수 정규화   시가지면적 대비 방문객 수 정규화  전체 식당대비 안심식당 수 정규화  \\\n",
       "0    종로구                 0.561973            0.535179            0.072467   \n",
       "1     중구                 1.000000            0.689380            0.000879   \n",
       "2    용산구                 0.450761            0.398645            0.058183   \n",
       "3    성동구                 0.338809            0.259935            0.000000   \n",
       "4    광진구                 0.373741            0.327115            0.103948   \n",
       "\n",
       "      교통안전성    숙박안전성  자연관광지 정규화   검색량 정규화    위험성 지표    인프라 지표  위+인+관 지수  \\\n",
       "0  0.154472  0.27853   0.246234  0.102677  0.548576  0.187925  7.757227   \n",
       "1  0.195122  0.55268   0.000000  0.102677  0.844690  0.187170  7.161978   \n",
       "2  0.186992  0.36017   0.000000  0.102677  0.424703  0.151336  7.858617   \n",
       "3  0.463415  0.15575   0.000000  0.102677  0.299372  0.154791  8.123098   \n",
       "4  0.227642  0.31577   0.000000  0.102677  0.350428  0.161840  8.049182   \n",
       "\n",
       "   1일 방문자 정규화        지역명  \n",
       "0       0.328  서울특별시 종로구  \n",
       "1       0.326   서울특별시 중구  \n",
       "2       0.246  서울특별시 용산구  \n",
       "3       0.150  서울특별시 성동구  \n",
       "4       0.179  서울특별시 광진구  "
      ]
     },
     "execution_count": 12,
     "metadata": {},
     "output_type": "execute_result"
    }
   ],
   "source": [
    "# 필요없는 컬럼 제거\n",
    "index = index.drop(['Unnamed: 0', '시도코드', '시도명칭', '시군구코드', '순서정렬', 'Unnamed: 18', 'Unnamed: 19','Unnamed: 20', 'Unnamed: 21'], 1)\n",
    "index.head()"
   ]
  },
  {
   "cell_type": "code",
   "execution_count": 13,
   "id": "fd737fd1",
   "metadata": {},
   "outputs": [
    {
     "data": {
      "text/plain": [
       "Index(['시군구명칭2', '시군구 인구 대비 평균 확진자 수 정규화 ', '시가지면적 대비 방문객 수 정규화',\n",
       "       '전체 식당대비 안심식당 수 정규화', '교통안전성', '숙박안전성', '자연관광지 정규화', '검색량 정규화',\n",
       "       '위험성 지표', '인프라 지표', '위+인+관 지수', '1일 방문자 정규화', '지역명'],\n",
       "      dtype='object')"
      ]
     },
     "execution_count": 13,
     "metadata": {},
     "output_type": "execute_result"
    }
   ],
   "source": [
    "index.columns"
   ]
  },
  {
   "cell_type": "code",
   "execution_count": 14,
   "id": "5cbd4eec",
   "metadata": {},
   "outputs": [
    {
     "data": {
      "text/html": [
       "<div>\n",
       "<style scoped>\n",
       "    .dataframe tbody tr th:only-of-type {\n",
       "        vertical-align: middle;\n",
       "    }\n",
       "\n",
       "    .dataframe tbody tr th {\n",
       "        vertical-align: top;\n",
       "    }\n",
       "\n",
       "    .dataframe thead th {\n",
       "        text-align: right;\n",
       "    }\n",
       "</style>\n",
       "<table border=\"1\" class=\"dataframe\">\n",
       "  <thead>\n",
       "    <tr style=\"text-align: right;\">\n",
       "      <th></th>\n",
       "      <th>시군구명칭2</th>\n",
       "      <th>지역명</th>\n",
       "      <th>시군구 인구 대비 평균 확진자 수 정규화</th>\n",
       "      <th>시가지면적 대비 방문객 수 정규화</th>\n",
       "      <th>전체 식당대비 안심식당 수 정규화</th>\n",
       "      <th>교통안전성</th>\n",
       "      <th>숙박안전성</th>\n",
       "      <th>자연관광지 정규화</th>\n",
       "      <th>검색량 정규화</th>\n",
       "      <th>위험성 지표</th>\n",
       "      <th>인프라 지표</th>\n",
       "      <th>위+인+관 지수</th>\n",
       "      <th>1일 방문자 정규화</th>\n",
       "    </tr>\n",
       "  </thead>\n",
       "  <tbody>\n",
       "    <tr>\n",
       "      <th>0</th>\n",
       "      <td>종로구</td>\n",
       "      <td>서울특별시 종로구</td>\n",
       "      <td>0.561973</td>\n",
       "      <td>0.535179</td>\n",
       "      <td>0.072467</td>\n",
       "      <td>0.154472</td>\n",
       "      <td>0.27853</td>\n",
       "      <td>0.246234</td>\n",
       "      <td>0.102677</td>\n",
       "      <td>0.548576</td>\n",
       "      <td>0.187925</td>\n",
       "      <td>7.757227</td>\n",
       "      <td>0.328</td>\n",
       "    </tr>\n",
       "    <tr>\n",
       "      <th>1</th>\n",
       "      <td>중구</td>\n",
       "      <td>서울특별시 중구</td>\n",
       "      <td>1.000000</td>\n",
       "      <td>0.689380</td>\n",
       "      <td>0.000879</td>\n",
       "      <td>0.195122</td>\n",
       "      <td>0.55268</td>\n",
       "      <td>0.000000</td>\n",
       "      <td>0.102677</td>\n",
       "      <td>0.844690</td>\n",
       "      <td>0.187170</td>\n",
       "      <td>7.161978</td>\n",
       "      <td>0.326</td>\n",
       "    </tr>\n",
       "    <tr>\n",
       "      <th>2</th>\n",
       "      <td>용산구</td>\n",
       "      <td>서울특별시 용산구</td>\n",
       "      <td>0.450761</td>\n",
       "      <td>0.398645</td>\n",
       "      <td>0.058183</td>\n",
       "      <td>0.186992</td>\n",
       "      <td>0.36017</td>\n",
       "      <td>0.000000</td>\n",
       "      <td>0.102677</td>\n",
       "      <td>0.424703</td>\n",
       "      <td>0.151336</td>\n",
       "      <td>7.858617</td>\n",
       "      <td>0.246</td>\n",
       "    </tr>\n",
       "    <tr>\n",
       "      <th>3</th>\n",
       "      <td>성동구</td>\n",
       "      <td>서울특별시 성동구</td>\n",
       "      <td>0.338809</td>\n",
       "      <td>0.259935</td>\n",
       "      <td>0.000000</td>\n",
       "      <td>0.463415</td>\n",
       "      <td>0.15575</td>\n",
       "      <td>0.000000</td>\n",
       "      <td>0.102677</td>\n",
       "      <td>0.299372</td>\n",
       "      <td>0.154791</td>\n",
       "      <td>8.123098</td>\n",
       "      <td>0.150</td>\n",
       "    </tr>\n",
       "    <tr>\n",
       "      <th>4</th>\n",
       "      <td>광진구</td>\n",
       "      <td>서울특별시 광진구</td>\n",
       "      <td>0.373741</td>\n",
       "      <td>0.327115</td>\n",
       "      <td>0.103948</td>\n",
       "      <td>0.227642</td>\n",
       "      <td>0.31577</td>\n",
       "      <td>0.000000</td>\n",
       "      <td>0.102677</td>\n",
       "      <td>0.350428</td>\n",
       "      <td>0.161840</td>\n",
       "      <td>8.049182</td>\n",
       "      <td>0.179</td>\n",
       "    </tr>\n",
       "  </tbody>\n",
       "</table>\n",
       "</div>"
      ],
      "text/plain": [
       "  시군구명칭2        지역명  시군구 인구 대비 평균 확진자 수 정규화   시가지면적 대비 방문객 수 정규화  \\\n",
       "0    종로구  서울특별시 종로구                 0.561973            0.535179   \n",
       "1     중구   서울특별시 중구                 1.000000            0.689380   \n",
       "2    용산구  서울특별시 용산구                 0.450761            0.398645   \n",
       "3    성동구  서울특별시 성동구                 0.338809            0.259935   \n",
       "4    광진구  서울특별시 광진구                 0.373741            0.327115   \n",
       "\n",
       "   전체 식당대비 안심식당 수 정규화     교통안전성    숙박안전성  자연관광지 정규화   검색량 정규화    위험성 지표  \\\n",
       "0            0.072467  0.154472  0.27853   0.246234  0.102677  0.548576   \n",
       "1            0.000879  0.195122  0.55268   0.000000  0.102677  0.844690   \n",
       "2            0.058183  0.186992  0.36017   0.000000  0.102677  0.424703   \n",
       "3            0.000000  0.463415  0.15575   0.000000  0.102677  0.299372   \n",
       "4            0.103948  0.227642  0.31577   0.000000  0.102677  0.350428   \n",
       "\n",
       "     인프라 지표  위+인+관 지수  1일 방문자 정규화  \n",
       "0  0.187925  7.757227       0.328  \n",
       "1  0.187170  7.161978       0.326  \n",
       "2  0.151336  7.858617       0.246  \n",
       "3  0.154791  8.123098       0.150  \n",
       "4  0.161840  8.049182       0.179  "
      ]
     },
     "execution_count": 14,
     "metadata": {},
     "output_type": "execute_result"
    }
   ],
   "source": [
    "# 컬럼 순서 재배치\n",
    "index = index[['시군구명칭2', '지역명', '시군구 인구 대비 평균 확진자 수 정규화 ', '시가지면적 대비 방문객 수 정규화', '전체 식당대비 안심식당 수 정규화',\n",
    "       '교통안전성', '숙박안전성', '자연관광지 정규화', '검색량 정규화', '위험성 지표', '인프라 지표',\n",
    "       '위+인+관 지수', '1일 방문자 정규화']]\n",
    "index.head()"
   ]
  },
  {
   "cell_type": "code",
   "execution_count": 15,
   "id": "7ea68344",
   "metadata": {},
   "outputs": [],
   "source": [
    "# 한글 깨짐 없애기\n",
    "### 위험한 곳 TOP 20 시각화\n",
    "import matplotlib.pyplot as plt\n",
    "import platform \n",
    "import matplotlib\n",
    "\n",
    "# print(platform.system()) # 플랫폼 확인 \n",
    "\n",
    "# Window \n",
    "if platform.system() == 'Windows': \n",
    "    matplotlib.rc('font', family='Malgun Gothic') \n",
    "elif platform.system() == 'Darwin': # Mac \n",
    "    matplotlib.rc('font', family='AppleGothic') \n",
    "else: #linux \n",
    "    matplotlib.rc('font', family='NanumGothic') \n",
    "    \n",
    "# 그래프에 마이너스 표시가 되도록 변경 \n",
    "matplotlib.rcParams['axes.unicode_minus'] = False"
   ]
  },
  {
   "cell_type": "code",
   "execution_count": 16,
   "id": "40e1b1be",
   "metadata": {},
   "outputs": [
    {
     "data": {
      "text/html": [
       "<div>\n",
       "<style scoped>\n",
       "    .dataframe tbody tr th:only-of-type {\n",
       "        vertical-align: middle;\n",
       "    }\n",
       "\n",
       "    .dataframe tbody tr th {\n",
       "        vertical-align: top;\n",
       "    }\n",
       "\n",
       "    .dataframe thead th {\n",
       "        text-align: right;\n",
       "    }\n",
       "</style>\n",
       "<table border=\"1\" class=\"dataframe\">\n",
       "  <thead>\n",
       "    <tr style=\"text-align: right;\">\n",
       "      <th></th>\n",
       "      <th>지역명</th>\n",
       "      <th>시군구 인구 대비 평균 확진자 수 정규화</th>\n",
       "      <th>시가지면적 대비 방문객 수 정규화</th>\n",
       "      <th>전체 식당대비 안심식당 수 정규화</th>\n",
       "      <th>교통안전성</th>\n",
       "      <th>숙박안전성</th>\n",
       "      <th>자연관광지 정규화</th>\n",
       "      <th>검색량 정규화</th>\n",
       "    </tr>\n",
       "  </thead>\n",
       "  <tbody>\n",
       "    <tr>\n",
       "      <th>0</th>\n",
       "      <td>서울특별시 종로구</td>\n",
       "      <td>0.561973</td>\n",
       "      <td>0.535179</td>\n",
       "      <td>0.072467</td>\n",
       "      <td>0.154472</td>\n",
       "      <td>0.27853</td>\n",
       "      <td>0.246234</td>\n",
       "      <td>0.102677</td>\n",
       "    </tr>\n",
       "    <tr>\n",
       "      <th>1</th>\n",
       "      <td>서울특별시 중구</td>\n",
       "      <td>1.000000</td>\n",
       "      <td>0.689380</td>\n",
       "      <td>0.000879</td>\n",
       "      <td>0.195122</td>\n",
       "      <td>0.55268</td>\n",
       "      <td>0.000000</td>\n",
       "      <td>0.102677</td>\n",
       "    </tr>\n",
       "    <tr>\n",
       "      <th>2</th>\n",
       "      <td>서울특별시 용산구</td>\n",
       "      <td>0.450761</td>\n",
       "      <td>0.398645</td>\n",
       "      <td>0.058183</td>\n",
       "      <td>0.186992</td>\n",
       "      <td>0.36017</td>\n",
       "      <td>0.000000</td>\n",
       "      <td>0.102677</td>\n",
       "    </tr>\n",
       "    <tr>\n",
       "      <th>3</th>\n",
       "      <td>서울특별시 성동구</td>\n",
       "      <td>0.338809</td>\n",
       "      <td>0.259935</td>\n",
       "      <td>0.000000</td>\n",
       "      <td>0.463415</td>\n",
       "      <td>0.15575</td>\n",
       "      <td>0.000000</td>\n",
       "      <td>0.102677</td>\n",
       "    </tr>\n",
       "    <tr>\n",
       "      <th>4</th>\n",
       "      <td>서울특별시 광진구</td>\n",
       "      <td>0.373741</td>\n",
       "      <td>0.327115</td>\n",
       "      <td>0.103948</td>\n",
       "      <td>0.227642</td>\n",
       "      <td>0.31577</td>\n",
       "      <td>0.000000</td>\n",
       "      <td>0.102677</td>\n",
       "    </tr>\n",
       "  </tbody>\n",
       "</table>\n",
       "</div>"
      ],
      "text/plain": [
       "         지역명  시군구 인구 대비 평균 확진자 수 정규화   시가지면적 대비 방문객 수 정규화  전체 식당대비 안심식당 수 정규화  \\\n",
       "0  서울특별시 종로구                 0.561973            0.535179            0.072467   \n",
       "1   서울특별시 중구                 1.000000            0.689380            0.000879   \n",
       "2  서울특별시 용산구                 0.450761            0.398645            0.058183   \n",
       "3  서울특별시 성동구                 0.338809            0.259935            0.000000   \n",
       "4  서울특별시 광진구                 0.373741            0.327115            0.103948   \n",
       "\n",
       "      교통안전성    숙박안전성  자연관광지 정규화   검색량 정규화  \n",
       "0  0.154472  0.27853   0.246234  0.102677  \n",
       "1  0.195122  0.55268   0.000000  0.102677  \n",
       "2  0.186992  0.36017   0.000000  0.102677  \n",
       "3  0.463415  0.15575   0.000000  0.102677  \n",
       "4  0.227642  0.31577   0.000000  0.102677  "
      ]
     },
     "execution_count": 16,
     "metadata": {},
     "output_type": "execute_result"
    }
   ],
   "source": [
    "corr = index[['지역명', '시군구 인구 대비 평균 확진자 수 정규화 ', '시가지면적 대비 방문객 수 정규화', '전체 식당대비 안심식당 수 정규화',\n",
    "       '교통안전성', '숙박안전성', '자연관광지 정규화', '검색량 정규화']]\n",
    "corr.head()"
   ]
  },
  {
   "cell_type": "code",
   "execution_count": 17,
   "id": "0687dc48",
   "metadata": {},
   "outputs": [
    {
     "data": {
      "text/html": [
       "<div>\n",
       "<style scoped>\n",
       "    .dataframe tbody tr th:only-of-type {\n",
       "        vertical-align: middle;\n",
       "    }\n",
       "\n",
       "    .dataframe tbody tr th {\n",
       "        vertical-align: top;\n",
       "    }\n",
       "\n",
       "    .dataframe thead th {\n",
       "        text-align: right;\n",
       "    }\n",
       "</style>\n",
       "<table border=\"1\" class=\"dataframe\">\n",
       "  <thead>\n",
       "    <tr style=\"text-align: right;\">\n",
       "      <th></th>\n",
       "      <th>지역명</th>\n",
       "      <th>코로나 위험도</th>\n",
       "      <th>방문객 밀집도</th>\n",
       "      <th>식당 안심도</th>\n",
       "      <th>교통 안심도</th>\n",
       "      <th>숙박 안심도</th>\n",
       "      <th>야외관광 기회도</th>\n",
       "      <th>온라인 관심도</th>\n",
       "    </tr>\n",
       "  </thead>\n",
       "  <tbody>\n",
       "    <tr>\n",
       "      <th>0</th>\n",
       "      <td>서울특별시 종로구</td>\n",
       "      <td>0.561973</td>\n",
       "      <td>0.535179</td>\n",
       "      <td>0.072467</td>\n",
       "      <td>0.154472</td>\n",
       "      <td>0.27853</td>\n",
       "      <td>0.246234</td>\n",
       "      <td>0.102677</td>\n",
       "    </tr>\n",
       "    <tr>\n",
       "      <th>1</th>\n",
       "      <td>서울특별시 중구</td>\n",
       "      <td>1.000000</td>\n",
       "      <td>0.689380</td>\n",
       "      <td>0.000879</td>\n",
       "      <td>0.195122</td>\n",
       "      <td>0.55268</td>\n",
       "      <td>0.000000</td>\n",
       "      <td>0.102677</td>\n",
       "    </tr>\n",
       "  </tbody>\n",
       "</table>\n",
       "</div>"
      ],
      "text/plain": [
       "         지역명   코로나 위험도   방문객 밀집도    식당 안심도    교통 안심도   숙박 안심도  야외관광 기회도  \\\n",
       "0  서울특별시 종로구  0.561973  0.535179  0.072467  0.154472  0.27853  0.246234   \n",
       "1   서울특별시 중구  1.000000  0.689380  0.000879  0.195122  0.55268  0.000000   \n",
       "\n",
       "    온라인 관심도  \n",
       "0  0.102677  \n",
       "1  0.102677  "
      ]
     },
     "execution_count": 17,
     "metadata": {},
     "output_type": "execute_result"
    }
   ],
   "source": [
    "# 기존 사용하는 용어로 이름 변경\n",
    "corr = corr.rename(\n",
    "    columns={\n",
    "        '시군구 인구 대비 평균 확진자 수 정규화 ' : '코로나 위험도', \n",
    "        '시가지면적 대비 방문객 수 정규화' : '방문객 밀집도', \n",
    "        '전체 식당대비 안심식당 수 정규화' : '식당 안심도',\n",
    "        '교통안전성':'교통 안심도', \n",
    "        '숙박안전성':'숙박 안심도', \n",
    "        '자연관광지 정규화':'야외관광 기회도', \n",
    "        '검색량 정규화':'온라인 관심도'\n",
    "        \n",
    "    }\n",
    ")\n",
    "\n",
    "corr.head(2)"
   ]
  },
  {
   "cell_type": "code",
   "execution_count": 18,
   "id": "099eefa8",
   "metadata": {},
   "outputs": [
    {
     "data": {
      "text/plain": [
       "Index(['지역명', '코로나 위험도', '방문객 밀집도', '식당 안심도', '교통 안심도', '숙박 안심도', '야외관광 기회도',\n",
       "       '온라인 관심도'],\n",
       "      dtype='object')"
      ]
     },
     "execution_count": 18,
     "metadata": {},
     "output_type": "execute_result"
    }
   ],
   "source": [
    "corr.columns"
   ]
  },
  {
   "cell_type": "code",
   "execution_count": 19,
   "id": "c429e11c",
   "metadata": {},
   "outputs": [],
   "source": [
    "# # 시각화 모듈 임포트\n",
    "# import matplotlib.pyplot as plt\n",
    "# import seaborn as sns\n",
    "\n",
    "# # jupyter notebook 내 그래프를 바로 그리기 위한 설정\n",
    "# %matplotlib inline\n",
    "\n",
    "# # unicode minus를 사용하지 않기 위한 설정 (minus 깨짐현상 방지)\n",
    "# plt.rcParams['axes.unicode_minus'] = False\n",
    "\n",
    "# path = 'C:\\Users\\jai19\\Downloads\\NanumFontSetup_TTF_BARUNGOTHIC\\NanumBarunGothic.ttf'\n",
    "# font_name = fm.FontProperties(fname=path, size=50).get_name()\n",
    "# print(font_name)\n",
    "# plt.rc('font', family=font_name)\n",
    "\n",
    "# sns.pairplot(corr[['코로나 위험도', '방문객 밀집도', '식당 안심도', '교통 안심도', '숙박안전성', '야외관광 기회도',\n",
    "#        '온라인 관심도']])"
   ]
  },
  {
   "cell_type": "code",
   "execution_count": 20,
   "id": "7bb48e3d",
   "metadata": {},
   "outputs": [
    {
     "data": {
      "image/png": "[encoded data removed]",
      "text/plain": [
       "<Figure size 1080x720 with 2 Axes>"
      ]
     },
     "metadata": {
      "needs_background": "light"
     },
     "output_type": "display_data"
    }
   ],
   "source": [
    "import seaborn as sns\n",
    "\n",
    "# Window \n",
    "if platform.system() == 'Windows': \n",
    "    matplotlib.rc('font', family='Malgun Gothic') \n",
    "elif platform.system() == 'Darwin': # Mac \n",
    "    matplotlib.rc('font', family='AppleGothic') \n",
    "else: #linux \n",
    "    matplotlib.rc('font', family='NanumGothic') \n",
    "    \n",
    "# 그래프에 마이너스 표시가 되도록 변경 \n",
    "matplotlib.rcParams['axes.unicode_minus'] = False\n",
    "cor = corr.corr(method='pearson')\n",
    "\n",
    "\n",
    "plt.figure(figsize=(15,10))\n",
    "# sns.set(font_scale=1.3)\n",
    "plt.xticks(fontsize = 15, rotation = -45)\n",
    "plt.yticks(fontsize = 15)\n",
    "sns.heatmap(cor, annot=True, annot_kws={\"fontsize\": 15}, cmap=\"YlGnBu\")\n",
    "plt.show()"
   ]
  },
  {
   "cell_type": "markdown",
   "id": "defb001a",
   "metadata": {},
   "source": [
    "### 산점도 행렬"
   ]
  },
  {
   "cell_type": "code",
   "execution_count": 21,
   "id": "e215af5e",
   "metadata": {},
   "outputs": [
    {
     "data": {
      "text/plain": [
       "<seaborn.axisgrid.PairGrid at 0x244bec8dcd0>"
      ]
     },
     "execution_count": 21,
     "metadata": {},
     "output_type": "execute_result"
    },
    {
     "data": {
      "image/png": "[encoded data removed]",
      "text/plain": [
       "<Figure size 1260x1260 with 56 Axes>"
      ]
     },
     "metadata": {
      "needs_background": "light"
     },
     "output_type": "display_data"
    }
   ],
   "source": [
    "sns.pairplot(corr)"
   ]
  },
  {
   "cell_type": "markdown",
   "id": "f2a09833",
   "metadata": {},
   "source": [
    "### 지표 boxplot"
   ]
  },
  {
   "cell_type": "code",
   "execution_count": 22,
   "id": "504367be",
   "metadata": {},
   "outputs": [
    {
     "data": {
      "text/html": [
       "<div>\n",
       "<style scoped>\n",
       "    .dataframe tbody tr th:only-of-type {\n",
       "        vertical-align: middle;\n",
       "    }\n",
       "\n",
       "    .dataframe tbody tr th {\n",
       "        vertical-align: top;\n",
       "    }\n",
       "\n",
       "    .dataframe thead th {\n",
       "        text-align: right;\n",
       "    }\n",
       "</style>\n",
       "<table border=\"1\" class=\"dataframe\">\n",
       "  <thead>\n",
       "    <tr style=\"text-align: right;\">\n",
       "      <th></th>\n",
       "      <th>시군구명칭2</th>\n",
       "      <th>지역명</th>\n",
       "      <th>시군구 인구 대비 평균 확진자 수 정규화</th>\n",
       "      <th>시가지면적 대비 방문객 수 정규화</th>\n",
       "      <th>전체 식당대비 안심식당 수 정규화</th>\n",
       "      <th>교통안전성</th>\n",
       "      <th>숙박안전성</th>\n",
       "      <th>자연관광지 정규화</th>\n",
       "      <th>검색량 정규화</th>\n",
       "      <th>위험성 지표</th>\n",
       "      <th>인프라 지표</th>\n",
       "      <th>위+인+관 지수</th>\n",
       "      <th>1일 방문자 정규화</th>\n",
       "    </tr>\n",
       "  </thead>\n",
       "  <tbody>\n",
       "    <tr>\n",
       "      <th>0</th>\n",
       "      <td>종로구</td>\n",
       "      <td>서울특별시 종로구</td>\n",
       "      <td>0.561973</td>\n",
       "      <td>0.535179</td>\n",
       "      <td>0.072467</td>\n",
       "      <td>0.154472</td>\n",
       "      <td>0.27853</td>\n",
       "      <td>0.246234</td>\n",
       "      <td>0.102677</td>\n",
       "      <td>0.548576</td>\n",
       "      <td>0.187925</td>\n",
       "      <td>7.757227</td>\n",
       "      <td>0.328</td>\n",
       "    </tr>\n",
       "    <tr>\n",
       "      <th>1</th>\n",
       "      <td>중구</td>\n",
       "      <td>서울특별시 중구</td>\n",
       "      <td>1.000000</td>\n",
       "      <td>0.689380</td>\n",
       "      <td>0.000879</td>\n",
       "      <td>0.195122</td>\n",
       "      <td>0.55268</td>\n",
       "      <td>0.000000</td>\n",
       "      <td>0.102677</td>\n",
       "      <td>0.844690</td>\n",
       "      <td>0.187170</td>\n",
       "      <td>7.161978</td>\n",
       "      <td>0.326</td>\n",
       "    </tr>\n",
       "  </tbody>\n",
       "</table>\n",
       "</div>"
      ],
      "text/plain": [
       "  시군구명칭2        지역명  시군구 인구 대비 평균 확진자 수 정규화   시가지면적 대비 방문객 수 정규화  \\\n",
       "0    종로구  서울특별시 종로구                 0.561973            0.535179   \n",
       "1     중구   서울특별시 중구                 1.000000            0.689380   \n",
       "\n",
       "   전체 식당대비 안심식당 수 정규화     교통안전성    숙박안전성  자연관광지 정규화   검색량 정규화    위험성 지표  \\\n",
       "0            0.072467  0.154472  0.27853   0.246234  0.102677  0.548576   \n",
       "1            0.000879  0.195122  0.55268   0.000000  0.102677  0.844690   \n",
       "\n",
       "     인프라 지표  위+인+관 지수  1일 방문자 정규화  \n",
       "0  0.187925  7.757227       0.328  \n",
       "1  0.187170  7.161978       0.326  "
      ]
     },
     "execution_count": 22,
     "metadata": {},
     "output_type": "execute_result"
    }
   ],
   "source": [
    "index.head(2)"
   ]
  },
  {
   "cell_type": "code",
   "execution_count": 23,
   "id": "a004ee2a",
   "metadata": {},
   "outputs": [
    {
     "data": {
      "text/plain": [
       "Index(['시군구명칭2', '지역명', '시군구 인구 대비 평균 확진자 수 정규화 ', '시가지면적 대비 방문객 수 정규화',\n",
       "       '전체 식당대비 안심식당 수 정규화', '교통안전성', '숙박안전성', '자연관광지 정규화', '검색량 정규화',\n",
       "       '위험성 지표', '인프라 지표', '위+인+관 지수', '1일 방문자 정규화'],\n",
       "      dtype='object')"
      ]
     },
     "execution_count": 23,
     "metadata": {},
     "output_type": "execute_result"
    }
   ],
   "source": [
    "index.columns"
   ]
  },
  {
   "cell_type": "code",
   "execution_count": 24,
   "id": "c66feb29",
   "metadata": {},
   "outputs": [
    {
     "data": {
      "text/html": [
       "<div>\n",
       "<style scoped>\n",
       "    .dataframe tbody tr th:only-of-type {\n",
       "        vertical-align: middle;\n",
       "    }\n",
       "\n",
       "    .dataframe tbody tr th {\n",
       "        vertical-align: top;\n",
       "    }\n",
       "\n",
       "    .dataframe thead th {\n",
       "        text-align: right;\n",
       "    }\n",
       "</style>\n",
       "<table border=\"1\" class=\"dataframe\">\n",
       "  <thead>\n",
       "    <tr style=\"text-align: right;\">\n",
       "      <th></th>\n",
       "      <th>시군구 인구 대비 평균 확진자 수 정규화</th>\n",
       "      <th>시가지면적 대비 방문객 수 정규화</th>\n",
       "      <th>전체 식당대비 안심식당 수 정규화</th>\n",
       "      <th>교통안전성</th>\n",
       "      <th>숙박안전성</th>\n",
       "      <th>자연관광지 정규화</th>\n",
       "      <th>검색량 정규화</th>\n",
       "    </tr>\n",
       "  </thead>\n",
       "  <tbody>\n",
       "    <tr>\n",
       "      <th>0</th>\n",
       "      <td>0.561973</td>\n",
       "      <td>0.535179</td>\n",
       "      <td>0.072467</td>\n",
       "      <td>0.154472</td>\n",
       "      <td>0.27853</td>\n",
       "      <td>0.246234</td>\n",
       "      <td>0.102677</td>\n",
       "    </tr>\n",
       "    <tr>\n",
       "      <th>1</th>\n",
       "      <td>1.000000</td>\n",
       "      <td>0.689380</td>\n",
       "      <td>0.000879</td>\n",
       "      <td>0.195122</td>\n",
       "      <td>0.55268</td>\n",
       "      <td>0.000000</td>\n",
       "      <td>0.102677</td>\n",
       "    </tr>\n",
       "  </tbody>\n",
       "</table>\n",
       "</div>"
      ],
      "text/plain": [
       "   시군구 인구 대비 평균 확진자 수 정규화   시가지면적 대비 방문객 수 정규화  전체 식당대비 안심식당 수 정규화     교통안전성  \\\n",
       "0                 0.561973            0.535179            0.072467  0.154472   \n",
       "1                 1.000000            0.689380            0.000879  0.195122   \n",
       "\n",
       "     숙박안전성  자연관광지 정규화   검색량 정규화  \n",
       "0  0.27853   0.246234  0.102677  \n",
       "1  0.55268   0.000000  0.102677  "
      ]
     },
     "execution_count": 24,
     "metadata": {},
     "output_type": "execute_result"
    }
   ],
   "source": [
    "# 필요없는 컬럼 제거\n",
    "box = index.drop(['시군구명칭2', '지역명', '위험성 지표', '인프라 지표', '위+인+관 지수', '1일 방문자 정규화'],1)\n",
    "box.head(2)"
   ]
  },
  {
   "cell_type": "code",
   "execution_count": 25,
   "id": "6bc40e47",
   "metadata": {},
   "outputs": [
    {
     "data": {
      "text/plain": [
       "Index(['시군구 인구 대비 평균 확진자 수 정규화 ', '시가지면적 대비 방문객 수 정규화', '전체 식당대비 안심식당 수 정규화',\n",
       "       '교통안전성', '숙박안전성', '자연관광지 정규화', '검색량 정규화'],\n",
       "      dtype='object')"
      ]
     },
     "execution_count": 25,
     "metadata": {},
     "output_type": "execute_result"
    }
   ],
   "source": [
    "box.columns"
   ]
  },
  {
   "cell_type": "code",
   "execution_count": 26,
   "id": "e5ad5787",
   "metadata": {},
   "outputs": [
    {
     "data": {
      "text/html": [
       "<div>\n",
       "<style scoped>\n",
       "    .dataframe tbody tr th:only-of-type {\n",
       "        vertical-align: middle;\n",
       "    }\n",
       "\n",
       "    .dataframe tbody tr th {\n",
       "        vertical-align: top;\n",
       "    }\n",
       "\n",
       "    .dataframe thead th {\n",
       "        text-align: right;\n",
       "    }\n",
       "</style>\n",
       "<table border=\"1\" class=\"dataframe\">\n",
       "  <thead>\n",
       "    <tr style=\"text-align: right;\">\n",
       "      <th></th>\n",
       "      <th>코로나 위험도</th>\n",
       "      <th>방문객 밀집도</th>\n",
       "      <th>식당 안심도</th>\n",
       "      <th>교통 안심도</th>\n",
       "      <th>숙박 안심도</th>\n",
       "      <th>야외관광 기회도</th>\n",
       "      <th>온라인 관심도</th>\n",
       "    </tr>\n",
       "  </thead>\n",
       "  <tbody>\n",
       "    <tr>\n",
       "      <th>0</th>\n",
       "      <td>0.561973</td>\n",
       "      <td>0.535179</td>\n",
       "      <td>0.072467</td>\n",
       "      <td>0.154472</td>\n",
       "      <td>0.27853</td>\n",
       "      <td>0.246234</td>\n",
       "      <td>0.102677</td>\n",
       "    </tr>\n",
       "    <tr>\n",
       "      <th>1</th>\n",
       "      <td>1.000000</td>\n",
       "      <td>0.689380</td>\n",
       "      <td>0.000879</td>\n",
       "      <td>0.195122</td>\n",
       "      <td>0.55268</td>\n",
       "      <td>0.000000</td>\n",
       "      <td>0.102677</td>\n",
       "    </tr>\n",
       "  </tbody>\n",
       "</table>\n",
       "</div>"
      ],
      "text/plain": [
       "    코로나 위험도   방문객 밀집도    식당 안심도    교통 안심도   숙박 안심도  야외관광 기회도   온라인 관심도\n",
       "0  0.561973  0.535179  0.072467  0.154472  0.27853  0.246234  0.102677\n",
       "1  1.000000  0.689380  0.000879  0.195122  0.55268  0.000000  0.102677"
      ]
     },
     "execution_count": 26,
     "metadata": {},
     "output_type": "execute_result"
    }
   ],
   "source": [
    "# 용어 통일\n",
    "box = box.rename(\n",
    "    columns={\n",
    "        '시군구 인구 대비 평균 확진자 수 정규화 ' : '코로나 위험도', \n",
    "        '시가지면적 대비 방문객 수 정규화' : '방문객 밀집도', \n",
    "        '전체 식당대비 안심식당 수 정규화' : '식당 안심도',\n",
    "        '교통안전성':'교통 안심도', \n",
    "        '숙박안전성':'숙박 안심도', \n",
    "        '자연관광지 정규화':'야외관광 기회도', \n",
    "        '검색량 정규화':'온라인 관심도'\n",
    "        \n",
    "    }\n",
    ")\n",
    "\n",
    "box.head(2)"
   ]
  },
  {
   "cell_type": "code",
   "execution_count": 27,
   "id": "9b236cc7",
   "metadata": {},
   "outputs": [
    {
     "data": {
      "image/png": "[encoded data removed]",
      "text/plain": [
       "<Figure size 1080x720 with 1 Axes>"
      ]
     },
     "metadata": {},
     "output_type": "display_data"
    }
   ],
   "source": [
    "# 패키지 불러오기\n",
    "import matplotlib.pyplot as plt\n",
    "%matplotlib inline\n",
    "import seaborn as sns\n",
    "import numpy as np\n",
    "\n",
    "\n",
    "# 화면 스타일 설정하기\n",
    "sns.set_style(\"whitegrid\")\n",
    "\n",
    "\n",
    "#한글 깨짐 방지\n",
    "# Window \n",
    "if platform.system() == 'Windows': \n",
    "    matplotlib.rc('font', family='Malgun Gothic') \n",
    "elif platform.system() == 'Darwin': # Mac \n",
    "    matplotlib.rc('font', family='AppleGothic') \n",
    "else: #linux \n",
    "    matplotlib.rc('font', family='NanumGothic') \n",
    "    \n",
    "# 그래프에 마이너스 표시가 되도록 변경 \n",
    "matplotlib.rcParams['axes.unicode_minus'] = False\n",
    "\n",
    "\n",
    "\n",
    "#boxplot\n",
    "plt.figure(figsize=(15,10))\n",
    "sns.boxplot(data=box,palette = \"Set3\")\n",
    "plt.xticks(fontsize = 17)\n",
    "plt.yticks(fontsize = 17)\n",
    "plt.show()\n",
    "\n",
    "#1.0 라벨링"
   ]
  },
  {
   "cell_type": "markdown",
   "id": "fd9f91d8",
   "metadata": {},
   "source": [
    "### PCA"
   ]
  },
  {
   "cell_type": "code",
   "execution_count": 28,
   "id": "3565a82a",
   "metadata": {},
   "outputs": [
    {
     "data": {
      "text/html": [
       "<div>\n",
       "<style scoped>\n",
       "    .dataframe tbody tr th:only-of-type {\n",
       "        vertical-align: middle;\n",
       "    }\n",
       "\n",
       "    .dataframe tbody tr th {\n",
       "        vertical-align: top;\n",
       "    }\n",
       "\n",
       "    .dataframe thead th {\n",
       "        text-align: right;\n",
       "    }\n",
       "</style>\n",
       "<table border=\"1\" class=\"dataframe\">\n",
       "  <thead>\n",
       "    <tr style=\"text-align: right;\">\n",
       "      <th></th>\n",
       "      <th>코로나 위험도</th>\n",
       "      <th>방문객 밀집도</th>\n",
       "      <th>식당 안심도</th>\n",
       "      <th>교통 안심도</th>\n",
       "      <th>숙박 안심도</th>\n",
       "      <th>야외관광 기회도</th>\n",
       "      <th>온라인 관심도</th>\n",
       "    </tr>\n",
       "  </thead>\n",
       "  <tbody>\n",
       "    <tr>\n",
       "      <th>0</th>\n",
       "      <td>0.561973</td>\n",
       "      <td>0.535179</td>\n",
       "      <td>0.072467</td>\n",
       "      <td>0.154472</td>\n",
       "      <td>0.27853</td>\n",
       "      <td>0.246234</td>\n",
       "      <td>0.102677</td>\n",
       "    </tr>\n",
       "    <tr>\n",
       "      <th>1</th>\n",
       "      <td>1.000000</td>\n",
       "      <td>0.689380</td>\n",
       "      <td>0.000879</td>\n",
       "      <td>0.195122</td>\n",
       "      <td>0.55268</td>\n",
       "      <td>0.000000</td>\n",
       "      <td>0.102677</td>\n",
       "    </tr>\n",
       "    <tr>\n",
       "      <th>2</th>\n",
       "      <td>0.450761</td>\n",
       "      <td>0.398645</td>\n",
       "      <td>0.058183</td>\n",
       "      <td>0.186992</td>\n",
       "      <td>0.36017</td>\n",
       "      <td>0.000000</td>\n",
       "      <td>0.102677</td>\n",
       "    </tr>\n",
       "    <tr>\n",
       "      <th>3</th>\n",
       "      <td>0.338809</td>\n",
       "      <td>0.259935</td>\n",
       "      <td>0.000000</td>\n",
       "      <td>0.463415</td>\n",
       "      <td>0.15575</td>\n",
       "      <td>0.000000</td>\n",
       "      <td>0.102677</td>\n",
       "    </tr>\n",
       "    <tr>\n",
       "      <th>4</th>\n",
       "      <td>0.373741</td>\n",
       "      <td>0.327115</td>\n",
       "      <td>0.103948</td>\n",
       "      <td>0.227642</td>\n",
       "      <td>0.31577</td>\n",
       "      <td>0.000000</td>\n",
       "      <td>0.102677</td>\n",
       "    </tr>\n",
       "  </tbody>\n",
       "</table>\n",
       "</div>"
      ],
      "text/plain": [
       "    코로나 위험도   방문객 밀집도    식당 안심도    교통 안심도   숙박 안심도  야외관광 기회도   온라인 관심도\n",
       "0  0.561973  0.535179  0.072467  0.154472  0.27853  0.246234  0.102677\n",
       "1  1.000000  0.689380  0.000879  0.195122  0.55268  0.000000  0.102677\n",
       "2  0.450761  0.398645  0.058183  0.186992  0.36017  0.000000  0.102677\n",
       "3  0.338809  0.259935  0.000000  0.463415  0.15575  0.000000  0.102677\n",
       "4  0.373741  0.327115  0.103948  0.227642  0.31577  0.000000  0.102677"
      ]
     },
     "execution_count": 28,
     "metadata": {},
     "output_type": "execute_result"
    }
   ],
   "source": [
    "import numpy as np\n",
    "import pandas as pd\n",
    "from sklearn.datasets import load_iris\n",
    "import pandas as pd\n",
    "import numpy as np\n",
    "\n",
    "box.head()"
   ]
  },
  {
   "cell_type": "code",
   "execution_count": 29,
   "id": "e72b8bc8",
   "metadata": {},
   "outputs": [
    {
     "name": "stdout",
     "output_type": "stream",
     "text": [
      "[0.28984072 0.18698425 0.15597446]\n"
     ]
    }
   ],
   "source": [
    "from sklearn.decomposition import PCA\n",
    "\n",
    "# PCA\n",
    "pca = PCA(n_components=3)\n",
    "pca_fit = pca.fit(box)\n",
    "\n",
    "# 주성분 분산합 출력\n",
    "print(pca.explained_variance_ratio_)"
   ]
  },
  {
   "cell_type": "code",
   "execution_count": 30,
   "id": "beed5aea",
   "metadata": {},
   "outputs": [
    {
     "data": {
      "text/plain": [
       "[<matplotlib.lines.Line2D at 0x244c4e23ca0>]"
      ]
     },
     "execution_count": 30,
     "metadata": {},
     "output_type": "execute_result"
    },
    {
     "data": {
      "image/png": "[encoded data removed]",
      "text/plain": [
       "<Figure size 1080x720 with 1 Axes>"
      ]
     },
     "metadata": {},
     "output_type": "display_data"
    }
   ],
   "source": [
    "plt.figure(figsize=(15,10))\n",
    "plt.xticks(fontsize = 17)\n",
    "plt.yticks(fontsize = 17)\n",
    "plt.title('Scree Plot', fontsize=17)\n",
    "plt.xlabel('Number of Components', fontsize=17)\n",
    "plt.ylabel('Cumulative Explained Variance', fontsize=17)\n",
    "plt.plot(pca.explained_variance_, 'o-')"
   ]
  },
  {
   "cell_type": "markdown",
   "id": "668d3afc",
   "metadata": {},
   "source": [
    "### 버블 차트 그리기"
   ]
  },
  {
   "cell_type": "code",
   "execution_count": 31,
   "id": "9f42cdf3",
   "metadata": {},
   "outputs": [
    {
     "data": {
      "text/html": [
       "<div>\n",
       "<style scoped>\n",
       "    .dataframe tbody tr th:only-of-type {\n",
       "        vertical-align: middle;\n",
       "    }\n",
       "\n",
       "    .dataframe tbody tr th {\n",
       "        vertical-align: top;\n",
       "    }\n",
       "\n",
       "    .dataframe thead th {\n",
       "        text-align: right;\n",
       "    }\n",
       "</style>\n",
       "<table border=\"1\" class=\"dataframe\">\n",
       "  <thead>\n",
       "    <tr style=\"text-align: right;\">\n",
       "      <th></th>\n",
       "      <th>시군구명칭2</th>\n",
       "      <th>지역명</th>\n",
       "      <th>시군구 인구 대비 평균 확진자 수 정규화</th>\n",
       "      <th>시가지면적 대비 방문객 수 정규화</th>\n",
       "      <th>전체 식당대비 안심식당 수 정규화</th>\n",
       "      <th>교통안전성</th>\n",
       "      <th>숙박안전성</th>\n",
       "      <th>자연관광지 정규화</th>\n",
       "      <th>검색량 정규화</th>\n",
       "      <th>위험성 지표</th>\n",
       "      <th>인프라 지표</th>\n",
       "      <th>위+인+관 지수</th>\n",
       "      <th>1일 방문자 정규화</th>\n",
       "    </tr>\n",
       "  </thead>\n",
       "  <tbody>\n",
       "    <tr>\n",
       "      <th>165</th>\n",
       "      <td>여수시</td>\n",
       "      <td>전라남도 여수시</td>\n",
       "      <td>0.061082</td>\n",
       "      <td>0.006846</td>\n",
       "      <td>0.080257</td>\n",
       "      <td>0.308943</td>\n",
       "      <td>0.52311</td>\n",
       "      <td>0.598362</td>\n",
       "      <td>0.417249</td>\n",
       "      <td>0.033964</td>\n",
       "      <td>0.377668</td>\n",
       "      <td>9.859993</td>\n",
       "      <td>0.245</td>\n",
       "    </tr>\n",
       "    <tr>\n",
       "      <th>210</th>\n",
       "      <td>통영시</td>\n",
       "      <td>경상남도 통영시</td>\n",
       "      <td>0.043131</td>\n",
       "      <td>0.046634</td>\n",
       "      <td>0.119189</td>\n",
       "      <td>0.138211</td>\n",
       "      <td>0.72416</td>\n",
       "      <td>0.670021</td>\n",
       "      <td>0.157988</td>\n",
       "      <td>0.044883</td>\n",
       "      <td>0.412895</td>\n",
       "      <td>9.719804</td>\n",
       "      <td>0.131</td>\n",
       "    </tr>\n",
       "  </tbody>\n",
       "</table>\n",
       "</div>"
      ],
      "text/plain": [
       "    시군구명칭2       지역명  시군구 인구 대비 평균 확진자 수 정규화   시가지면적 대비 방문객 수 정규화  \\\n",
       "165    여수시  전라남도 여수시                 0.061082            0.006846   \n",
       "210    통영시  경상남도 통영시                 0.043131            0.046634   \n",
       "\n",
       "     전체 식당대비 안심식당 수 정규화     교통안전성    숙박안전성  자연관광지 정규화   검색량 정규화    위험성 지표  \\\n",
       "165            0.080257  0.308943  0.52311   0.598362  0.417249  0.033964   \n",
       "210            0.119189  0.138211  0.72416   0.670021  0.157988  0.044883   \n",
       "\n",
       "       인프라 지표  위+인+관 지수  1일 방문자 정규화  \n",
       "165  0.377668  9.859993       0.245  \n",
       "210  0.412895  9.719804       0.131  "
      ]
     },
     "execution_count": 31,
     "metadata": {},
     "output_type": "execute_result"
    }
   ],
   "source": [
    "# 상위 top10\n",
    "top = index.sort_values(by='위+인+관 지수', ascending=False)\n",
    "top = top[top['위+인+관 지수'] > top['위+인+관 지수'].mean()+top['위+인+관 지수'].std()]\n",
    "top.head(2)"
   ]
  },
  {
   "cell_type": "code",
   "execution_count": 67,
   "id": "d79615d6",
   "metadata": {},
   "outputs": [
    {
     "data": {
      "text/html": [
       "<div>\n",
       "<style scoped>\n",
       "    .dataframe tbody tr th:only-of-type {\n",
       "        vertical-align: middle;\n",
       "    }\n",
       "\n",
       "    .dataframe tbody tr th {\n",
       "        vertical-align: top;\n",
       "    }\n",
       "\n",
       "    .dataframe thead th {\n",
       "        text-align: right;\n",
       "    }\n",
       "</style>\n",
       "<table border=\"1\" class=\"dataframe\">\n",
       "  <thead>\n",
       "    <tr style=\"text-align: right;\">\n",
       "      <th></th>\n",
       "      <th>시군구명칭</th>\n",
       "      <th>지역명</th>\n",
       "      <th>시군구 인구 대비 평균 확진자 수 정규화</th>\n",
       "      <th>시가지면적 대비 방문객 수 정규화</th>\n",
       "      <th>전체 식당대비 안심식당 수 정규화</th>\n",
       "      <th>교통안전성</th>\n",
       "      <th>숙박안전성</th>\n",
       "      <th>자연관광지 정규화</th>\n",
       "      <th>검색량 정규화</th>\n",
       "      <th>위험성 지표</th>\n",
       "      <th>인프라 지표</th>\n",
       "      <th>지수</th>\n",
       "      <th>1일 방문자 정규화</th>\n",
       "    </tr>\n",
       "  </thead>\n",
       "  <tbody>\n",
       "    <tr>\n",
       "      <th>165</th>\n",
       "      <td>여수시</td>\n",
       "      <td>전라남도 여수시</td>\n",
       "      <td>0.061082</td>\n",
       "      <td>0.006846</td>\n",
       "      <td>0.080257</td>\n",
       "      <td>0.308943</td>\n",
       "      <td>0.52311</td>\n",
       "      <td>0.598362</td>\n",
       "      <td>0.417249</td>\n",
       "      <td>0.033964</td>\n",
       "      <td>0.377668</td>\n",
       "      <td>9.859993</td>\n",
       "      <td>0.245</td>\n",
       "    </tr>\n",
       "    <tr>\n",
       "      <th>210</th>\n",
       "      <td>통영시</td>\n",
       "      <td>경상남도 통영시</td>\n",
       "      <td>0.043131</td>\n",
       "      <td>0.046634</td>\n",
       "      <td>0.119189</td>\n",
       "      <td>0.138211</td>\n",
       "      <td>0.72416</td>\n",
       "      <td>0.670021</td>\n",
       "      <td>0.157988</td>\n",
       "      <td>0.044883</td>\n",
       "      <td>0.412895</td>\n",
       "      <td>9.719804</td>\n",
       "      <td>0.131</td>\n",
       "    </tr>\n",
       "  </tbody>\n",
       "</table>\n",
       "</div>"
      ],
      "text/plain": [
       "    시군구명칭       지역명  시군구 인구 대비 평균 확진자 수 정규화   시가지면적 대비 방문객 수 정규화  \\\n",
       "165   여수시  전라남도 여수시                 0.061082            0.006846   \n",
       "210   통영시  경상남도 통영시                 0.043131            0.046634   \n",
       "\n",
       "     전체 식당대비 안심식당 수 정규화     교통안전성    숙박안전성  자연관광지 정규화   검색량 정규화    위험성 지표  \\\n",
       "165            0.080257  0.308943  0.52311   0.598362  0.417249  0.033964   \n",
       "210            0.119189  0.138211  0.72416   0.670021  0.157988  0.044883   \n",
       "\n",
       "       인프라 지표        지수  1일 방문자 정규화  \n",
       "165  0.377668  9.859993       0.245  \n",
       "210  0.412895  9.719804       0.131  "
      ]
     },
     "execution_count": 67,
     "metadata": {},
     "output_type": "execute_result"
    }
   ],
   "source": [
    "# 컬럼 이름 변경 및 컬럼 추가\n",
    "top10 = top.rename(\n",
    "    columns={\n",
    "        \"위+인+관 지수\" : \"지수\",\n",
    "        \"시군구명칭2\" : \"시군구명칭\"\n",
    "    }\n",
    ")\n",
    "top10.head(2)"
   ]
  },
  {
   "cell_type": "code",
   "execution_count": 68,
   "id": "c054e1ba",
   "metadata": {},
   "outputs": [
    {
     "data": {
      "text/html": [
       "<div>\n",
       "<style scoped>\n",
       "    .dataframe tbody tr th:only-of-type {\n",
       "        vertical-align: middle;\n",
       "    }\n",
       "\n",
       "    .dataframe tbody tr th {\n",
       "        vertical-align: top;\n",
       "    }\n",
       "\n",
       "    .dataframe thead th {\n",
       "        text-align: right;\n",
       "    }\n",
       "</style>\n",
       "<table border=\"1\" class=\"dataframe\">\n",
       "  <thead>\n",
       "    <tr style=\"text-align: right;\">\n",
       "      <th></th>\n",
       "      <th>시군구명칭</th>\n",
       "      <th>지역명</th>\n",
       "      <th>시군구 인구 대비 평균 확진자 수 정규화</th>\n",
       "      <th>시가지면적 대비 방문객 수 정규화</th>\n",
       "      <th>전체 식당대비 안심식당 수 정규화</th>\n",
       "      <th>교통안전성</th>\n",
       "      <th>숙박안전성</th>\n",
       "      <th>자연관광지 정규화</th>\n",
       "      <th>검색량 정규화</th>\n",
       "      <th>위험성 지표</th>\n",
       "      <th>인프라 지표</th>\n",
       "      <th>지수</th>\n",
       "      <th>1일 방문자 정규화</th>\n",
       "      <th>인프라</th>\n",
       "    </tr>\n",
       "  </thead>\n",
       "  <tbody>\n",
       "    <tr>\n",
       "      <th>165</th>\n",
       "      <td>여수시</td>\n",
       "      <td>전라남도 여수시</td>\n",
       "      <td>0.061082</td>\n",
       "      <td>0.006846</td>\n",
       "      <td>0.080257</td>\n",
       "      <td>0.308943</td>\n",
       "      <td>0.52311</td>\n",
       "      <td>0.598362</td>\n",
       "      <td>0.417249</td>\n",
       "      <td>0.033964</td>\n",
       "      <td>0.377668</td>\n",
       "      <td>9.859993</td>\n",
       "      <td>0.245</td>\n",
       "      <td>0.304103</td>\n",
       "    </tr>\n",
       "    <tr>\n",
       "      <th>210</th>\n",
       "      <td>통영시</td>\n",
       "      <td>경상남도 통영시</td>\n",
       "      <td>0.043131</td>\n",
       "      <td>0.046634</td>\n",
       "      <td>0.119189</td>\n",
       "      <td>0.138211</td>\n",
       "      <td>0.72416</td>\n",
       "      <td>0.670021</td>\n",
       "      <td>0.157988</td>\n",
       "      <td>0.044883</td>\n",
       "      <td>0.412895</td>\n",
       "      <td>9.719804</td>\n",
       "      <td>0.131</td>\n",
       "      <td>0.327187</td>\n",
       "    </tr>\n",
       "    <tr>\n",
       "      <th>227</th>\n",
       "      <td>제주시</td>\n",
       "      <td>제주특별자치도 제주시</td>\n",
       "      <td>0.023590</td>\n",
       "      <td>0.077213</td>\n",
       "      <td>0.097016</td>\n",
       "      <td>1.000000</td>\n",
       "      <td>0.53536</td>\n",
       "      <td>0.148052</td>\n",
       "      <td>0.009709</td>\n",
       "      <td>0.050401</td>\n",
       "      <td>0.445107</td>\n",
       "      <td>9.689334</td>\n",
       "      <td>0.672</td>\n",
       "      <td>0.544125</td>\n",
       "    </tr>\n",
       "    <tr>\n",
       "      <th>184</th>\n",
       "      <td>진도군</td>\n",
       "      <td>전라남도 진도군</td>\n",
       "      <td>0.050877</td>\n",
       "      <td>0.067713</td>\n",
       "      <td>0.217172</td>\n",
       "      <td>0.008130</td>\n",
       "      <td>0.32015</td>\n",
       "      <td>0.942692</td>\n",
       "      <td>0.056213</td>\n",
       "      <td>0.059295</td>\n",
       "      <td>0.372036</td>\n",
       "      <td>9.425768</td>\n",
       "      <td>0.021</td>\n",
       "      <td>0.181817</td>\n",
       "    </tr>\n",
       "    <tr>\n",
       "      <th>208</th>\n",
       "      <td>울릉군</td>\n",
       "      <td>경상북도 울릉군</td>\n",
       "      <td>0.039431</td>\n",
       "      <td>0.065569</td>\n",
       "      <td>0.037157</td>\n",
       "      <td>0.032520</td>\n",
       "      <td>0.44329</td>\n",
       "      <td>0.000000</td>\n",
       "      <td>1.000000</td>\n",
       "      <td>0.052500</td>\n",
       "      <td>0.128242</td>\n",
       "      <td>9.407968</td>\n",
       "      <td>0.003</td>\n",
       "      <td>0.170989</td>\n",
       "    </tr>\n",
       "  </tbody>\n",
       "</table>\n",
       "</div>"
      ],
      "text/plain": [
       "    시군구명칭          지역명  시군구 인구 대비 평균 확진자 수 정규화   시가지면적 대비 방문객 수 정규화  \\\n",
       "165   여수시     전라남도 여수시                 0.061082            0.006846   \n",
       "210   통영시     경상남도 통영시                 0.043131            0.046634   \n",
       "227   제주시  제주특별자치도 제주시                 0.023590            0.077213   \n",
       "184   진도군     전라남도 진도군                 0.050877            0.067713   \n",
       "208   울릉군     경상북도 울릉군                 0.039431            0.065569   \n",
       "\n",
       "     전체 식당대비 안심식당 수 정규화     교통안전성    숙박안전성  자연관광지 정규화   검색량 정규화    위험성 지표  \\\n",
       "165            0.080257  0.308943  0.52311   0.598362  0.417249  0.033964   \n",
       "210            0.119189  0.138211  0.72416   0.670021  0.157988  0.044883   \n",
       "227            0.097016  1.000000  0.53536   0.148052  0.009709  0.050401   \n",
       "184            0.217172  0.008130  0.32015   0.942692  0.056213  0.059295   \n",
       "208            0.037157  0.032520  0.44329   0.000000  1.000000  0.052500   \n",
       "\n",
       "       인프라 지표        지수  1일 방문자 정규화       인프라  \n",
       "165  0.377668  9.859993       0.245  0.304103  \n",
       "210  0.412895  9.719804       0.131  0.327187  \n",
       "227  0.445107  9.689334       0.672  0.544125  \n",
       "184  0.372036  9.425768       0.021  0.181817  \n",
       "208  0.128242  9.407968       0.003  0.170989  "
      ]
     },
     "execution_count": 68,
     "metadata": {},
     "output_type": "execute_result"
    }
   ],
   "source": [
    "# 식당+교통+숙박 컬럼 만들기\n",
    "top10['인프라'] = (top10['전체 식당대비 안심식당 수 정규화']+top10['교통안전성']+top10['숙박안전성']) / 3\n",
    "top10.head()"
   ]
  },
  {
   "cell_type": "code",
   "execution_count": 34,
   "id": "6efdd057",
   "metadata": {},
   "outputs": [
    {
     "data": {
      "text/html": [
       "<div>\n",
       "<style scoped>\n",
       "    .dataframe tbody tr th:only-of-type {\n",
       "        vertical-align: middle;\n",
       "    }\n",
       "\n",
       "    .dataframe tbody tr th {\n",
       "        vertical-align: top;\n",
       "    }\n",
       "\n",
       "    .dataframe thead th {\n",
       "        text-align: right;\n",
       "    }\n",
       "</style>\n",
       "<table border=\"1\" class=\"dataframe\">\n",
       "  <thead>\n",
       "    <tr style=\"text-align: right;\">\n",
       "      <th></th>\n",
       "      <th>시군구명칭</th>\n",
       "      <th>지역명</th>\n",
       "      <th>시군구 인구 대비 평균 확진자 수 정규화</th>\n",
       "      <th>시가지면적 대비 방문객 수 정규화</th>\n",
       "      <th>전체 식당대비 안심식당 수 정규화</th>\n",
       "      <th>교통안전성</th>\n",
       "      <th>숙박안전성</th>\n",
       "      <th>자연관광지 정규화</th>\n",
       "      <th>검색량 정규화</th>\n",
       "      <th>위험성 지표</th>\n",
       "      <th>인프라 지표</th>\n",
       "      <th>지수</th>\n",
       "      <th>1일 방문자 정규화</th>\n",
       "      <th>인프라</th>\n",
       "    </tr>\n",
       "  </thead>\n",
       "  <tbody>\n",
       "    <tr>\n",
       "      <th>165</th>\n",
       "      <td>여수시</td>\n",
       "      <td>전라남도 여수시</td>\n",
       "      <td>0.061082</td>\n",
       "      <td>0.006846</td>\n",
       "      <td>0.080257</td>\n",
       "      <td>0.308943</td>\n",
       "      <td>0.52311</td>\n",
       "      <td>0.598362</td>\n",
       "      <td>0.417249</td>\n",
       "      <td>0.033964</td>\n",
       "      <td>0.377668</td>\n",
       "      <td>9.859993</td>\n",
       "      <td>-0.245</td>\n",
       "      <td>0.304103</td>\n",
       "    </tr>\n",
       "    <tr>\n",
       "      <th>210</th>\n",
       "      <td>통영시</td>\n",
       "      <td>경상남도 통영시</td>\n",
       "      <td>0.043131</td>\n",
       "      <td>0.046634</td>\n",
       "      <td>0.119189</td>\n",
       "      <td>0.138211</td>\n",
       "      <td>0.72416</td>\n",
       "      <td>0.670021</td>\n",
       "      <td>0.157988</td>\n",
       "      <td>0.044883</td>\n",
       "      <td>0.412895</td>\n",
       "      <td>9.719804</td>\n",
       "      <td>-0.131</td>\n",
       "      <td>0.327187</td>\n",
       "    </tr>\n",
       "  </tbody>\n",
       "</table>\n",
       "</div>"
      ],
      "text/plain": [
       "    시군구명칭       지역명  시군구 인구 대비 평균 확진자 수 정규화   시가지면적 대비 방문객 수 정규화  \\\n",
       "165   여수시  전라남도 여수시                 0.061082            0.006846   \n",
       "210   통영시  경상남도 통영시                 0.043131            0.046634   \n",
       "\n",
       "     전체 식당대비 안심식당 수 정규화     교통안전성    숙박안전성  자연관광지 정규화   검색량 정규화    위험성 지표  \\\n",
       "165            0.080257  0.308943  0.52311   0.598362  0.417249  0.033964   \n",
       "210            0.119189  0.138211  0.72416   0.670021  0.157988  0.044883   \n",
       "\n",
       "       인프라 지표        지수  1일 방문자 정규화       인프라  \n",
       "165  0.377668  9.859993      -0.245  0.304103  \n",
       "210  0.412895  9.719804      -0.131  0.327187  "
      ]
     },
     "execution_count": 34,
     "metadata": {},
     "output_type": "execute_result"
    }
   ],
   "source": [
    "# 1일 방문자 음수로 만들기\n",
    "# top10['1일 방문자 정규화'] = (top10['1일 방문자 정규화'])*(-1)\n",
    "# top10.head(2)"
   ]
  },
  {
   "cell_type": "code",
   "execution_count": 56,
   "id": "2b79043e",
   "metadata": {},
   "outputs": [
    {
     "data": {
      "text/html": [
       "<div>\n",
       "<style scoped>\n",
       "    .dataframe tbody tr th:only-of-type {\n",
       "        vertical-align: middle;\n",
       "    }\n",
       "\n",
       "    .dataframe tbody tr th {\n",
       "        vertical-align: top;\n",
       "    }\n",
       "\n",
       "    .dataframe thead th {\n",
       "        text-align: right;\n",
       "    }\n",
       "</style>\n",
       "<table border=\"1\" class=\"dataframe\">\n",
       "  <thead>\n",
       "    <tr style=\"text-align: right;\">\n",
       "      <th></th>\n",
       "      <th>시군구명칭</th>\n",
       "      <th>지역명</th>\n",
       "      <th>시군구 인구 대비 평균 확진자 수 정규화</th>\n",
       "      <th>시가지면적 대비 방문객 수 정규화</th>\n",
       "      <th>전체 식당대비 안심식당 수 정규화</th>\n",
       "      <th>교통안전성</th>\n",
       "      <th>숙박안전성</th>\n",
       "      <th>자연관광지 정규화</th>\n",
       "      <th>검색량 정규화</th>\n",
       "      <th>위험성 지표</th>\n",
       "      <th>인프라 지표</th>\n",
       "      <th>지수</th>\n",
       "      <th>1일 방문자 정규화</th>\n",
       "      <th>인프라</th>\n",
       "      <th>1일 방문자 역수화</th>\n",
       "    </tr>\n",
       "  </thead>\n",
       "  <tbody>\n",
       "    <tr>\n",
       "      <th>165</th>\n",
       "      <td>여수시</td>\n",
       "      <td>전라남도 여수시</td>\n",
       "      <td>0.061082</td>\n",
       "      <td>0.006846</td>\n",
       "      <td>0.080257</td>\n",
       "      <td>0.308943</td>\n",
       "      <td>0.52311</td>\n",
       "      <td>0.598362</td>\n",
       "      <td>0.417249</td>\n",
       "      <td>0.033964</td>\n",
       "      <td>0.377668</td>\n",
       "      <td>9.859993</td>\n",
       "      <td>0.245</td>\n",
       "      <td>0.304103</td>\n",
       "      <td>4.081633</td>\n",
       "    </tr>\n",
       "    <tr>\n",
       "      <th>210</th>\n",
       "      <td>통영시</td>\n",
       "      <td>경상남도 통영시</td>\n",
       "      <td>0.043131</td>\n",
       "      <td>0.046634</td>\n",
       "      <td>0.119189</td>\n",
       "      <td>0.138211</td>\n",
       "      <td>0.72416</td>\n",
       "      <td>0.670021</td>\n",
       "      <td>0.157988</td>\n",
       "      <td>0.044883</td>\n",
       "      <td>0.412895</td>\n",
       "      <td>9.719804</td>\n",
       "      <td>0.131</td>\n",
       "      <td>0.327187</td>\n",
       "      <td>7.633588</td>\n",
       "    </tr>\n",
       "  </tbody>\n",
       "</table>\n",
       "</div>"
      ],
      "text/plain": [
       "    시군구명칭       지역명  시군구 인구 대비 평균 확진자 수 정규화   시가지면적 대비 방문객 수 정규화  \\\n",
       "165   여수시  전라남도 여수시                 0.061082            0.006846   \n",
       "210   통영시  경상남도 통영시                 0.043131            0.046634   \n",
       "\n",
       "     전체 식당대비 안심식당 수 정규화     교통안전성    숙박안전성  자연관광지 정규화   검색량 정규화    위험성 지표  \\\n",
       "165            0.080257  0.308943  0.52311   0.598362  0.417249  0.033964   \n",
       "210            0.119189  0.138211  0.72416   0.670021  0.157988  0.044883   \n",
       "\n",
       "       인프라 지표        지수  1일 방문자 정규화       인프라  1일 방문자 역수화  \n",
       "165  0.377668  9.859993       0.245  0.304103    4.081633  \n",
       "210  0.412895  9.719804       0.131  0.327187    7.633588  "
      ]
     },
     "execution_count": 56,
     "metadata": {},
     "output_type": "execute_result"
    }
   ],
   "source": [
    "# 1일 방문자 음수로 만들기\n",
    "# top10['1일 방문자 역수화'] = 1/(top10['1일 방문자 정규화'])\n",
    "# top10.head(2)"
   ]
  },
  {
   "cell_type": "code",
   "execution_count": 63,
   "id": "ecbee6ab",
   "metadata": {},
   "outputs": [
    {
     "name": "stdout",
     "output_type": "stream",
     "text": [
      "['rgb(102,194,165)', 'rgb(252,141,98)', 'rgb(141,160,203)', 'rgb(231,138,195)', 'rgb(166,216,84)', 'rgb(255,217,47)', 'rgb(229,196,148)', 'rgb(179,179,179)']\n"
     ]
    }
   ],
   "source": [
    "import plotly.express as px\n",
    "print(px.colors.qualitative.Set2)"
   ]
  },
  {
   "cell_type": "code",
   "execution_count": 69,
   "id": "d303f4a6",
   "metadata": {},
   "outputs": [
    {
     "data": {
      "text/html": [
       "<div>\n",
       "<style scoped>\n",
       "    .dataframe tbody tr th:only-of-type {\n",
       "        vertical-align: middle;\n",
       "    }\n",
       "\n",
       "    .dataframe tbody tr th {\n",
       "        vertical-align: top;\n",
       "    }\n",
       "\n",
       "    .dataframe thead th {\n",
       "        text-align: right;\n",
       "    }\n",
       "</style>\n",
       "<table border=\"1\" class=\"dataframe\">\n",
       "  <thead>\n",
       "    <tr style=\"text-align: right;\">\n",
       "      <th></th>\n",
       "      <th>시군구명칭</th>\n",
       "      <th>지역명</th>\n",
       "      <th>시군구 인구 대비 평균 확진자 수 정규화</th>\n",
       "      <th>시가지면적 대비 방문객 수 정규화</th>\n",
       "      <th>전체 식당대비 안심식당 수 정규화</th>\n",
       "      <th>교통안전성</th>\n",
       "      <th>숙박안전성</th>\n",
       "      <th>야외관광기회도</th>\n",
       "      <th>검색량 정규화</th>\n",
       "      <th>위험성 지표</th>\n",
       "      <th>인프라 지표</th>\n",
       "      <th>지수</th>\n",
       "      <th>방문객 수</th>\n",
       "      <th>숙박, 식당, 교통 인프라</th>\n",
       "    </tr>\n",
       "  </thead>\n",
       "  <tbody>\n",
       "    <tr>\n",
       "      <th>165</th>\n",
       "      <td>여수시</td>\n",
       "      <td>전라남도 여수시</td>\n",
       "      <td>0.061082</td>\n",
       "      <td>0.006846</td>\n",
       "      <td>0.080257</td>\n",
       "      <td>0.308943</td>\n",
       "      <td>0.52311</td>\n",
       "      <td>0.598362</td>\n",
       "      <td>0.417249</td>\n",
       "      <td>0.033964</td>\n",
       "      <td>0.377668</td>\n",
       "      <td>9.859993</td>\n",
       "      <td>0.245</td>\n",
       "      <td>0.304103</td>\n",
       "    </tr>\n",
       "    <tr>\n",
       "      <th>210</th>\n",
       "      <td>통영시</td>\n",
       "      <td>경상남도 통영시</td>\n",
       "      <td>0.043131</td>\n",
       "      <td>0.046634</td>\n",
       "      <td>0.119189</td>\n",
       "      <td>0.138211</td>\n",
       "      <td>0.72416</td>\n",
       "      <td>0.670021</td>\n",
       "      <td>0.157988</td>\n",
       "      <td>0.044883</td>\n",
       "      <td>0.412895</td>\n",
       "      <td>9.719804</td>\n",
       "      <td>0.131</td>\n",
       "      <td>0.327187</td>\n",
       "    </tr>\n",
       "  </tbody>\n",
       "</table>\n",
       "</div>"
      ],
      "text/plain": [
       "    시군구명칭       지역명  시군구 인구 대비 평균 확진자 수 정규화   시가지면적 대비 방문객 수 정규화  \\\n",
       "165   여수시  전라남도 여수시                 0.061082            0.006846   \n",
       "210   통영시  경상남도 통영시                 0.043131            0.046634   \n",
       "\n",
       "     전체 식당대비 안심식당 수 정규화     교통안전성    숙박안전성   야외관광기회도   검색량 정규화    위험성 지표  \\\n",
       "165            0.080257  0.308943  0.52311  0.598362  0.417249  0.033964   \n",
       "210            0.119189  0.138211  0.72416  0.670021  0.157988  0.044883   \n",
       "\n",
       "       인프라 지표        지수  방문객 수  숙박, 식당, 교통 인프라  \n",
       "165  0.377668  9.859993  0.245        0.304103  \n",
       "210  0.412895  9.719804  0.131        0.327187  "
      ]
     },
     "execution_count": 69,
     "metadata": {},
     "output_type": "execute_result"
    }
   ],
   "source": [
    "# 컬럼 이름 변경 및 컬럼 추가\n",
    "top10 = top10.rename(\n",
    "    columns={\n",
    "        \"자연관광지 정규화\" : \"야외관광기회도\",\n",
    "        \"인프라\" : \"숙박, 식당, 교통 인프라\",\n",
    "        \"1일 방문자 정규화\" : \"방문객 수\"\n",
    "    }\n",
    ")\n",
    "top10.head(2)"
   ]
  },
  {
   "cell_type": "code",
   "execution_count": 70,
   "id": "d6442976",
   "metadata": {},
   "outputs": [
    {
     "data": {
      "application/vnd.plotly.v1+json": {
       "config": {
        "plotlyServerURL": "https://plot.ly"
       },
       "data": [
        {
         "hovertemplate": "야외관광기회도=%{x}<br>숙박, 식당, 교통 인프라=%{y}<br>지수=%{marker.size}<br>시군구명칭=%{text}<extra></extra>",
         "legendgroup": "",
         "marker": {
          "color": "orange",
          "opacity": 0.4,
          "size": [
           9.85999270390453,
           9.719803693805162,
           9.689334183500048,
           9.42576764122675,
           9.40796788730323,
           9.246083611443858,
           9.24193443889734,
           9.119301715229625,
           9.029250576395636,
           9.028886642139097,
           8.91834659848269,
           8.8603347141003,
           8.85424227569886,
           8.83812016590319,
           8.834076855345623,
           8.76563187691447,
           8.738638417795274,
           8.724478714525286,
           8.723790916018347,
           8.723170753510415,
           8.717690334532609,
           8.716618180124279,
           8.685493605022282,
           8.634536980345347,
           8.631357949136914,
           8.631312665469961
          ],
          "sizemode": "area",
          "sizeref": 0.024649981759761325,
          "symbol": "circle"
         },
         "mode": "markers+text",
         "name": "",
         "orientation": "v",
         "showlegend": false,
         "text": [
          "여수시",
          "통영시",
          "제주시",
          "진도군",
          "울릉군",
          "경주시",
          "완도군",
          "기장군",
          "보성군",
          "거제시",
          "강릉시",
          "수영구",
          "태안군",
          "화성시",
          "무주군",
          "군위군",
          "김천시",
          "예천군",
          "포항시",
          "함평군",
          "해운대구",
          "남해군",
          "서구",
          "단양군",
          "김포시",
          "속초시"
         ],
         "type": "scatter",
         "x": [
          0.5983616105055579,
          0.6700213855518579,
          0.1480524390300484,
          0.9426919002456393,
          0,
          0.07080729404088852,
          1,
          0,
          0.025295657017127736,
          0.307782169410637,
          0.09986158233132857,
          0,
          0.4724841550511568,
          0.004065176828669925,
          0.19179940665233486,
          0.026951440881804074,
          0.00613082350599072,
          0.002457443881419152,
          0.006509389359778424,
          0.0009757756865288704,
          0,
          0.1527061001083685,
          0,
          0.19318860358093531,
          0.003446561925964694,
          0.45020863793717963
         ],
         "xaxis": "x",
         "y": [
          0.3041032355928686,
          0.32718670337625566,
          0.5441252642586409,
          0.18181749625522314,
          0.170989256607743,
          0.32495281716413044,
          0.10942892957767104,
          0.26049785737883885,
          0.36273676024619217,
          0.26672568491732573,
          0.26777655822959334,
          0.248146972242397,
          0.1626286456605183,
          0.24388507781450355,
          0.27539554036412517,
          0.37602,
          0.2888218416000744,
          0.272063162379694,
          0.22718092065895124,
          0.2677289843184329,
          0.17396292587316683,
          0.25774011634809774,
          0.269749603832719,
          0.16873487360891026,
          0.3082645536602258,
          0.12306714677180801
         ],
         "yaxis": "y"
        }
       ],
       "layout": {
        "legend": {
         "itemsizing": "constant",
         "tracegroupgap": 0
        },
        "margin": {
         "t": 60
        },
        "template": {
         "data": {
          "bar": [
           {
            "error_x": {
             "color": "#2a3f5f"
            },
            "error_y": {
             "color": "#2a3f5f"
            },
            "marker": {
             "line": {
              "color": "#E5ECF6",
              "width": 0.5
             },
             "pattern": {
              "fillmode": "overlay",
              "size": 10,
              "solidity": 0.2
             }
            },
            "type": "bar"
           }
          ],
          "barpolar": [
           {
            "marker": {
             "line": {
              "color": "#E5ECF6",
              "width": 0.5
             },
             "pattern": {
              "fillmode": "overlay",
              "size": 10,
              "solidity": 0.2
             }
            },
            "type": "barpolar"
           }
          ],
          "carpet": [
           {
            "aaxis": {
             "endlinecolor": "#2a3f5f",
             "gridcolor": "white",
             "linecolor": "white",
             "minorgridcolor": "white",
             "startlinecolor": "#2a3f5f"
            },
            "baxis": {
             "endlinecolor": "#2a3f5f",
             "gridcolor": "white",
             "linecolor": "white",
             "minorgridcolor": "white",
             "startlinecolor": "#2a3f5f"
            },
            "type": "carpet"
           }
          ],
          "choropleth": [
           {
            "colorbar": {
             "outlinewidth": 0,
             "ticks": ""
            },
            "type": "choropleth"
           }
          ],
          "contour": [
           {
            "colorbar": {
             "outlinewidth": 0,
             "ticks": ""
            },
            "colorscale": [
             [
              0,
              "#0d0887"
             ],
             [
              0.1111111111111111,
              "#46039f"
             ],
             [
              0.2222222222222222,
              "#7201a8"
             ],
             [
              0.3333333333333333,
              "#9c179e"
             ],
             [
              0.4444444444444444,
              "#bd3786"
             ],
             [
              0.5555555555555556,
              "#d8576b"
             ],
             [
              0.6666666666666666,
              "#ed7953"
             ],
             [
              0.7777777777777778,
              "#fb9f3a"
             ],
             [
              0.8888888888888888,
              "#fdca26"
             ],
             [
              1,
              "#f0f921"
             ]
            ],
            "type": "contour"
           }
          ],
          "contourcarpet": [
           {
            "colorbar": {
             "outlinewidth": 0,
             "ticks": ""
            },
            "type": "contourcarpet"
           }
          ],
          "heatmap": [
           {
            "colorbar": {
             "outlinewidth": 0,
             "ticks": ""
            },
            "colorscale": [
             [
              0,
              "#0d0887"
             ],
             [
              0.1111111111111111,
              "#46039f"
             ],
             [
              0.2222222222222222,
              "#7201a8"
             ],
             [
              0.3333333333333333,
              "#9c179e"
             ],
             [
              0.4444444444444444,
              "#bd3786"
             ],
             [
              0.5555555555555556,
              "#d8576b"
             ],
             [
              0.6666666666666666,
              "#ed7953"
             ],
             [
              0.7777777777777778,
              "#fb9f3a"
             ],
             [
              0.8888888888888888,
              "#fdca26"
             ],
             [
              1,
              "#f0f921"
             ]
            ],
            "type": "heatmap"
           }
          ],
          "heatmapgl": [
           {
            "colorbar": {
             "outlinewidth": 0,
             "ticks": ""
            },
            "colorscale": [
             [
              0,
              "#0d0887"
             ],
             [
              0.1111111111111111,
              "#46039f"
             ],
             [
              0.2222222222222222,
              "#7201a8"
             ],
             [
              0.3333333333333333,
              "#9c179e"
             ],
             [
              0.4444444444444444,
              "#bd3786"
             ],
             [
              0.5555555555555556,
              "#d8576b"
             ],
             [
              0.6666666666666666,
              "#ed7953"
             ],
             [
              0.7777777777777778,
              "#fb9f3a"
             ],
             [
              0.8888888888888888,
              "#fdca26"
             ],
             [
              1,
              "#f0f921"
             ]
            ],
            "type": "heatmapgl"
           }
          ],
          "histogram": [
           {
            "marker": {
             "pattern": {
              "fillmode": "overlay",
              "size": 10,
              "solidity": 0.2
             }
            },
            "type": "histogram"
           }
          ],
          "histogram2d": [
           {
            "colorbar": {
             "outlinewidth": 0,
             "ticks": ""
            },
            "colorscale": [
             [
              0,
              "#0d0887"
             ],
             [
              0.1111111111111111,
              "#46039f"
             ],
             [
              0.2222222222222222,
              "#7201a8"
             ],
             [
              0.3333333333333333,
              "#9c179e"
             ],
             [
              0.4444444444444444,
              "#bd3786"
             ],
             [
              0.5555555555555556,
              "#d8576b"
             ],
             [
              0.6666666666666666,
              "#ed7953"
             ],
             [
              0.7777777777777778,
              "#fb9f3a"
             ],
             [
              0.8888888888888888,
              "#fdca26"
             ],
             [
              1,
              "#f0f921"
             ]
            ],
            "type": "histogram2d"
           }
          ],
          "histogram2dcontour": [
           {
            "colorbar": {
             "outlinewidth": 0,
             "ticks": ""
            },
            "colorscale": [
             [
              0,
              "#0d0887"
             ],
             [
              0.1111111111111111,
              "#46039f"
             ],
             [
              0.2222222222222222,
              "#7201a8"
             ],
             [
              0.3333333333333333,
              "#9c179e"
             ],
             [
              0.4444444444444444,
              "#bd3786"
             ],
             [
              0.5555555555555556,
              "#d8576b"
             ],
             [
              0.6666666666666666,
              "#ed7953"
             ],
             [
              0.7777777777777778,
              "#fb9f3a"
             ],
             [
              0.8888888888888888,
              "#fdca26"
             ],
             [
              1,
              "#f0f921"
             ]
            ],
            "type": "histogram2dcontour"
           }
          ],
          "mesh3d": [
           {
            "colorbar": {
             "outlinewidth": 0,
             "ticks": ""
            },
            "type": "mesh3d"
           }
          ],
          "parcoords": [
           {
            "line": {
             "colorbar": {
              "outlinewidth": 0,
              "ticks": ""
             }
            },
            "type": "parcoords"
           }
          ],
          "pie": [
           {
            "automargin": true,
            "type": "pie"
           }
          ],
          "scatter": [
           {
            "marker": {
             "colorbar": {
              "outlinewidth": 0,
              "ticks": ""
             }
            },
            "type": "scatter"
           }
          ],
          "scatter3d": [
           {
            "line": {
             "colorbar": {
              "outlinewidth": 0,
              "ticks": ""
             }
            },
            "marker": {
             "colorbar": {
              "outlinewidth": 0,
              "ticks": ""
             }
            },
            "type": "scatter3d"
           }
          ],
          "scattercarpet": [
           {
            "marker": {
             "colorbar": {
              "outlinewidth": 0,
              "ticks": ""
             }
            },
            "type": "scattercarpet"
           }
          ],
          "scattergeo": [
           {
            "marker": {
             "colorbar": {
              "outlinewidth": 0,
              "ticks": ""
             }
            },
            "type": "scattergeo"
           }
          ],
          "scattergl": [
           {
            "marker": {
             "colorbar": {
              "outlinewidth": 0,
              "ticks": ""
             }
            },
            "type": "scattergl"
           }
          ],
          "scattermapbox": [
           {
            "marker": {
             "colorbar": {
              "outlinewidth": 0,
              "ticks": ""
             }
            },
            "type": "scattermapbox"
           }
          ],
          "scatterpolar": [
           {
            "marker": {
             "colorbar": {
              "outlinewidth": 0,
              "ticks": ""
             }
            },
            "type": "scatterpolar"
           }
          ],
          "scatterpolargl": [
           {
            "marker": {
             "colorbar": {
              "outlinewidth": 0,
              "ticks": ""
             }
            },
            "type": "scatterpolargl"
           }
          ],
          "scatterternary": [
           {
            "marker": {
             "colorbar": {
              "outlinewidth": 0,
              "ticks": ""
             }
            },
            "type": "scatterternary"
           }
          ],
          "surface": [
           {
            "colorbar": {
             "outlinewidth": 0,
             "ticks": ""
            },
            "colorscale": [
             [
              0,
              "#0d0887"
             ],
             [
              0.1111111111111111,
              "#46039f"
             ],
             [
              0.2222222222222222,
              "#7201a8"
             ],
             [
              0.3333333333333333,
              "#9c179e"
             ],
             [
              0.4444444444444444,
              "#bd3786"
             ],
             [
              0.5555555555555556,
              "#d8576b"
             ],
             [
              0.6666666666666666,
              "#ed7953"
             ],
             [
              0.7777777777777778,
              "#fb9f3a"
             ],
             [
              0.8888888888888888,
              "#fdca26"
             ],
             [
              1,
              "#f0f921"
             ]
            ],
            "type": "surface"
           }
          ],
          "table": [
           {
            "cells": {
             "fill": {
              "color": "#EBF0F8"
             },
             "line": {
              "color": "white"
             }
            },
            "header": {
             "fill": {
              "color": "#C8D4E3"
             },
             "line": {
              "color": "white"
             }
            },
            "type": "table"
           }
          ]
         },
         "layout": {
          "annotationdefaults": {
           "arrowcolor": "#2a3f5f",
           "arrowhead": 0,
           "arrowwidth": 1
          },
          "autotypenumbers": "strict",
          "coloraxis": {
           "colorbar": {
            "outlinewidth": 0,
            "ticks": ""
           }
          },
          "colorscale": {
           "diverging": [
            [
             0,
             "#8e0152"
            ],
            [
             0.1,
             "#c51b7d"
            ],
            [
             0.2,
             "#de77ae"
            ],
            [
             0.3,
             "#f1b6da"
            ],
            [
             0.4,
             "#fde0ef"
            ],
            [
             0.5,
             "#f7f7f7"
            ],
            [
             0.6,
             "#e6f5d0"
            ],
            [
             0.7,
             "#b8e186"
            ],
            [
             0.8,
             "#7fbc41"
            ],
            [
             0.9,
             "#4d9221"
            ],
            [
             1,
             "#276419"
            ]
           ],
           "sequential": [
            [
             0,
             "#0d0887"
            ],
            [
             0.1111111111111111,
             "#46039f"
            ],
            [
             0.2222222222222222,
             "#7201a8"
            ],
            [
             0.3333333333333333,
             "#9c179e"
            ],
            [
             0.4444444444444444,
             "#bd3786"
            ],
            [
             0.5555555555555556,
             "#d8576b"
            ],
            [
             0.6666666666666666,
             "#ed7953"
            ],
            [
             0.7777777777777778,
             "#fb9f3a"
            ],
            [
             0.8888888888888888,
             "#fdca26"
            ],
            [
             1,
             "#f0f921"
            ]
           ],
           "sequentialminus": [
            [
             0,
             "#0d0887"
            ],
            [
             0.1111111111111111,
             "#46039f"
            ],
            [
             0.2222222222222222,
             "#7201a8"
            ],
            [
             0.3333333333333333,
             "#9c179e"
            ],
            [
             0.4444444444444444,
             "#bd3786"
            ],
            [
             0.5555555555555556,
             "#d8576b"
            ],
            [
             0.6666666666666666,
             "#ed7953"
            ],
            [
             0.7777777777777778,
             "#fb9f3a"
            ],
            [
             0.8888888888888888,
             "#fdca26"
            ],
            [
             1,
             "#f0f921"
            ]
           ]
          },
          "colorway": [
           "#636efa",
           "#EF553B",
           "#00cc96",
           "#ab63fa",
           "#FFA15A",
           "#19d3f3",
           "#FF6692",
           "#B6E880",
           "#FF97FF",
           "#FECB52"
          ],
          "font": {
           "color": "#2a3f5f"
          },
          "geo": {
           "bgcolor": "white",
           "lakecolor": "white",
           "landcolor": "#E5ECF6",
           "showlakes": true,
           "showland": true,
           "subunitcolor": "white"
          },
          "hoverlabel": {
           "align": "left"
          },
          "hovermode": "closest",
          "mapbox": {
           "style": "light"
          },
          "paper_bgcolor": "white",
          "plot_bgcolor": "#E5ECF6",
          "polar": {
           "angularaxis": {
            "gridcolor": "white",
            "linecolor": "white",
            "ticks": ""
           },
           "bgcolor": "#E5ECF6",
           "radialaxis": {
            "gridcolor": "white",
            "linecolor": "white",
            "ticks": ""
           }
          },
          "scene": {
           "xaxis": {
            "backgroundcolor": "#E5ECF6",
            "gridcolor": "white",
            "gridwidth": 2,
            "linecolor": "white",
            "showbackground": true,
            "ticks": "",
            "zerolinecolor": "white"
           },
           "yaxis": {
            "backgroundcolor": "#E5ECF6",
            "gridcolor": "white",
            "gridwidth": 2,
            "linecolor": "white",
            "showbackground": true,
            "ticks": "",
            "zerolinecolor": "white"
           },
           "zaxis": {
            "backgroundcolor": "#E5ECF6",
            "gridcolor": "white",
            "gridwidth": 2,
            "linecolor": "white",
            "showbackground": true,
            "ticks": "",
            "zerolinecolor": "white"
           }
          },
          "shapedefaults": {
           "line": {
            "color": "#2a3f5f"
           }
          },
          "ternary": {
           "aaxis": {
            "gridcolor": "white",
            "linecolor": "white",
            "ticks": ""
           },
           "baxis": {
            "gridcolor": "white",
            "linecolor": "white",
            "ticks": ""
           },
           "bgcolor": "#E5ECF6",
           "caxis": {
            "gridcolor": "white",
            "linecolor": "white",
            "ticks": ""
           }
          },
          "title": {
           "x": 0.05
          },
          "xaxis": {
           "automargin": true,
           "gridcolor": "white",
           "linecolor": "white",
           "ticks": "",
           "title": {
            "standoff": 15
           },
           "zerolinecolor": "white",
           "zerolinewidth": 2
          },
          "yaxis": {
           "automargin": true,
           "gridcolor": "white",
           "linecolor": "white",
           "ticks": "",
           "title": {
            "standoff": 15
           },
           "zerolinecolor": "white",
           "zerolinewidth": 2
          }
         }
        },
        "xaxis": {
         "anchor": "y",
         "domain": [
          0,
          1
         ],
         "title": {
          "text": "야외관광기회도"
         }
        },
        "yaxis": {
         "anchor": "x",
         "domain": [
          0,
          1
         ],
         "title": {
          "text": "숙박, 식당, 교통 인프라"
         }
        }
       }
      },
      "text/html": [
       "<div>                            <div id=\"e47aceee-9fba-4e59-a0ca-8d9571c2f044\" class=\"plotly-graph-div\" style=\"height:525px; width:100%;\"></div>            <script type=\"text/javascript\">                require([\"plotly\"], function(Plotly) {                    window.PLOTLYENV=window.PLOTLYENV || {};                                    if (document.getElementById(\"e47aceee-9fba-4e59-a0ca-8d9571c2f044\")) {                    Plotly.newPlot(                        \"e47aceee-9fba-4e59-a0ca-8d9571c2f044\",                        [{\"hovertemplate\":\"\\uc57c\\uc678\\uad00\\uad11\\uae30\\ud68c\\ub3c4=%{x}<br>\\uc219\\ubc15, \\uc2dd\\ub2f9, \\uad50\\ud1b5 \\uc778\\ud504\\ub77c=%{y}<br>\\uc9c0\\uc218=%{marker.size}<br>\\uc2dc\\uad70\\uad6c\\uba85\\uce6d=%{text}<extra></extra>\",\"legendgroup\":\"\",\"marker\":{\"color\":\"orange\",\"opacity\":0.4,\"size\":[9.85999270390453,9.719803693805162,9.689334183500048,9.42576764122675,9.40796788730323,9.246083611443858,9.24193443889734,9.119301715229625,9.029250576395636,9.028886642139097,8.91834659848269,8.8603347141003,8.85424227569886,8.83812016590319,8.834076855345623,8.76563187691447,8.738638417795274,8.724478714525286,8.723790916018347,8.723170753510415,8.717690334532609,8.716618180124279,8.685493605022282,8.634536980345347,8.631357949136914,8.631312665469961],\"sizemode\":\"area\",\"sizeref\":0.024649981759761325,\"symbol\":\"circle\"},\"mode\":\"markers+text\",\"name\":\"\",\"orientation\":\"v\",\"showlegend\":false,\"text\":[\"\\uc5ec\\uc218\\uc2dc\",\"\\ud1b5\\uc601\\uc2dc\",\"\\uc81c\\uc8fc\\uc2dc\",\"\\uc9c4\\ub3c4\\uad70\",\"\\uc6b8\\ub989\\uad70\",\"\\uacbd\\uc8fc\\uc2dc\",\"\\uc644\\ub3c4\\uad70\",\"\\uae30\\uc7a5\\uad70\",\"\\ubcf4\\uc131\\uad70\",\"\\uac70\\uc81c\\uc2dc\",\"\\uac15\\ub989\\uc2dc\",\"\\uc218\\uc601\\uad6c\",\"\\ud0dc\\uc548\\uad70\",\"\\ud654\\uc131\\uc2dc\",\"\\ubb34\\uc8fc\\uad70\",\"\\uad70\\uc704\\uad70\",\"\\uae40\\ucc9c\\uc2dc\",\"\\uc608\\ucc9c\\uad70\",\"\\ud3ec\\ud56d\\uc2dc\",\"\\ud568\\ud3c9\\uad70\",\"\\ud574\\uc6b4\\ub300\\uad6c\",\"\\ub0a8\\ud574\\uad70\",\"\\uc11c\\uad6c\",\"\\ub2e8\\uc591\\uad70\",\"\\uae40\\ud3ec\\uc2dc\",\"\\uc18d\\ucd08\\uc2dc\"],\"type\":\"scatter\",\"x\":[0.5983616105055579,0.6700213855518579,0.1480524390300484,0.9426919002456393,0.0,0.07080729404088852,1.0,0.0,0.025295657017127736,0.307782169410637,0.09986158233132857,0.0,0.4724841550511568,0.004065176828669925,0.19179940665233486,0.026951440881804074,0.00613082350599072,0.002457443881419152,0.006509389359778424,0.0009757756865288704,0.0,0.1527061001083685,0.0,0.19318860358093531,0.003446561925964694,0.45020863793717963],\"xaxis\":\"x\",\"y\":[0.3041032355928686,0.32718670337625566,0.5441252642586409,0.18181749625522314,0.170989256607743,0.32495281716413044,0.10942892957767104,0.26049785737883885,0.36273676024619217,0.26672568491732573,0.26777655822959334,0.248146972242397,0.1626286456605183,0.24388507781450355,0.27539554036412517,0.37602,0.2888218416000744,0.272063162379694,0.22718092065895124,0.2677289843184329,0.17396292587316683,0.25774011634809774,0.269749603832719,0.16873487360891026,0.3082645536602258,0.12306714677180801],\"yaxis\":\"y\"}],                        {\"legend\":{\"itemsizing\":\"constant\",\"tracegroupgap\":0},\"margin\":{\"t\":60},\"template\":{\"data\":{\"bar\":[{\"error_x\":{\"color\":\"#2a3f5f\"},\"error_y\":{\"color\":\"#2a3f5f\"},\"marker\":{\"line\":{\"color\":\"#E5ECF6\",\"width\":0.5},\"pattern\":{\"fillmode\":\"overlay\",\"size\":10,\"solidity\":0.2}},\"type\":\"bar\"}],\"barpolar\":[{\"marker\":{\"line\":{\"color\":\"#E5ECF6\",\"width\":0.5},\"pattern\":{\"fillmode\":\"overlay\",\"size\":10,\"solidity\":0.2}},\"type\":\"barpolar\"}],\"carpet\":[{\"aaxis\":{\"endlinecolor\":\"#2a3f5f\",\"gridcolor\":\"white\",\"linecolor\":\"white\",\"minorgridcolor\":\"white\",\"startlinecolor\":\"#2a3f5f\"},\"baxis\":{\"endlinecolor\":\"#2a3f5f\",\"gridcolor\":\"white\",\"linecolor\":\"white\",\"minorgridcolor\":\"white\",\"startlinecolor\":\"#2a3f5f\"},\"type\":\"carpet\"}],\"choropleth\":[{\"colorbar\":{\"outlinewidth\":0,\"ticks\":\"\"},\"type\":\"choropleth\"}],\"contour\":[{\"colorbar\":{\"outlinewidth\":0,\"ticks\":\"\"},\"colorscale\":[[0.0,\"#0d0887\"],[0.1111111111111111,\"#46039f\"],[0.2222222222222222,\"#7201a8\"],[0.3333333333333333,\"#9c179e\"],[0.4444444444444444,\"#bd3786\"],[0.5555555555555556,\"#d8576b\"],[0.6666666666666666,\"#ed7953\"],[0.7777777777777778,\"#fb9f3a\"],[0.8888888888888888,\"#fdca26\"],[1.0,\"#f0f921\"]],\"type\":\"contour\"}],\"contourcarpet\":[{\"colorbar\":{\"outlinewidth\":0,\"ticks\":\"\"},\"type\":\"contourcarpet\"}],\"heatmap\":[{\"colorbar\":{\"outlinewidth\":0,\"ticks\":\"\"},\"colorscale\":[[0.0,\"#0d0887\"],[0.1111111111111111,\"#46039f\"],[0.2222222222222222,\"#7201a8\"],[0.3333333333333333,\"#9c179e\"],[0.4444444444444444,\"#bd3786\"],[0.5555555555555556,\"#d8576b\"],[0.6666666666666666,\"#ed7953\"],[0.7777777777777778,\"#fb9f3a\"],[0.8888888888888888,\"#fdca26\"],[1.0,\"#f0f921\"]],\"type\":\"heatmap\"}],\"heatmapgl\":[{\"colorbar\":{\"outlinewidth\":0,\"ticks\":\"\"},\"colorscale\":[[0.0,\"#0d0887\"],[0.1111111111111111,\"#46039f\"],[0.2222222222222222,\"#7201a8\"],[0.3333333333333333,\"#9c179e\"],[0.4444444444444444,\"#bd3786\"],[0.5555555555555556,\"#d8576b\"],[0.6666666666666666,\"#ed7953\"],[0.7777777777777778,\"#fb9f3a\"],[0.8888888888888888,\"#fdca26\"],[1.0,\"#f0f921\"]],\"type\":\"heatmapgl\"}],\"histogram\":[{\"marker\":{\"pattern\":{\"fillmode\":\"overlay\",\"size\":10,\"solidity\":0.2}},\"type\":\"histogram\"}],\"histogram2d\":[{\"colorbar\":{\"outlinewidth\":0,\"ticks\":\"\"},\"colorscale\":[[0.0,\"#0d0887\"],[0.1111111111111111,\"#46039f\"],[0.2222222222222222,\"#7201a8\"],[0.3333333333333333,\"#9c179e\"],[0.4444444444444444,\"#bd3786\"],[0.5555555555555556,\"#d8576b\"],[0.6666666666666666,\"#ed7953\"],[0.7777777777777778,\"#fb9f3a\"],[0.8888888888888888,\"#fdca26\"],[1.0,\"#f0f921\"]],\"type\":\"histogram2d\"}],\"histogram2dcontour\":[{\"colorbar\":{\"outlinewidth\":0,\"ticks\":\"\"},\"colorscale\":[[0.0,\"#0d0887\"],[0.1111111111111111,\"#46039f\"],[0.2222222222222222,\"#7201a8\"],[0.3333333333333333,\"#9c179e\"],[0.4444444444444444,\"#bd3786\"],[0.5555555555555556,\"#d8576b\"],[0.6666666666666666,\"#ed7953\"],[0.7777777777777778,\"#fb9f3a\"],[0.8888888888888888,\"#fdca26\"],[1.0,\"#f0f921\"]],\"type\":\"histogram2dcontour\"}],\"mesh3d\":[{\"colorbar\":{\"outlinewidth\":0,\"ticks\":\"\"},\"type\":\"mesh3d\"}],\"parcoords\":[{\"line\":{\"colorbar\":{\"outlinewidth\":0,\"ticks\":\"\"}},\"type\":\"parcoords\"}],\"pie\":[{\"automargin\":true,\"type\":\"pie\"}],\"scatter\":[{\"marker\":{\"colorbar\":{\"outlinewidth\":0,\"ticks\":\"\"}},\"type\":\"scatter\"}],\"scatter3d\":[{\"line\":{\"colorbar\":{\"outlinewidth\":0,\"ticks\":\"\"}},\"marker\":{\"colorbar\":{\"outlinewidth\":0,\"ticks\":\"\"}},\"type\":\"scatter3d\"}],\"scattercarpet\":[{\"marker\":{\"colorbar\":{\"outlinewidth\":0,\"ticks\":\"\"}},\"type\":\"scattercarpet\"}],\"scattergeo\":[{\"marker\":{\"colorbar\":{\"outlinewidth\":0,\"ticks\":\"\"}},\"type\":\"scattergeo\"}],\"scattergl\":[{\"marker\":{\"colorbar\":{\"outlinewidth\":0,\"ticks\":\"\"}},\"type\":\"scattergl\"}],\"scattermapbox\":[{\"marker\":{\"colorbar\":{\"outlinewidth\":0,\"ticks\":\"\"}},\"type\":\"scattermapbox\"}],\"scatterpolar\":[{\"marker\":{\"colorbar\":{\"outlinewidth\":0,\"ticks\":\"\"}},\"type\":\"scatterpolar\"}],\"scatterpolargl\":[{\"marker\":{\"colorbar\":{\"outlinewidth\":0,\"ticks\":\"\"}},\"type\":\"scatterpolargl\"}],\"scatterternary\":[{\"marker\":{\"colorbar\":{\"outlinewidth\":0,\"ticks\":\"\"}},\"type\":\"scatterternary\"}],\"surface\":[{\"colorbar\":{\"outlinewidth\":0,\"ticks\":\"\"},\"colorscale\":[[0.0,\"#0d0887\"],[0.1111111111111111,\"#46039f\"],[0.2222222222222222,\"#7201a8\"],[0.3333333333333333,\"#9c179e\"],[0.4444444444444444,\"#bd3786\"],[0.5555555555555556,\"#d8576b\"],[0.6666666666666666,\"#ed7953\"],[0.7777777777777778,\"#fb9f3a\"],[0.8888888888888888,\"#fdca26\"],[1.0,\"#f0f921\"]],\"type\":\"surface\"}],\"table\":[{\"cells\":{\"fill\":{\"color\":\"#EBF0F8\"},\"line\":{\"color\":\"white\"}},\"header\":{\"fill\":{\"color\":\"#C8D4E3\"},\"line\":{\"color\":\"white\"}},\"type\":\"table\"}]},\"layout\":{\"annotationdefaults\":{\"arrowcolor\":\"#2a3f5f\",\"arrowhead\":0,\"arrowwidth\":1},\"autotypenumbers\":\"strict\",\"coloraxis\":{\"colorbar\":{\"outlinewidth\":0,\"ticks\":\"\"}},\"colorscale\":{\"diverging\":[[0,\"#8e0152\"],[0.1,\"#c51b7d\"],[0.2,\"#de77ae\"],[0.3,\"#f1b6da\"],[0.4,\"#fde0ef\"],[0.5,\"#f7f7f7\"],[0.6,\"#e6f5d0\"],[0.7,\"#b8e186\"],[0.8,\"#7fbc41\"],[0.9,\"#4d9221\"],[1,\"#276419\"]],\"sequential\":[[0.0,\"#0d0887\"],[0.1111111111111111,\"#46039f\"],[0.2222222222222222,\"#7201a8\"],[0.3333333333333333,\"#9c179e\"],[0.4444444444444444,\"#bd3786\"],[0.5555555555555556,\"#d8576b\"],[0.6666666666666666,\"#ed7953\"],[0.7777777777777778,\"#fb9f3a\"],[0.8888888888888888,\"#fdca26\"],[1.0,\"#f0f921\"]],\"sequentialminus\":[[0.0,\"#0d0887\"],[0.1111111111111111,\"#46039f\"],[0.2222222222222222,\"#7201a8\"],[0.3333333333333333,\"#9c179e\"],[0.4444444444444444,\"#bd3786\"],[0.5555555555555556,\"#d8576b\"],[0.6666666666666666,\"#ed7953\"],[0.7777777777777778,\"#fb9f3a\"],[0.8888888888888888,\"#fdca26\"],[1.0,\"#f0f921\"]]},\"colorway\":[\"#636efa\",\"#EF553B\",\"#00cc96\",\"#ab63fa\",\"#FFA15A\",\"#19d3f3\",\"#FF6692\",\"#B6E880\",\"#FF97FF\",\"#FECB52\"],\"font\":{\"color\":\"#2a3f5f\"},\"geo\":{\"bgcolor\":\"white\",\"lakecolor\":\"white\",\"landcolor\":\"#E5ECF6\",\"showlakes\":true,\"showland\":true,\"subunitcolor\":\"white\"},\"hoverlabel\":{\"align\":\"left\"},\"hovermode\":\"closest\",\"mapbox\":{\"style\":\"light\"},\"paper_bgcolor\":\"white\",\"plot_bgcolor\":\"#E5ECF6\",\"polar\":{\"angularaxis\":{\"gridcolor\":\"white\",\"linecolor\":\"white\",\"ticks\":\"\"},\"bgcolor\":\"#E5ECF6\",\"radialaxis\":{\"gridcolor\":\"white\",\"linecolor\":\"white\",\"ticks\":\"\"}},\"scene\":{\"xaxis\":{\"backgroundcolor\":\"#E5ECF6\",\"gridcolor\":\"white\",\"gridwidth\":2,\"linecolor\":\"white\",\"showbackground\":true,\"ticks\":\"\",\"zerolinecolor\":\"white\"},\"yaxis\":{\"backgroundcolor\":\"#E5ECF6\",\"gridcolor\":\"white\",\"gridwidth\":2,\"linecolor\":\"white\",\"showbackground\":true,\"ticks\":\"\",\"zerolinecolor\":\"white\"},\"zaxis\":{\"backgroundcolor\":\"#E5ECF6\",\"gridcolor\":\"white\",\"gridwidth\":2,\"linecolor\":\"white\",\"showbackground\":true,\"ticks\":\"\",\"zerolinecolor\":\"white\"}},\"shapedefaults\":{\"line\":{\"color\":\"#2a3f5f\"}},\"ternary\":{\"aaxis\":{\"gridcolor\":\"white\",\"linecolor\":\"white\",\"ticks\":\"\"},\"baxis\":{\"gridcolor\":\"white\",\"linecolor\":\"white\",\"ticks\":\"\"},\"bgcolor\":\"#E5ECF6\",\"caxis\":{\"gridcolor\":\"white\",\"linecolor\":\"white\",\"ticks\":\"\"}},\"title\":{\"x\":0.05},\"xaxis\":{\"automargin\":true,\"gridcolor\":\"white\",\"linecolor\":\"white\",\"ticks\":\"\",\"title\":{\"standoff\":15},\"zerolinecolor\":\"white\",\"zerolinewidth\":2},\"yaxis\":{\"automargin\":true,\"gridcolor\":\"white\",\"linecolor\":\"white\",\"ticks\":\"\",\"title\":{\"standoff\":15},\"zerolinecolor\":\"white\",\"zerolinewidth\":2}}},\"xaxis\":{\"anchor\":\"y\",\"domain\":[0.0,1.0],\"title\":{\"text\":\"\\uc57c\\uc678\\uad00\\uad11\\uae30\\ud68c\\ub3c4\"}},\"yaxis\":{\"anchor\":\"x\",\"domain\":[0.0,1.0],\"title\":{\"text\":\"\\uc219\\ubc15, \\uc2dd\\ub2f9, \\uad50\\ud1b5 \\uc778\\ud504\\ub77c\"}}},                        {\"responsive\": true}                    ).then(function(){\n",
       "                            \n",
       "var gd = document.getElementById('e47aceee-9fba-4e59-a0ca-8d9571c2f044');\n",
       "var x = new MutationObserver(function (mutations, observer) {{\n",
       "        var display = window.getComputedStyle(gd).display;\n",
       "        if (!display || display === 'none') {{\n",
       "            console.log([gd, 'removed!']);\n",
       "            Plotly.purge(gd);\n",
       "            observer.disconnect();\n",
       "        }}\n",
       "}});\n",
       "\n",
       "// Listen for the removal of the full notebook cells\n",
       "var notebookContainer = gd.closest('#notebook-container');\n",
       "if (notebookContainer) {{\n",
       "    x.observe(notebookContainer, {childList: true});\n",
       "}}\n",
       "\n",
       "// Listen for the clearing of the current output cell\n",
       "var outputEl = gd.closest('.output');\n",
       "if (outputEl) {{\n",
       "    x.observe(outputEl, {childList: true});\n",
       "}}\n",
       "\n",
       "                        })                };                });            </script>        </div>"
      ]
     },
     "metadata": {},
     "output_type": "display_data"
    }
   ],
   "source": [
    "#자연, 인프라\n",
    "import plotly.express as px\n",
    "import plotly\n",
    "\n",
    "fig = px.scatter(top10, x='야외관광기회도', \n",
    "                 y='숙박, 식당, 교통 인프라', \n",
    "                 size='지수', \n",
    "                 color_discrete_sequence=['orange'],\n",
    "                 text='시군구명칭',\n",
    "                 opacity=0.4,\n",
    "                 size_max=20)\n",
    "\n",
    "fig.show()\n",
    "# fig.update_xaxes(rangeslider_visible=True) #x축 범위 스크롤을 통해 이동 가능\n",
    "# plotly.offline.plot(fig, filename='‪scatter.html')"
   ]
  },
  {
   "cell_type": "code",
   "execution_count": 72,
   "id": "98220818",
   "metadata": {},
   "outputs": [
    {
     "data": {
      "application/vnd.plotly.v1+json": {
       "config": {
        "plotlyServerURL": "https://plot.ly"
       },
       "data": [
        {
         "hovertemplate": "숙박, 식당, 교통 인프라=%{x}<br>방문객 수=%{y}<br>지수=%{marker.size}<br>시군구명칭=%{text}<extra></extra>",
         "legendgroup": "",
         "marker": {
          "color": "orange",
          "opacity": 0.4,
          "size": [
           9.85999270390453,
           9.719803693805162,
           9.689334183500048,
           9.42576764122675,
           9.40796788730323,
           9.246083611443858,
           9.24193443889734,
           9.119301715229625,
           9.029250576395636,
           9.028886642139097,
           8.91834659848269,
           8.8603347141003,
           8.85424227569886,
           8.83812016590319,
           8.834076855345623,
           8.76563187691447,
           8.738638417795274,
           8.724478714525286,
           8.723790916018347,
           8.723170753510415,
           8.717690334532609,
           8.716618180124279,
           8.685493605022282,
           8.634536980345347,
           8.631357949136914,
           8.631312665469961
          ],
          "sizemode": "area",
          "sizeref": 0.024649981759761325,
          "symbol": "circle"
         },
         "mode": "markers+text",
         "name": "",
         "orientation": "v",
         "showlegend": false,
         "text": [
          "여수시",
          "통영시",
          "제주시",
          "진도군",
          "울릉군",
          "경주시",
          "완도군",
          "기장군",
          "보성군",
          "거제시",
          "강릉시",
          "수영구",
          "태안군",
          "화성시",
          "무주군",
          "군위군",
          "김천시",
          "예천군",
          "포항시",
          "함평군",
          "해운대구",
          "남해군",
          "서구",
          "단양군",
          "김포시",
          "속초시"
         ],
         "type": "scatter",
         "x": [
          0.3041032355928686,
          0.32718670337625566,
          0.5441252642586409,
          0.18181749625522314,
          0.170989256607743,
          0.32495281716413044,
          0.10942892957767104,
          0.26049785737883885,
          0.36273676024619217,
          0.26672568491732573,
          0.26777655822959334,
          0.248146972242397,
          0.1626286456605183,
          0.24388507781450355,
          0.27539554036412517,
          0.37602,
          0.2888218416000744,
          0.272063162379694,
          0.22718092065895124,
          0.2677289843184329,
          0.17396292587316683,
          0.25774011634809774,
          0.269749603832719,
          0.16873487360891026,
          0.3082645536602258,
          0.12306714677180801
         ],
         "xaxis": "x",
         "y": [
          0.245,
          0.131,
          0.672,
          0.021,
          0.003,
          0.327,
          0.043,
          0.116,
          0.033,
          0.331,
          0.103,
          0.095,
          0.058,
          0.287,
          0.03,
          0.026,
          0.118,
          0.047,
          0.514,
          0.024,
          0.186,
          0.047,
          0.134,
          0.041,
          0.157,
          0.075
         ],
         "yaxis": "y"
        }
       ],
       "layout": {
        "legend": {
         "itemsizing": "constant",
         "tracegroupgap": 0
        },
        "margin": {
         "t": 60
        },
        "template": {
         "data": {
          "bar": [
           {
            "error_x": {
             "color": "#2a3f5f"
            },
            "error_y": {
             "color": "#2a3f5f"
            },
            "marker": {
             "line": {
              "color": "#E5ECF6",
              "width": 0.5
             },
             "pattern": {
              "fillmode": "overlay",
              "size": 10,
              "solidity": 0.2
             }
            },
            "type": "bar"
           }
          ],
          "barpolar": [
           {
            "marker": {
             "line": {
              "color": "#E5ECF6",
              "width": 0.5
             },
             "pattern": {
              "fillmode": "overlay",
              "size": 10,
              "solidity": 0.2
             }
            },
            "type": "barpolar"
           }
          ],
          "carpet": [
           {
            "aaxis": {
             "endlinecolor": "#2a3f5f",
             "gridcolor": "white",
             "linecolor": "white",
             "minorgridcolor": "white",
             "startlinecolor": "#2a3f5f"
            },
            "baxis": {
             "endlinecolor": "#2a3f5f",
             "gridcolor": "white",
             "linecolor": "white",
             "minorgridcolor": "white",
             "startlinecolor": "#2a3f5f"
            },
            "type": "carpet"
           }
          ],
          "choropleth": [
           {
            "colorbar": {
             "outlinewidth": 0,
             "ticks": ""
            },
            "type": "choropleth"
           }
          ],
          "contour": [
           {
            "colorbar": {
             "outlinewidth": 0,
             "ticks": ""
            },
            "colorscale": [
             [
              0,
              "#0d0887"
             ],
             [
              0.1111111111111111,
              "#46039f"
             ],
             [
              0.2222222222222222,
              "#7201a8"
             ],
             [
              0.3333333333333333,
              "#9c179e"
             ],
             [
              0.4444444444444444,
              "#bd3786"
             ],
             [
              0.5555555555555556,
              "#d8576b"
             ],
             [
              0.6666666666666666,
              "#ed7953"
             ],
             [
              0.7777777777777778,
              "#fb9f3a"
             ],
             [
              0.8888888888888888,
              "#fdca26"
             ],
             [
              1,
              "#f0f921"
             ]
            ],
            "type": "contour"
           }
          ],
          "contourcarpet": [
           {
            "colorbar": {
             "outlinewidth": 0,
             "ticks": ""
            },
            "type": "contourcarpet"
           }
          ],
          "heatmap": [
           {
            "colorbar": {
             "outlinewidth": 0,
             "ticks": ""
            },
            "colorscale": [
             [
              0,
              "#0d0887"
             ],
             [
              0.1111111111111111,
              "#46039f"
             ],
             [
              0.2222222222222222,
              "#7201a8"
             ],
             [
              0.3333333333333333,
              "#9c179e"
             ],
             [
              0.4444444444444444,
              "#bd3786"
             ],
             [
              0.5555555555555556,
              "#d8576b"
             ],
             [
              0.6666666666666666,
              "#ed7953"
             ],
             [
              0.7777777777777778,
              "#fb9f3a"
             ],
             [
              0.8888888888888888,
              "#fdca26"
             ],
             [
              1,
              "#f0f921"
             ]
            ],
            "type": "heatmap"
           }
          ],
          "heatmapgl": [
           {
            "colorbar": {
             "outlinewidth": 0,
             "ticks": ""
            },
            "colorscale": [
             [
              0,
              "#0d0887"
             ],
             [
              0.1111111111111111,
              "#46039f"
             ],
             [
              0.2222222222222222,
              "#7201a8"
             ],
             [
              0.3333333333333333,
              "#9c179e"
             ],
             [
              0.4444444444444444,
              "#bd3786"
             ],
             [
              0.5555555555555556,
              "#d8576b"
             ],
             [
              0.6666666666666666,
              "#ed7953"
             ],
             [
              0.7777777777777778,
              "#fb9f3a"
             ],
             [
              0.8888888888888888,
              "#fdca26"
             ],
             [
              1,
              "#f0f921"
             ]
            ],
            "type": "heatmapgl"
           }
          ],
          "histogram": [
           {
            "marker": {
             "pattern": {
              "fillmode": "overlay",
              "size": 10,
              "solidity": 0.2
             }
            },
            "type": "histogram"
           }
          ],
          "histogram2d": [
           {
            "colorbar": {
             "outlinewidth": 0,
             "ticks": ""
            },
            "colorscale": [
             [
              0,
              "#0d0887"
             ],
             [
              0.1111111111111111,
              "#46039f"
             ],
             [
              0.2222222222222222,
              "#7201a8"
             ],
             [
              0.3333333333333333,
              "#9c179e"
             ],
             [
              0.4444444444444444,
              "#bd3786"
             ],
             [
              0.5555555555555556,
              "#d8576b"
             ],
             [
              0.6666666666666666,
              "#ed7953"
             ],
             [
              0.7777777777777778,
              "#fb9f3a"
             ],
             [
              0.8888888888888888,
              "#fdca26"
             ],
             [
              1,
              "#f0f921"
             ]
            ],
            "type": "histogram2d"
           }
          ],
          "histogram2dcontour": [
           {
            "colorbar": {
             "outlinewidth": 0,
             "ticks": ""
            },
            "colorscale": [
             [
              0,
              "#0d0887"
             ],
             [
              0.1111111111111111,
              "#46039f"
             ],
             [
              0.2222222222222222,
              "#7201a8"
             ],
             [
              0.3333333333333333,
              "#9c179e"
             ],
             [
              0.4444444444444444,
              "#bd3786"
             ],
             [
              0.5555555555555556,
              "#d8576b"
             ],
             [
              0.6666666666666666,
              "#ed7953"
             ],
             [
              0.7777777777777778,
              "#fb9f3a"
             ],
             [
              0.8888888888888888,
              "#fdca26"
             ],
             [
              1,
              "#f0f921"
             ]
            ],
            "type": "histogram2dcontour"
           }
          ],
          "mesh3d": [
           {
            "colorbar": {
             "outlinewidth": 0,
             "ticks": ""
            },
            "type": "mesh3d"
           }
          ],
          "parcoords": [
           {
            "line": {
             "colorbar": {
              "outlinewidth": 0,
              "ticks": ""
             }
            },
            "type": "parcoords"
           }
          ],
          "pie": [
           {
            "automargin": true,
            "type": "pie"
           }
          ],
          "scatter": [
           {
            "marker": {
             "colorbar": {
              "outlinewidth": 0,
              "ticks": ""
             }
            },
            "type": "scatter"
           }
          ],
          "scatter3d": [
           {
            "line": {
             "colorbar": {
              "outlinewidth": 0,
              "ticks": ""
             }
            },
            "marker": {
             "colorbar": {
              "outlinewidth": 0,
              "ticks": ""
             }
            },
            "type": "scatter3d"
           }
          ],
          "scattercarpet": [
           {
            "marker": {
             "colorbar": {
              "outlinewidth": 0,
              "ticks": ""
             }
            },
            "type": "scattercarpet"
           }
          ],
          "scattergeo": [
           {
            "marker": {
             "colorbar": {
              "outlinewidth": 0,
              "ticks": ""
             }
            },
            "type": "scattergeo"
           }
          ],
          "scattergl": [
           {
            "marker": {
             "colorbar": {
              "outlinewidth": 0,
              "ticks": ""
             }
            },
            "type": "scattergl"
           }
          ],
          "scattermapbox": [
           {
            "marker": {
             "colorbar": {
              "outlinewidth": 0,
              "ticks": ""
             }
            },
            "type": "scattermapbox"
           }
          ],
          "scatterpolar": [
           {
            "marker": {
             "colorbar": {
              "outlinewidth": 0,
              "ticks": ""
             }
            },
            "type": "scatterpolar"
           }
          ],
          "scatterpolargl": [
           {
            "marker": {
             "colorbar": {
              "outlinewidth": 0,
              "ticks": ""
             }
            },
            "type": "scatterpolargl"
           }
          ],
          "scatterternary": [
           {
            "marker": {
             "colorbar": {
              "outlinewidth": 0,
              "ticks": ""
             }
            },
            "type": "scatterternary"
           }
          ],
          "surface": [
           {
            "colorbar": {
             "outlinewidth": 0,
             "ticks": ""
            },
            "colorscale": [
             [
              0,
              "#0d0887"
             ],
             [
              0.1111111111111111,
              "#46039f"
             ],
             [
              0.2222222222222222,
              "#7201a8"
             ],
             [
              0.3333333333333333,
              "#9c179e"
             ],
             [
              0.4444444444444444,
              "#bd3786"
             ],
             [
              0.5555555555555556,
              "#d8576b"
             ],
             [
              0.6666666666666666,
              "#ed7953"
             ],
             [
              0.7777777777777778,
              "#fb9f3a"
             ],
             [
              0.8888888888888888,
              "#fdca26"
             ],
             [
              1,
              "#f0f921"
             ]
            ],
            "type": "surface"
           }
          ],
          "table": [
           {
            "cells": {
             "fill": {
              "color": "#EBF0F8"
             },
             "line": {
              "color": "white"
             }
            },
            "header": {
             "fill": {
              "color": "#C8D4E3"
             },
             "line": {
              "color": "white"
             }
            },
            "type": "table"
           }
          ]
         },
         "layout": {
          "annotationdefaults": {
           "arrowcolor": "#2a3f5f",
           "arrowhead": 0,
           "arrowwidth": 1
          },
          "autotypenumbers": "strict",
          "coloraxis": {
           "colorbar": {
            "outlinewidth": 0,
            "ticks": ""
           }
          },
          "colorscale": {
           "diverging": [
            [
             0,
             "#8e0152"
            ],
            [
             0.1,
             "#c51b7d"
            ],
            [
             0.2,
             "#de77ae"
            ],
            [
             0.3,
             "#f1b6da"
            ],
            [
             0.4,
             "#fde0ef"
            ],
            [
             0.5,
             "#f7f7f7"
            ],
            [
             0.6,
             "#e6f5d0"
            ],
            [
             0.7,
             "#b8e186"
            ],
            [
             0.8,
             "#7fbc41"
            ],
            [
             0.9,
             "#4d9221"
            ],
            [
             1,
             "#276419"
            ]
           ],
           "sequential": [
            [
             0,
             "#0d0887"
            ],
            [
             0.1111111111111111,
             "#46039f"
            ],
            [
             0.2222222222222222,
             "#7201a8"
            ],
            [
             0.3333333333333333,
             "#9c179e"
            ],
            [
             0.4444444444444444,
             "#bd3786"
            ],
            [
             0.5555555555555556,
             "#d8576b"
            ],
            [
             0.6666666666666666,
             "#ed7953"
            ],
            [
             0.7777777777777778,
             "#fb9f3a"
            ],
            [
             0.8888888888888888,
             "#fdca26"
            ],
            [
             1,
             "#f0f921"
            ]
           ],
           "sequentialminus": [
            [
             0,
             "#0d0887"
            ],
            [
             0.1111111111111111,
             "#46039f"
            ],
            [
             0.2222222222222222,
             "#7201a8"
            ],
            [
             0.3333333333333333,
             "#9c179e"
            ],
            [
             0.4444444444444444,
             "#bd3786"
            ],
            [
             0.5555555555555556,
             "#d8576b"
            ],
            [
             0.6666666666666666,
             "#ed7953"
            ],
            [
             0.7777777777777778,
             "#fb9f3a"
            ],
            [
             0.8888888888888888,
             "#fdca26"
            ],
            [
             1,
             "#f0f921"
            ]
           ]
          },
          "colorway": [
           "#636efa",
           "#EF553B",
           "#00cc96",
           "#ab63fa",
           "#FFA15A",
           "#19d3f3",
           "#FF6692",
           "#B6E880",
           "#FF97FF",
           "#FECB52"
          ],
          "font": {
           "color": "#2a3f5f"
          },
          "geo": {
           "bgcolor": "white",
           "lakecolor": "white",
           "landcolor": "#E5ECF6",
           "showlakes": true,
           "showland": true,
           "subunitcolor": "white"
          },
          "hoverlabel": {
           "align": "left"
          },
          "hovermode": "closest",
          "mapbox": {
           "style": "light"
          },
          "paper_bgcolor": "white",
          "plot_bgcolor": "#E5ECF6",
          "polar": {
           "angularaxis": {
            "gridcolor": "white",
            "linecolor": "white",
            "ticks": ""
           },
           "bgcolor": "#E5ECF6",
           "radialaxis": {
            "gridcolor": "white",
            "linecolor": "white",
            "ticks": ""
           }
          },
          "scene": {
           "xaxis": {
            "backgroundcolor": "#E5ECF6",
            "gridcolor": "white",
            "gridwidth": 2,
            "linecolor": "white",
            "showbackground": true,
            "ticks": "",
            "zerolinecolor": "white"
           },
           "yaxis": {
            "backgroundcolor": "#E5ECF6",
            "gridcolor": "white",
            "gridwidth": 2,
            "linecolor": "white",
            "showbackground": true,
            "ticks": "",
            "zerolinecolor": "white"
           },
           "zaxis": {
            "backgroundcolor": "#E5ECF6",
            "gridcolor": "white",
            "gridwidth": 2,
            "linecolor": "white",
            "showbackground": true,
            "ticks": "",
            "zerolinecolor": "white"
           }
          },
          "shapedefaults": {
           "line": {
            "color": "#2a3f5f"
           }
          },
          "ternary": {
           "aaxis": {
            "gridcolor": "white",
            "linecolor": "white",
            "ticks": ""
           },
           "baxis": {
            "gridcolor": "white",
            "linecolor": "white",
            "ticks": ""
           },
           "bgcolor": "#E5ECF6",
           "caxis": {
            "gridcolor": "white",
            "linecolor": "white",
            "ticks": ""
           }
          },
          "title": {
           "x": 0.05
          },
          "xaxis": {
           "automargin": true,
           "gridcolor": "white",
           "linecolor": "white",
           "ticks": "",
           "title": {
            "standoff": 15
           },
           "zerolinecolor": "white",
           "zerolinewidth": 2
          },
          "yaxis": {
           "automargin": true,
           "gridcolor": "white",
           "linecolor": "white",
           "ticks": "",
           "title": {
            "standoff": 15
           },
           "zerolinecolor": "white",
           "zerolinewidth": 2
          }
         }
        },
        "xaxis": {
         "anchor": "y",
         "domain": [
          0,
          1
         ],
         "title": {
          "text": "숙박, 식당, 교통 인프라"
         }
        },
        "yaxis": {
         "anchor": "x",
         "domain": [
          0,
          1
         ],
         "title": {
          "text": "방문객 수"
         }
        }
       }
      },
      "text/html": [
       "<div>                            <div id=\"afb1941b-6335-4034-8e76-94bd6fa6c7e7\" class=\"plotly-graph-div\" style=\"height:525px; width:100%;\"></div>            <script type=\"text/javascript\">                require([\"plotly\"], function(Plotly) {                    window.PLOTLYENV=window.PLOTLYENV || {};                                    if (document.getElementById(\"afb1941b-6335-4034-8e76-94bd6fa6c7e7\")) {                    Plotly.newPlot(                        \"afb1941b-6335-4034-8e76-94bd6fa6c7e7\",                        [{\"hovertemplate\":\"\\uc219\\ubc15, \\uc2dd\\ub2f9, \\uad50\\ud1b5 \\uc778\\ud504\\ub77c=%{x}<br>\\ubc29\\ubb38\\uac1d \\uc218=%{y}<br>\\uc9c0\\uc218=%{marker.size}<br>\\uc2dc\\uad70\\uad6c\\uba85\\uce6d=%{text}<extra></extra>\",\"legendgroup\":\"\",\"marker\":{\"color\":\"orange\",\"opacity\":0.4,\"size\":[9.85999270390453,9.719803693805162,9.689334183500048,9.42576764122675,9.40796788730323,9.246083611443858,9.24193443889734,9.119301715229625,9.029250576395636,9.028886642139097,8.91834659848269,8.8603347141003,8.85424227569886,8.83812016590319,8.834076855345623,8.76563187691447,8.738638417795274,8.724478714525286,8.723790916018347,8.723170753510415,8.717690334532609,8.716618180124279,8.685493605022282,8.634536980345347,8.631357949136914,8.631312665469961],\"sizemode\":\"area\",\"sizeref\":0.024649981759761325,\"symbol\":\"circle\"},\"mode\":\"markers+text\",\"name\":\"\",\"orientation\":\"v\",\"showlegend\":false,\"text\":[\"\\uc5ec\\uc218\\uc2dc\",\"\\ud1b5\\uc601\\uc2dc\",\"\\uc81c\\uc8fc\\uc2dc\",\"\\uc9c4\\ub3c4\\uad70\",\"\\uc6b8\\ub989\\uad70\",\"\\uacbd\\uc8fc\\uc2dc\",\"\\uc644\\ub3c4\\uad70\",\"\\uae30\\uc7a5\\uad70\",\"\\ubcf4\\uc131\\uad70\",\"\\uac70\\uc81c\\uc2dc\",\"\\uac15\\ub989\\uc2dc\",\"\\uc218\\uc601\\uad6c\",\"\\ud0dc\\uc548\\uad70\",\"\\ud654\\uc131\\uc2dc\",\"\\ubb34\\uc8fc\\uad70\",\"\\uad70\\uc704\\uad70\",\"\\uae40\\ucc9c\\uc2dc\",\"\\uc608\\ucc9c\\uad70\",\"\\ud3ec\\ud56d\\uc2dc\",\"\\ud568\\ud3c9\\uad70\",\"\\ud574\\uc6b4\\ub300\\uad6c\",\"\\ub0a8\\ud574\\uad70\",\"\\uc11c\\uad6c\",\"\\ub2e8\\uc591\\uad70\",\"\\uae40\\ud3ec\\uc2dc\",\"\\uc18d\\ucd08\\uc2dc\"],\"type\":\"scatter\",\"x\":[0.3041032355928686,0.32718670337625566,0.5441252642586409,0.18181749625522314,0.170989256607743,0.32495281716413044,0.10942892957767104,0.26049785737883885,0.36273676024619217,0.26672568491732573,0.26777655822959334,0.248146972242397,0.1626286456605183,0.24388507781450355,0.27539554036412517,0.37602,0.2888218416000744,0.272063162379694,0.22718092065895124,0.2677289843184329,0.17396292587316683,0.25774011634809774,0.269749603832719,0.16873487360891026,0.3082645536602258,0.12306714677180801],\"xaxis\":\"x\",\"y\":[0.245,0.131,0.672,0.021,0.003,0.327,0.043,0.116,0.033,0.331,0.103,0.095,0.058,0.287,0.03,0.026,0.118,0.047,0.514,0.024,0.186,0.047,0.134,0.041,0.157,0.075],\"yaxis\":\"y\"}],                        {\"legend\":{\"itemsizing\":\"constant\",\"tracegroupgap\":0},\"margin\":{\"t\":60},\"template\":{\"data\":{\"bar\":[{\"error_x\":{\"color\":\"#2a3f5f\"},\"error_y\":{\"color\":\"#2a3f5f\"},\"marker\":{\"line\":{\"color\":\"#E5ECF6\",\"width\":0.5},\"pattern\":{\"fillmode\":\"overlay\",\"size\":10,\"solidity\":0.2}},\"type\":\"bar\"}],\"barpolar\":[{\"marker\":{\"line\":{\"color\":\"#E5ECF6\",\"width\":0.5},\"pattern\":{\"fillmode\":\"overlay\",\"size\":10,\"solidity\":0.2}},\"type\":\"barpolar\"}],\"carpet\":[{\"aaxis\":{\"endlinecolor\":\"#2a3f5f\",\"gridcolor\":\"white\",\"linecolor\":\"white\",\"minorgridcolor\":\"white\",\"startlinecolor\":\"#2a3f5f\"},\"baxis\":{\"endlinecolor\":\"#2a3f5f\",\"gridcolor\":\"white\",\"linecolor\":\"white\",\"minorgridcolor\":\"white\",\"startlinecolor\":\"#2a3f5f\"},\"type\":\"carpet\"}],\"choropleth\":[{\"colorbar\":{\"outlinewidth\":0,\"ticks\":\"\"},\"type\":\"choropleth\"}],\"contour\":[{\"colorbar\":{\"outlinewidth\":0,\"ticks\":\"\"},\"colorscale\":[[0.0,\"#0d0887\"],[0.1111111111111111,\"#46039f\"],[0.2222222222222222,\"#7201a8\"],[0.3333333333333333,\"#9c179e\"],[0.4444444444444444,\"#bd3786\"],[0.5555555555555556,\"#d8576b\"],[0.6666666666666666,\"#ed7953\"],[0.7777777777777778,\"#fb9f3a\"],[0.8888888888888888,\"#fdca26\"],[1.0,\"#f0f921\"]],\"type\":\"contour\"}],\"contourcarpet\":[{\"colorbar\":{\"outlinewidth\":0,\"ticks\":\"\"},\"type\":\"contourcarpet\"}],\"heatmap\":[{\"colorbar\":{\"outlinewidth\":0,\"ticks\":\"\"},\"colorscale\":[[0.0,\"#0d0887\"],[0.1111111111111111,\"#46039f\"],[0.2222222222222222,\"#7201a8\"],[0.3333333333333333,\"#9c179e\"],[0.4444444444444444,\"#bd3786\"],[0.5555555555555556,\"#d8576b\"],[0.6666666666666666,\"#ed7953\"],[0.7777777777777778,\"#fb9f3a\"],[0.8888888888888888,\"#fdca26\"],[1.0,\"#f0f921\"]],\"type\":\"heatmap\"}],\"heatmapgl\":[{\"colorbar\":{\"outlinewidth\":0,\"ticks\":\"\"},\"colorscale\":[[0.0,\"#0d0887\"],[0.1111111111111111,\"#46039f\"],[0.2222222222222222,\"#7201a8\"],[0.3333333333333333,\"#9c179e\"],[0.4444444444444444,\"#bd3786\"],[0.5555555555555556,\"#d8576b\"],[0.6666666666666666,\"#ed7953\"],[0.7777777777777778,\"#fb9f3a\"],[0.8888888888888888,\"#fdca26\"],[1.0,\"#f0f921\"]],\"type\":\"heatmapgl\"}],\"histogram\":[{\"marker\":{\"pattern\":{\"fillmode\":\"overlay\",\"size\":10,\"solidity\":0.2}},\"type\":\"histogram\"}],\"histogram2d\":[{\"colorbar\":{\"outlinewidth\":0,\"ticks\":\"\"},\"colorscale\":[[0.0,\"#0d0887\"],[0.1111111111111111,\"#46039f\"],[0.2222222222222222,\"#7201a8\"],[0.3333333333333333,\"#9c179e\"],[0.4444444444444444,\"#bd3786\"],[0.5555555555555556,\"#d8576b\"],[0.6666666666666666,\"#ed7953\"],[0.7777777777777778,\"#fb9f3a\"],[0.8888888888888888,\"#fdca26\"],[1.0,\"#f0f921\"]],\"type\":\"histogram2d\"}],\"histogram2dcontour\":[{\"colorbar\":{\"outlinewidth\":0,\"ticks\":\"\"},\"colorscale\":[[0.0,\"#0d0887\"],[0.1111111111111111,\"#46039f\"],[0.2222222222222222,\"#7201a8\"],[0.3333333333333333,\"#9c179e\"],[0.4444444444444444,\"#bd3786\"],[0.5555555555555556,\"#d8576b\"],[0.6666666666666666,\"#ed7953\"],[0.7777777777777778,\"#fb9f3a\"],[0.8888888888888888,\"#fdca26\"],[1.0,\"#f0f921\"]],\"type\":\"histogram2dcontour\"}],\"mesh3d\":[{\"colorbar\":{\"outlinewidth\":0,\"ticks\":\"\"},\"type\":\"mesh3d\"}],\"parcoords\":[{\"line\":{\"colorbar\":{\"outlinewidth\":0,\"ticks\":\"\"}},\"type\":\"parcoords\"}],\"pie\":[{\"automargin\":true,\"type\":\"pie\"}],\"scatter\":[{\"marker\":{\"colorbar\":{\"outlinewidth\":0,\"ticks\":\"\"}},\"type\":\"scatter\"}],\"scatter3d\":[{\"line\":{\"colorbar\":{\"outlinewidth\":0,\"ticks\":\"\"}},\"marker\":{\"colorbar\":{\"outlinewidth\":0,\"ticks\":\"\"}},\"type\":\"scatter3d\"}],\"scattercarpet\":[{\"marker\":{\"colorbar\":{\"outlinewidth\":0,\"ticks\":\"\"}},\"type\":\"scattercarpet\"}],\"scattergeo\":[{\"marker\":{\"colorbar\":{\"outlinewidth\":0,\"ticks\":\"\"}},\"type\":\"scattergeo\"}],\"scattergl\":[{\"marker\":{\"colorbar\":{\"outlinewidth\":0,\"ticks\":\"\"}},\"type\":\"scattergl\"}],\"scattermapbox\":[{\"marker\":{\"colorbar\":{\"outlinewidth\":0,\"ticks\":\"\"}},\"type\":\"scattermapbox\"}],\"scatterpolar\":[{\"marker\":{\"colorbar\":{\"outlinewidth\":0,\"ticks\":\"\"}},\"type\":\"scatterpolar\"}],\"scatterpolargl\":[{\"marker\":{\"colorbar\":{\"outlinewidth\":0,\"ticks\":\"\"}},\"type\":\"scatterpolargl\"}],\"scatterternary\":[{\"marker\":{\"colorbar\":{\"outlinewidth\":0,\"ticks\":\"\"}},\"type\":\"scatterternary\"}],\"surface\":[{\"colorbar\":{\"outlinewidth\":0,\"ticks\":\"\"},\"colorscale\":[[0.0,\"#0d0887\"],[0.1111111111111111,\"#46039f\"],[0.2222222222222222,\"#7201a8\"],[0.3333333333333333,\"#9c179e\"],[0.4444444444444444,\"#bd3786\"],[0.5555555555555556,\"#d8576b\"],[0.6666666666666666,\"#ed7953\"],[0.7777777777777778,\"#fb9f3a\"],[0.8888888888888888,\"#fdca26\"],[1.0,\"#f0f921\"]],\"type\":\"surface\"}],\"table\":[{\"cells\":{\"fill\":{\"color\":\"#EBF0F8\"},\"line\":{\"color\":\"white\"}},\"header\":{\"fill\":{\"color\":\"#C8D4E3\"},\"line\":{\"color\":\"white\"}},\"type\":\"table\"}]},\"layout\":{\"annotationdefaults\":{\"arrowcolor\":\"#2a3f5f\",\"arrowhead\":0,\"arrowwidth\":1},\"autotypenumbers\":\"strict\",\"coloraxis\":{\"colorbar\":{\"outlinewidth\":0,\"ticks\":\"\"}},\"colorscale\":{\"diverging\":[[0,\"#8e0152\"],[0.1,\"#c51b7d\"],[0.2,\"#de77ae\"],[0.3,\"#f1b6da\"],[0.4,\"#fde0ef\"],[0.5,\"#f7f7f7\"],[0.6,\"#e6f5d0\"],[0.7,\"#b8e186\"],[0.8,\"#7fbc41\"],[0.9,\"#4d9221\"],[1,\"#276419\"]],\"sequential\":[[0.0,\"#0d0887\"],[0.1111111111111111,\"#46039f\"],[0.2222222222222222,\"#7201a8\"],[0.3333333333333333,\"#9c179e\"],[0.4444444444444444,\"#bd3786\"],[0.5555555555555556,\"#d8576b\"],[0.6666666666666666,\"#ed7953\"],[0.7777777777777778,\"#fb9f3a\"],[0.8888888888888888,\"#fdca26\"],[1.0,\"#f0f921\"]],\"sequentialminus\":[[0.0,\"#0d0887\"],[0.1111111111111111,\"#46039f\"],[0.2222222222222222,\"#7201a8\"],[0.3333333333333333,\"#9c179e\"],[0.4444444444444444,\"#bd3786\"],[0.5555555555555556,\"#d8576b\"],[0.6666666666666666,\"#ed7953\"],[0.7777777777777778,\"#fb9f3a\"],[0.8888888888888888,\"#fdca26\"],[1.0,\"#f0f921\"]]},\"colorway\":[\"#636efa\",\"#EF553B\",\"#00cc96\",\"#ab63fa\",\"#FFA15A\",\"#19d3f3\",\"#FF6692\",\"#B6E880\",\"#FF97FF\",\"#FECB52\"],\"font\":{\"color\":\"#2a3f5f\"},\"geo\":{\"bgcolor\":\"white\",\"lakecolor\":\"white\",\"landcolor\":\"#E5ECF6\",\"showlakes\":true,\"showland\":true,\"subunitcolor\":\"white\"},\"hoverlabel\":{\"align\":\"left\"},\"hovermode\":\"closest\",\"mapbox\":{\"style\":\"light\"},\"paper_bgcolor\":\"white\",\"plot_bgcolor\":\"#E5ECF6\",\"polar\":{\"angularaxis\":{\"gridcolor\":\"white\",\"linecolor\":\"white\",\"ticks\":\"\"},\"bgcolor\":\"#E5ECF6\",\"radialaxis\":{\"gridcolor\":\"white\",\"linecolor\":\"white\",\"ticks\":\"\"}},\"scene\":{\"xaxis\":{\"backgroundcolor\":\"#E5ECF6\",\"gridcolor\":\"white\",\"gridwidth\":2,\"linecolor\":\"white\",\"showbackground\":true,\"ticks\":\"\",\"zerolinecolor\":\"white\"},\"yaxis\":{\"backgroundcolor\":\"#E5ECF6\",\"gridcolor\":\"white\",\"gridwidth\":2,\"linecolor\":\"white\",\"showbackground\":true,\"ticks\":\"\",\"zerolinecolor\":\"white\"},\"zaxis\":{\"backgroundcolor\":\"#E5ECF6\",\"gridcolor\":\"white\",\"gridwidth\":2,\"linecolor\":\"white\",\"showbackground\":true,\"ticks\":\"\",\"zerolinecolor\":\"white\"}},\"shapedefaults\":{\"line\":{\"color\":\"#2a3f5f\"}},\"ternary\":{\"aaxis\":{\"gridcolor\":\"white\",\"linecolor\":\"white\",\"ticks\":\"\"},\"baxis\":{\"gridcolor\":\"white\",\"linecolor\":\"white\",\"ticks\":\"\"},\"bgcolor\":\"#E5ECF6\",\"caxis\":{\"gridcolor\":\"white\",\"linecolor\":\"white\",\"ticks\":\"\"}},\"title\":{\"x\":0.05},\"xaxis\":{\"automargin\":true,\"gridcolor\":\"white\",\"linecolor\":\"white\",\"ticks\":\"\",\"title\":{\"standoff\":15},\"zerolinecolor\":\"white\",\"zerolinewidth\":2},\"yaxis\":{\"automargin\":true,\"gridcolor\":\"white\",\"linecolor\":\"white\",\"ticks\":\"\",\"title\":{\"standoff\":15},\"zerolinecolor\":\"white\",\"zerolinewidth\":2}}},\"xaxis\":{\"anchor\":\"y\",\"domain\":[0.0,1.0],\"title\":{\"text\":\"\\uc219\\ubc15, \\uc2dd\\ub2f9, \\uad50\\ud1b5 \\uc778\\ud504\\ub77c\"}},\"yaxis\":{\"anchor\":\"x\",\"domain\":[0.0,1.0],\"title\":{\"text\":\"\\ubc29\\ubb38\\uac1d \\uc218\"}}},                        {\"responsive\": true}                    ).then(function(){\n",
       "                            \n",
       "var gd = document.getElementById('afb1941b-6335-4034-8e76-94bd6fa6c7e7');\n",
       "var x = new MutationObserver(function (mutations, observer) {{\n",
       "        var display = window.getComputedStyle(gd).display;\n",
       "        if (!display || display === 'none') {{\n",
       "            console.log([gd, 'removed!']);\n",
       "            Plotly.purge(gd);\n",
       "            observer.disconnect();\n",
       "        }}\n",
       "}});\n",
       "\n",
       "// Listen for the removal of the full notebook cells\n",
       "var notebookContainer = gd.closest('#notebook-container');\n",
       "if (notebookContainer) {{\n",
       "    x.observe(notebookContainer, {childList: true});\n",
       "}}\n",
       "\n",
       "// Listen for the clearing of the current output cell\n",
       "var outputEl = gd.closest('.output');\n",
       "if (outputEl) {{\n",
       "    x.observe(outputEl, {childList: true});\n",
       "}}\n",
       "\n",
       "                        })                };                });            </script>        </div>"
      ]
     },
     "metadata": {},
     "output_type": "display_data"
    }
   ],
   "source": [
    "#인프라, 레어\n",
    "import plotly.express as px\n",
    "import plotly\n",
    "\n",
    "fig = px.scatter(top10, x='숙박, 식당, 교통 인프라', \n",
    "                 y='방문객 수', \n",
    "                 size='지수', \n",
    "                 color_discrete_sequence=['orange'],\n",
    "                 text='시군구명칭',\n",
    "                 opacity=0.4,#투명도\n",
    "                 size_max=20)\n",
    "fig.show()\n",
    "\n",
    "# plotly.offline.plot(fig, filename='‪scatter_rare.html')\n",
    "\n"
   ]
  },
  {
   "cell_type": "code",
   "execution_count": 74,
   "id": "60f2ab0e",
   "metadata": {},
   "outputs": [
    {
     "data": {
      "application/vnd.plotly.v1+json": {
       "config": {
        "plotlyServerURL": "https://plot.ly"
       },
       "data": [
        {
         "hovertemplate": "야외관광기회도=%{x}<br>방문객 수=%{y}<br>지수=%{marker.size}<br>시군구명칭=%{text}<extra></extra>",
         "legendgroup": "",
         "marker": {
          "color": "orange",
          "opacity": 0.4,
          "size": [
           9.85999270390453,
           9.719803693805162,
           9.689334183500048,
           9.42576764122675,
           9.40796788730323,
           9.246083611443858,
           9.24193443889734,
           9.119301715229625,
           9.029250576395636,
           9.028886642139097,
           8.91834659848269,
           8.8603347141003,
           8.85424227569886,
           8.83812016590319,
           8.834076855345623,
           8.76563187691447,
           8.738638417795274,
           8.724478714525286,
           8.723790916018347,
           8.723170753510415,
           8.717690334532609,
           8.716618180124279,
           8.685493605022282,
           8.634536980345347,
           8.631357949136914,
           8.631312665469961
          ],
          "sizemode": "area",
          "sizeref": 0.024649981759761325,
          "symbol": "circle"
         },
         "mode": "markers+text",
         "name": "",
         "orientation": "v",
         "showlegend": false,
         "text": [
          "여수시",
          "통영시",
          "제주시",
          "진도군",
          "울릉군",
          "경주시",
          "완도군",
          "기장군",
          "보성군",
          "거제시",
          "강릉시",
          "수영구",
          "태안군",
          "화성시",
          "무주군",
          "군위군",
          "김천시",
          "예천군",
          "포항시",
          "함평군",
          "해운대구",
          "남해군",
          "서구",
          "단양군",
          "김포시",
          "속초시"
         ],
         "type": "scatter",
         "x": [
          0.5983616105055579,
          0.6700213855518579,
          0.1480524390300484,
          0.9426919002456393,
          0,
          0.07080729404088852,
          1,
          0,
          0.025295657017127736,
          0.307782169410637,
          0.09986158233132857,
          0,
          0.4724841550511568,
          0.004065176828669925,
          0.19179940665233486,
          0.026951440881804074,
          0.00613082350599072,
          0.002457443881419152,
          0.006509389359778424,
          0.0009757756865288704,
          0,
          0.1527061001083685,
          0,
          0.19318860358093531,
          0.003446561925964694,
          0.45020863793717963
         ],
         "xaxis": "x",
         "y": [
          0.245,
          0.131,
          0.672,
          0.021,
          0.003,
          0.327,
          0.043,
          0.116,
          0.033,
          0.331,
          0.103,
          0.095,
          0.058,
          0.287,
          0.03,
          0.026,
          0.118,
          0.047,
          0.514,
          0.024,
          0.186,
          0.047,
          0.134,
          0.041,
          0.157,
          0.075
         ],
         "yaxis": "y"
        }
       ],
       "layout": {
        "legend": {
         "itemsizing": "constant",
         "tracegroupgap": 0
        },
        "margin": {
         "t": 60
        },
        "template": {
         "data": {
          "bar": [
           {
            "error_x": {
             "color": "#2a3f5f"
            },
            "error_y": {
             "color": "#2a3f5f"
            },
            "marker": {
             "line": {
              "color": "#E5ECF6",
              "width": 0.5
             },
             "pattern": {
              "fillmode": "overlay",
              "size": 10,
              "solidity": 0.2
             }
            },
            "type": "bar"
           }
          ],
          "barpolar": [
           {
            "marker": {
             "line": {
              "color": "#E5ECF6",
              "width": 0.5
             },
             "pattern": {
              "fillmode": "overlay",
              "size": 10,
              "solidity": 0.2
             }
            },
            "type": "barpolar"
           }
          ],
          "carpet": [
           {
            "aaxis": {
             "endlinecolor": "#2a3f5f",
             "gridcolor": "white",
             "linecolor": "white",
             "minorgridcolor": "white",
             "startlinecolor": "#2a3f5f"
            },
            "baxis": {
             "endlinecolor": "#2a3f5f",
             "gridcolor": "white",
             "linecolor": "white",
             "minorgridcolor": "white",
             "startlinecolor": "#2a3f5f"
            },
            "type": "carpet"
           }
          ],
          "choropleth": [
           {
            "colorbar": {
             "outlinewidth": 0,
             "ticks": ""
            },
            "type": "choropleth"
           }
          ],
          "contour": [
           {
            "colorbar": {
             "outlinewidth": 0,
             "ticks": ""
            },
            "colorscale": [
             [
              0,
              "#0d0887"
             ],
             [
              0.1111111111111111,
              "#46039f"
             ],
             [
              0.2222222222222222,
              "#7201a8"
             ],
             [
              0.3333333333333333,
              "#9c179e"
             ],
             [
              0.4444444444444444,
              "#bd3786"
             ],
             [
              0.5555555555555556,
              "#d8576b"
             ],
             [
              0.6666666666666666,
              "#ed7953"
             ],
             [
              0.7777777777777778,
              "#fb9f3a"
             ],
             [
              0.8888888888888888,
              "#fdca26"
             ],
             [
              1,
              "#f0f921"
             ]
            ],
            "type": "contour"
           }
          ],
          "contourcarpet": [
           {
            "colorbar": {
             "outlinewidth": 0,
             "ticks": ""
            },
            "type": "contourcarpet"
           }
          ],
          "heatmap": [
           {
            "colorbar": {
             "outlinewidth": 0,
             "ticks": ""
            },
            "colorscale": [
             [
              0,
              "#0d0887"
             ],
             [
              0.1111111111111111,
              "#46039f"
             ],
             [
              0.2222222222222222,
              "#7201a8"
             ],
             [
              0.3333333333333333,
              "#9c179e"
             ],
             [
              0.4444444444444444,
              "#bd3786"
             ],
             [
              0.5555555555555556,
              "#d8576b"
             ],
             [
              0.6666666666666666,
              "#ed7953"
             ],
             [
              0.7777777777777778,
              "#fb9f3a"
             ],
             [
              0.8888888888888888,
              "#fdca26"
             ],
             [
              1,
              "#f0f921"
             ]
            ],
            "type": "heatmap"
           }
          ],
          "heatmapgl": [
           {
            "colorbar": {
             "outlinewidth": 0,
             "ticks": ""
            },
            "colorscale": [
             [
              0,
              "#0d0887"
             ],
             [
              0.1111111111111111,
              "#46039f"
             ],
             [
              0.2222222222222222,
              "#7201a8"
             ],
             [
              0.3333333333333333,
              "#9c179e"
             ],
             [
              0.4444444444444444,
              "#bd3786"
             ],
             [
              0.5555555555555556,
              "#d8576b"
             ],
             [
              0.6666666666666666,
              "#ed7953"
             ],
             [
              0.7777777777777778,
              "#fb9f3a"
             ],
             [
              0.8888888888888888,
              "#fdca26"
             ],
             [
              1,
              "#f0f921"
             ]
            ],
            "type": "heatmapgl"
           }
          ],
          "histogram": [
           {
            "marker": {
             "pattern": {
              "fillmode": "overlay",
              "size": 10,
              "solidity": 0.2
             }
            },
            "type": "histogram"
           }
          ],
          "histogram2d": [
           {
            "colorbar": {
             "outlinewidth": 0,
             "ticks": ""
            },
            "colorscale": [
             [
              0,
              "#0d0887"
             ],
             [
              0.1111111111111111,
              "#46039f"
             ],
             [
              0.2222222222222222,
              "#7201a8"
             ],
             [
              0.3333333333333333,
              "#9c179e"
             ],
             [
              0.4444444444444444,
              "#bd3786"
             ],
             [
              0.5555555555555556,
              "#d8576b"
             ],
             [
              0.6666666666666666,
              "#ed7953"
             ],
             [
              0.7777777777777778,
              "#fb9f3a"
             ],
             [
              0.8888888888888888,
              "#fdca26"
             ],
             [
              1,
              "#f0f921"
             ]
            ],
            "type": "histogram2d"
           }
          ],
          "histogram2dcontour": [
           {
            "colorbar": {
             "outlinewidth": 0,
             "ticks": ""
            },
            "colorscale": [
             [
              0,
              "#0d0887"
             ],
             [
              0.1111111111111111,
              "#46039f"
             ],
             [
              0.2222222222222222,
              "#7201a8"
             ],
             [
              0.3333333333333333,
              "#9c179e"
             ],
             [
              0.4444444444444444,
              "#bd3786"
             ],
             [
              0.5555555555555556,
              "#d8576b"
             ],
             [
              0.6666666666666666,
              "#ed7953"
             ],
             [
              0.7777777777777778,
              "#fb9f3a"
             ],
             [
              0.8888888888888888,
              "#fdca26"
             ],
             [
              1,
              "#f0f921"
             ]
            ],
            "type": "histogram2dcontour"
           }
          ],
          "mesh3d": [
           {
            "colorbar": {
             "outlinewidth": 0,
             "ticks": ""
            },
            "type": "mesh3d"
           }
          ],
          "parcoords": [
           {
            "line": {
             "colorbar": {
              "outlinewidth": 0,
              "ticks": ""
             }
            },
            "type": "parcoords"
           }
          ],
          "pie": [
           {
            "automargin": true,
            "type": "pie"
           }
          ],
          "scatter": [
           {
            "marker": {
             "colorbar": {
              "outlinewidth": 0,
              "ticks": ""
             }
            },
            "type": "scatter"
           }
          ],
          "scatter3d": [
           {
            "line": {
             "colorbar": {
              "outlinewidth": 0,
              "ticks": ""
             }
            },
            "marker": {
             "colorbar": {
              "outlinewidth": 0,
              "ticks": ""
             }
            },
            "type": "scatter3d"
           }
          ],
          "scattercarpet": [
           {
            "marker": {
             "colorbar": {
              "outlinewidth": 0,
              "ticks": ""
             }
            },
            "type": "scattercarpet"
           }
          ],
          "scattergeo": [
           {
            "marker": {
             "colorbar": {
              "outlinewidth": 0,
              "ticks": ""
             }
            },
            "type": "scattergeo"
           }
          ],
          "scattergl": [
           {
            "marker": {
             "colorbar": {
              "outlinewidth": 0,
              "ticks": ""
             }
            },
            "type": "scattergl"
           }
          ],
          "scattermapbox": [
           {
            "marker": {
             "colorbar": {
              "outlinewidth": 0,
              "ticks": ""
             }
            },
            "type": "scattermapbox"
           }
          ],
          "scatterpolar": [
           {
            "marker": {
             "colorbar": {
              "outlinewidth": 0,
              "ticks": ""
             }
            },
            "type": "scatterpolar"
           }
          ],
          "scatterpolargl": [
           {
            "marker": {
             "colorbar": {
              "outlinewidth": 0,
              "ticks": ""
             }
            },
            "type": "scatterpolargl"
           }
          ],
          "scatterternary": [
           {
            "marker": {
             "colorbar": {
              "outlinewidth": 0,
              "ticks": ""
             }
            },
            "type": "scatterternary"
           }
          ],
          "surface": [
           {
            "colorbar": {
             "outlinewidth": 0,
             "ticks": ""
            },
            "colorscale": [
             [
              0,
              "#0d0887"
             ],
             [
              0.1111111111111111,
              "#46039f"
             ],
             [
              0.2222222222222222,
              "#7201a8"
             ],
             [
              0.3333333333333333,
              "#9c179e"
             ],
             [
              0.4444444444444444,
              "#bd3786"
             ],
             [
              0.5555555555555556,
              "#d8576b"
             ],
             [
              0.6666666666666666,
              "#ed7953"
             ],
             [
              0.7777777777777778,
              "#fb9f3a"
             ],
             [
              0.8888888888888888,
              "#fdca26"
             ],
             [
              1,
              "#f0f921"
             ]
            ],
            "type": "surface"
           }
          ],
          "table": [
           {
            "cells": {
             "fill": {
              "color": "#EBF0F8"
             },
             "line": {
              "color": "white"
             }
            },
            "header": {
             "fill": {
              "color": "#C8D4E3"
             },
             "line": {
              "color": "white"
             }
            },
            "type": "table"
           }
          ]
         },
         "layout": {
          "annotationdefaults": {
           "arrowcolor": "#2a3f5f",
           "arrowhead": 0,
           "arrowwidth": 1
          },
          "autotypenumbers": "strict",
          "coloraxis": {
           "colorbar": {
            "outlinewidth": 0,
            "ticks": ""
           }
          },
          "colorscale": {
           "diverging": [
            [
             0,
             "#8e0152"
            ],
            [
             0.1,
             "#c51b7d"
            ],
            [
             0.2,
             "#de77ae"
            ],
            [
             0.3,
             "#f1b6da"
            ],
            [
             0.4,
             "#fde0ef"
            ],
            [
             0.5,
             "#f7f7f7"
            ],
            [
             0.6,
             "#e6f5d0"
            ],
            [
             0.7,
             "#b8e186"
            ],
            [
             0.8,
             "#7fbc41"
            ],
            [
             0.9,
             "#4d9221"
            ],
            [
             1,
             "#276419"
            ]
           ],
           "sequential": [
            [
             0,
             "#0d0887"
            ],
            [
             0.1111111111111111,
             "#46039f"
            ],
            [
             0.2222222222222222,
             "#7201a8"
            ],
            [
             0.3333333333333333,
             "#9c179e"
            ],
            [
             0.4444444444444444,
             "#bd3786"
            ],
            [
             0.5555555555555556,
             "#d8576b"
            ],
            [
             0.6666666666666666,
             "#ed7953"
            ],
            [
             0.7777777777777778,
             "#fb9f3a"
            ],
            [
             0.8888888888888888,
             "#fdca26"
            ],
            [
             1,
             "#f0f921"
            ]
           ],
           "sequentialminus": [
            [
             0,
             "#0d0887"
            ],
            [
             0.1111111111111111,
             "#46039f"
            ],
            [
             0.2222222222222222,
             "#7201a8"
            ],
            [
             0.3333333333333333,
             "#9c179e"
            ],
            [
             0.4444444444444444,
             "#bd3786"
            ],
            [
             0.5555555555555556,
             "#d8576b"
            ],
            [
             0.6666666666666666,
             "#ed7953"
            ],
            [
             0.7777777777777778,
             "#fb9f3a"
            ],
            [
             0.8888888888888888,
             "#fdca26"
            ],
            [
             1,
             "#f0f921"
            ]
           ]
          },
          "colorway": [
           "#636efa",
           "#EF553B",
           "#00cc96",
           "#ab63fa",
           "#FFA15A",
           "#19d3f3",
           "#FF6692",
           "#B6E880",
           "#FF97FF",
           "#FECB52"
          ],
          "font": {
           "color": "#2a3f5f"
          },
          "geo": {
           "bgcolor": "white",
           "lakecolor": "white",
           "landcolor": "#E5ECF6",
           "showlakes": true,
           "showland": true,
           "subunitcolor": "white"
          },
          "hoverlabel": {
           "align": "left"
          },
          "hovermode": "closest",
          "mapbox": {
           "style": "light"
          },
          "paper_bgcolor": "white",
          "plot_bgcolor": "#E5ECF6",
          "polar": {
           "angularaxis": {
            "gridcolor": "white",
            "linecolor": "white",
            "ticks": ""
           },
           "bgcolor": "#E5ECF6",
           "radialaxis": {
            "gridcolor": "white",
            "linecolor": "white",
            "ticks": ""
           }
          },
          "scene": {
           "xaxis": {
            "backgroundcolor": "#E5ECF6",
            "gridcolor": "white",
            "gridwidth": 2,
            "linecolor": "white",
            "showbackground": true,
            "ticks": "",
            "zerolinecolor": "white"
           },
           "yaxis": {
            "backgroundcolor": "#E5ECF6",
            "gridcolor": "white",
            "gridwidth": 2,
            "linecolor": "white",
            "showbackground": true,
            "ticks": "",
            "zerolinecolor": "white"
           },
           "zaxis": {
            "backgroundcolor": "#E5ECF6",
            "gridcolor": "white",
            "gridwidth": 2,
            "linecolor": "white",
            "showbackground": true,
            "ticks": "",
            "zerolinecolor": "white"
           }
          },
          "shapedefaults": {
           "line": {
            "color": "#2a3f5f"
           }
          },
          "ternary": {
           "aaxis": {
            "gridcolor": "white",
            "linecolor": "white",
            "ticks": ""
           },
           "baxis": {
            "gridcolor": "white",
            "linecolor": "white",
            "ticks": ""
           },
           "bgcolor": "#E5ECF6",
           "caxis": {
            "gridcolor": "white",
            "linecolor": "white",
            "ticks": ""
           }
          },
          "title": {
           "x": 0.05
          },
          "xaxis": {
           "automargin": true,
           "gridcolor": "white",
           "linecolor": "white",
           "ticks": "",
           "title": {
            "standoff": 15
           },
           "zerolinecolor": "white",
           "zerolinewidth": 2
          },
          "yaxis": {
           "automargin": true,
           "gridcolor": "white",
           "linecolor": "white",
           "ticks": "",
           "title": {
            "standoff": 15
           },
           "zerolinecolor": "white",
           "zerolinewidth": 2
          }
         }
        },
        "xaxis": {
         "anchor": "y",
         "domain": [
          0,
          1
         ],
         "title": {
          "text": "야외관광기회도"
         }
        },
        "yaxis": {
         "anchor": "x",
         "domain": [
          0,
          1
         ],
         "title": {
          "text": "방문객 수"
         }
        }
       }
      },
      "text/html": [
       "<div>                            <div id=\"9b7925a1-1a12-4eb9-a50f-289d3c5a33b6\" class=\"plotly-graph-div\" style=\"height:525px; width:100%;\"></div>            <script type=\"text/javascript\">                require([\"plotly\"], function(Plotly) {                    window.PLOTLYENV=window.PLOTLYENV || {};                                    if (document.getElementById(\"9b7925a1-1a12-4eb9-a50f-289d3c5a33b6\")) {                    Plotly.newPlot(                        \"9b7925a1-1a12-4eb9-a50f-289d3c5a33b6\",                        [{\"hovertemplate\":\"\\uc57c\\uc678\\uad00\\uad11\\uae30\\ud68c\\ub3c4=%{x}<br>\\ubc29\\ubb38\\uac1d \\uc218=%{y}<br>\\uc9c0\\uc218=%{marker.size}<br>\\uc2dc\\uad70\\uad6c\\uba85\\uce6d=%{text}<extra></extra>\",\"legendgroup\":\"\",\"marker\":{\"color\":\"orange\",\"opacity\":0.4,\"size\":[9.85999270390453,9.719803693805162,9.689334183500048,9.42576764122675,9.40796788730323,9.246083611443858,9.24193443889734,9.119301715229625,9.029250576395636,9.028886642139097,8.91834659848269,8.8603347141003,8.85424227569886,8.83812016590319,8.834076855345623,8.76563187691447,8.738638417795274,8.724478714525286,8.723790916018347,8.723170753510415,8.717690334532609,8.716618180124279,8.685493605022282,8.634536980345347,8.631357949136914,8.631312665469961],\"sizemode\":\"area\",\"sizeref\":0.024649981759761325,\"symbol\":\"circle\"},\"mode\":\"markers+text\",\"name\":\"\",\"orientation\":\"v\",\"showlegend\":false,\"text\":[\"\\uc5ec\\uc218\\uc2dc\",\"\\ud1b5\\uc601\\uc2dc\",\"\\uc81c\\uc8fc\\uc2dc\",\"\\uc9c4\\ub3c4\\uad70\",\"\\uc6b8\\ub989\\uad70\",\"\\uacbd\\uc8fc\\uc2dc\",\"\\uc644\\ub3c4\\uad70\",\"\\uae30\\uc7a5\\uad70\",\"\\ubcf4\\uc131\\uad70\",\"\\uac70\\uc81c\\uc2dc\",\"\\uac15\\ub989\\uc2dc\",\"\\uc218\\uc601\\uad6c\",\"\\ud0dc\\uc548\\uad70\",\"\\ud654\\uc131\\uc2dc\",\"\\ubb34\\uc8fc\\uad70\",\"\\uad70\\uc704\\uad70\",\"\\uae40\\ucc9c\\uc2dc\",\"\\uc608\\ucc9c\\uad70\",\"\\ud3ec\\ud56d\\uc2dc\",\"\\ud568\\ud3c9\\uad70\",\"\\ud574\\uc6b4\\ub300\\uad6c\",\"\\ub0a8\\ud574\\uad70\",\"\\uc11c\\uad6c\",\"\\ub2e8\\uc591\\uad70\",\"\\uae40\\ud3ec\\uc2dc\",\"\\uc18d\\ucd08\\uc2dc\"],\"type\":\"scatter\",\"x\":[0.5983616105055579,0.6700213855518579,0.1480524390300484,0.9426919002456393,0.0,0.07080729404088852,1.0,0.0,0.025295657017127736,0.307782169410637,0.09986158233132857,0.0,0.4724841550511568,0.004065176828669925,0.19179940665233486,0.026951440881804074,0.00613082350599072,0.002457443881419152,0.006509389359778424,0.0009757756865288704,0.0,0.1527061001083685,0.0,0.19318860358093531,0.003446561925964694,0.45020863793717963],\"xaxis\":\"x\",\"y\":[0.245,0.131,0.672,0.021,0.003,0.327,0.043,0.116,0.033,0.331,0.103,0.095,0.058,0.287,0.03,0.026,0.118,0.047,0.514,0.024,0.186,0.047,0.134,0.041,0.157,0.075],\"yaxis\":\"y\"}],                        {\"legend\":{\"itemsizing\":\"constant\",\"tracegroupgap\":0},\"margin\":{\"t\":60},\"template\":{\"data\":{\"bar\":[{\"error_x\":{\"color\":\"#2a3f5f\"},\"error_y\":{\"color\":\"#2a3f5f\"},\"marker\":{\"line\":{\"color\":\"#E5ECF6\",\"width\":0.5},\"pattern\":{\"fillmode\":\"overlay\",\"size\":10,\"solidity\":0.2}},\"type\":\"bar\"}],\"barpolar\":[{\"marker\":{\"line\":{\"color\":\"#E5ECF6\",\"width\":0.5},\"pattern\":{\"fillmode\":\"overlay\",\"size\":10,\"solidity\":0.2}},\"type\":\"barpolar\"}],\"carpet\":[{\"aaxis\":{\"endlinecolor\":\"#2a3f5f\",\"gridcolor\":\"white\",\"linecolor\":\"white\",\"minorgridcolor\":\"white\",\"startlinecolor\":\"#2a3f5f\"},\"baxis\":{\"endlinecolor\":\"#2a3f5f\",\"gridcolor\":\"white\",\"linecolor\":\"white\",\"minorgridcolor\":\"white\",\"startlinecolor\":\"#2a3f5f\"},\"type\":\"carpet\"}],\"choropleth\":[{\"colorbar\":{\"outlinewidth\":0,\"ticks\":\"\"},\"type\":\"choropleth\"}],\"contour\":[{\"colorbar\":{\"outlinewidth\":0,\"ticks\":\"\"},\"colorscale\":[[0.0,\"#0d0887\"],[0.1111111111111111,\"#46039f\"],[0.2222222222222222,\"#7201a8\"],[0.3333333333333333,\"#9c179e\"],[0.4444444444444444,\"#bd3786\"],[0.5555555555555556,\"#d8576b\"],[0.6666666666666666,\"#ed7953\"],[0.7777777777777778,\"#fb9f3a\"],[0.8888888888888888,\"#fdca26\"],[1.0,\"#f0f921\"]],\"type\":\"contour\"}],\"contourcarpet\":[{\"colorbar\":{\"outlinewidth\":0,\"ticks\":\"\"},\"type\":\"contourcarpet\"}],\"heatmap\":[{\"colorbar\":{\"outlinewidth\":0,\"ticks\":\"\"},\"colorscale\":[[0.0,\"#0d0887\"],[0.1111111111111111,\"#46039f\"],[0.2222222222222222,\"#7201a8\"],[0.3333333333333333,\"#9c179e\"],[0.4444444444444444,\"#bd3786\"],[0.5555555555555556,\"#d8576b\"],[0.6666666666666666,\"#ed7953\"],[0.7777777777777778,\"#fb9f3a\"],[0.8888888888888888,\"#fdca26\"],[1.0,\"#f0f921\"]],\"type\":\"heatmap\"}],\"heatmapgl\":[{\"colorbar\":{\"outlinewidth\":0,\"ticks\":\"\"},\"colorscale\":[[0.0,\"#0d0887\"],[0.1111111111111111,\"#46039f\"],[0.2222222222222222,\"#7201a8\"],[0.3333333333333333,\"#9c179e\"],[0.4444444444444444,\"#bd3786\"],[0.5555555555555556,\"#d8576b\"],[0.6666666666666666,\"#ed7953\"],[0.7777777777777778,\"#fb9f3a\"],[0.8888888888888888,\"#fdca26\"],[1.0,\"#f0f921\"]],\"type\":\"heatmapgl\"}],\"histogram\":[{\"marker\":{\"pattern\":{\"fillmode\":\"overlay\",\"size\":10,\"solidity\":0.2}},\"type\":\"histogram\"}],\"histogram2d\":[{\"colorbar\":{\"outlinewidth\":0,\"ticks\":\"\"},\"colorscale\":[[0.0,\"#0d0887\"],[0.1111111111111111,\"#46039f\"],[0.2222222222222222,\"#7201a8\"],[0.3333333333333333,\"#9c179e\"],[0.4444444444444444,\"#bd3786\"],[0.5555555555555556,\"#d8576b\"],[0.6666666666666666,\"#ed7953\"],[0.7777777777777778,\"#fb9f3a\"],[0.8888888888888888,\"#fdca26\"],[1.0,\"#f0f921\"]],\"type\":\"histogram2d\"}],\"histogram2dcontour\":[{\"colorbar\":{\"outlinewidth\":0,\"ticks\":\"\"},\"colorscale\":[[0.0,\"#0d0887\"],[0.1111111111111111,\"#46039f\"],[0.2222222222222222,\"#7201a8\"],[0.3333333333333333,\"#9c179e\"],[0.4444444444444444,\"#bd3786\"],[0.5555555555555556,\"#d8576b\"],[0.6666666666666666,\"#ed7953\"],[0.7777777777777778,\"#fb9f3a\"],[0.8888888888888888,\"#fdca26\"],[1.0,\"#f0f921\"]],\"type\":\"histogram2dcontour\"}],\"mesh3d\":[{\"colorbar\":{\"outlinewidth\":0,\"ticks\":\"\"},\"type\":\"mesh3d\"}],\"parcoords\":[{\"line\":{\"colorbar\":{\"outlinewidth\":0,\"ticks\":\"\"}},\"type\":\"parcoords\"}],\"pie\":[{\"automargin\":true,\"type\":\"pie\"}],\"scatter\":[{\"marker\":{\"colorbar\":{\"outlinewidth\":0,\"ticks\":\"\"}},\"type\":\"scatter\"}],\"scatter3d\":[{\"line\":{\"colorbar\":{\"outlinewidth\":0,\"ticks\":\"\"}},\"marker\":{\"colorbar\":{\"outlinewidth\":0,\"ticks\":\"\"}},\"type\":\"scatter3d\"}],\"scattercarpet\":[{\"marker\":{\"colorbar\":{\"outlinewidth\":0,\"ticks\":\"\"}},\"type\":\"scattercarpet\"}],\"scattergeo\":[{\"marker\":{\"colorbar\":{\"outlinewidth\":0,\"ticks\":\"\"}},\"type\":\"scattergeo\"}],\"scattergl\":[{\"marker\":{\"colorbar\":{\"outlinewidth\":0,\"ticks\":\"\"}},\"type\":\"scattergl\"}],\"scattermapbox\":[{\"marker\":{\"colorbar\":{\"outlinewidth\":0,\"ticks\":\"\"}},\"type\":\"scattermapbox\"}],\"scatterpolar\":[{\"marker\":{\"colorbar\":{\"outlinewidth\":0,\"ticks\":\"\"}},\"type\":\"scatterpolar\"}],\"scatterpolargl\":[{\"marker\":{\"colorbar\":{\"outlinewidth\":0,\"ticks\":\"\"}},\"type\":\"scatterpolargl\"}],\"scatterternary\":[{\"marker\":{\"colorbar\":{\"outlinewidth\":0,\"ticks\":\"\"}},\"type\":\"scatterternary\"}],\"surface\":[{\"colorbar\":{\"outlinewidth\":0,\"ticks\":\"\"},\"colorscale\":[[0.0,\"#0d0887\"],[0.1111111111111111,\"#46039f\"],[0.2222222222222222,\"#7201a8\"],[0.3333333333333333,\"#9c179e\"],[0.4444444444444444,\"#bd3786\"],[0.5555555555555556,\"#d8576b\"],[0.6666666666666666,\"#ed7953\"],[0.7777777777777778,\"#fb9f3a\"],[0.8888888888888888,\"#fdca26\"],[1.0,\"#f0f921\"]],\"type\":\"surface\"}],\"table\":[{\"cells\":{\"fill\":{\"color\":\"#EBF0F8\"},\"line\":{\"color\":\"white\"}},\"header\":{\"fill\":{\"color\":\"#C8D4E3\"},\"line\":{\"color\":\"white\"}},\"type\":\"table\"}]},\"layout\":{\"annotationdefaults\":{\"arrowcolor\":\"#2a3f5f\",\"arrowhead\":0,\"arrowwidth\":1},\"autotypenumbers\":\"strict\",\"coloraxis\":{\"colorbar\":{\"outlinewidth\":0,\"ticks\":\"\"}},\"colorscale\":{\"diverging\":[[0,\"#8e0152\"],[0.1,\"#c51b7d\"],[0.2,\"#de77ae\"],[0.3,\"#f1b6da\"],[0.4,\"#fde0ef\"],[0.5,\"#f7f7f7\"],[0.6,\"#e6f5d0\"],[0.7,\"#b8e186\"],[0.8,\"#7fbc41\"],[0.9,\"#4d9221\"],[1,\"#276419\"]],\"sequential\":[[0.0,\"#0d0887\"],[0.1111111111111111,\"#46039f\"],[0.2222222222222222,\"#7201a8\"],[0.3333333333333333,\"#9c179e\"],[0.4444444444444444,\"#bd3786\"],[0.5555555555555556,\"#d8576b\"],[0.6666666666666666,\"#ed7953\"],[0.7777777777777778,\"#fb9f3a\"],[0.8888888888888888,\"#fdca26\"],[1.0,\"#f0f921\"]],\"sequentialminus\":[[0.0,\"#0d0887\"],[0.1111111111111111,\"#46039f\"],[0.2222222222222222,\"#7201a8\"],[0.3333333333333333,\"#9c179e\"],[0.4444444444444444,\"#bd3786\"],[0.5555555555555556,\"#d8576b\"],[0.6666666666666666,\"#ed7953\"],[0.7777777777777778,\"#fb9f3a\"],[0.8888888888888888,\"#fdca26\"],[1.0,\"#f0f921\"]]},\"colorway\":[\"#636efa\",\"#EF553B\",\"#00cc96\",\"#ab63fa\",\"#FFA15A\",\"#19d3f3\",\"#FF6692\",\"#B6E880\",\"#FF97FF\",\"#FECB52\"],\"font\":{\"color\":\"#2a3f5f\"},\"geo\":{\"bgcolor\":\"white\",\"lakecolor\":\"white\",\"landcolor\":\"#E5ECF6\",\"showlakes\":true,\"showland\":true,\"subunitcolor\":\"white\"},\"hoverlabel\":{\"align\":\"left\"},\"hovermode\":\"closest\",\"mapbox\":{\"style\":\"light\"},\"paper_bgcolor\":\"white\",\"plot_bgcolor\":\"#E5ECF6\",\"polar\":{\"angularaxis\":{\"gridcolor\":\"white\",\"linecolor\":\"white\",\"ticks\":\"\"},\"bgcolor\":\"#E5ECF6\",\"radialaxis\":{\"gridcolor\":\"white\",\"linecolor\":\"white\",\"ticks\":\"\"}},\"scene\":{\"xaxis\":{\"backgroundcolor\":\"#E5ECF6\",\"gridcolor\":\"white\",\"gridwidth\":2,\"linecolor\":\"white\",\"showbackground\":true,\"ticks\":\"\",\"zerolinecolor\":\"white\"},\"yaxis\":{\"backgroundcolor\":\"#E5ECF6\",\"gridcolor\":\"white\",\"gridwidth\":2,\"linecolor\":\"white\",\"showbackground\":true,\"ticks\":\"\",\"zerolinecolor\":\"white\"},\"zaxis\":{\"backgroundcolor\":\"#E5ECF6\",\"gridcolor\":\"white\",\"gridwidth\":2,\"linecolor\":\"white\",\"showbackground\":true,\"ticks\":\"\",\"zerolinecolor\":\"white\"}},\"shapedefaults\":{\"line\":{\"color\":\"#2a3f5f\"}},\"ternary\":{\"aaxis\":{\"gridcolor\":\"white\",\"linecolor\":\"white\",\"ticks\":\"\"},\"baxis\":{\"gridcolor\":\"white\",\"linecolor\":\"white\",\"ticks\":\"\"},\"bgcolor\":\"#E5ECF6\",\"caxis\":{\"gridcolor\":\"white\",\"linecolor\":\"white\",\"ticks\":\"\"}},\"title\":{\"x\":0.05},\"xaxis\":{\"automargin\":true,\"gridcolor\":\"white\",\"linecolor\":\"white\",\"ticks\":\"\",\"title\":{\"standoff\":15},\"zerolinecolor\":\"white\",\"zerolinewidth\":2},\"yaxis\":{\"automargin\":true,\"gridcolor\":\"white\",\"linecolor\":\"white\",\"ticks\":\"\",\"title\":{\"standoff\":15},\"zerolinecolor\":\"white\",\"zerolinewidth\":2}}},\"xaxis\":{\"anchor\":\"y\",\"domain\":[0.0,1.0],\"title\":{\"text\":\"\\uc57c\\uc678\\uad00\\uad11\\uae30\\ud68c\\ub3c4\"}},\"yaxis\":{\"anchor\":\"x\",\"domain\":[0.0,1.0],\"title\":{\"text\":\"\\ubc29\\ubb38\\uac1d \\uc218\"}}},                        {\"responsive\": true}                    ).then(function(){\n",
       "                            \n",
       "var gd = document.getElementById('9b7925a1-1a12-4eb9-a50f-289d3c5a33b6');\n",
       "var x = new MutationObserver(function (mutations, observer) {{\n",
       "        var display = window.getComputedStyle(gd).display;\n",
       "        if (!display || display === 'none') {{\n",
       "            console.log([gd, 'removed!']);\n",
       "            Plotly.purge(gd);\n",
       "            observer.disconnect();\n",
       "        }}\n",
       "}});\n",
       "\n",
       "// Listen for the removal of the full notebook cells\n",
       "var notebookContainer = gd.closest('#notebook-container');\n",
       "if (notebookContainer) {{\n",
       "    x.observe(notebookContainer, {childList: true});\n",
       "}}\n",
       "\n",
       "// Listen for the clearing of the current output cell\n",
       "var outputEl = gd.closest('.output');\n",
       "if (outputEl) {{\n",
       "    x.observe(outputEl, {childList: true});\n",
       "}}\n",
       "\n",
       "                        })                };                });            </script>        </div>"
      ]
     },
     "metadata": {},
     "output_type": "display_data"
    }
   ],
   "source": [
    "# 레어, 자연\n",
    "import plotly.express as px\n",
    "import plotly.graph_objects as go\n",
    "import plotly\n",
    "\n",
    "\n",
    "\n",
    "fig = px.scatter(top10, x='야외관광기회도', \n",
    "                 y='방문객 수', \n",
    "                 size='지수', \n",
    "                 color_discrete_sequence=['orange'],\n",
    "                 text='시군구명칭', \n",
    "                 opacity=0.4,\n",
    "                 size_max=20)\n",
    "fig.show()\n",
    "\n",
    "# plotly.offline.plot(fig, filename='‪scatter_out_rare.html')"
   ]
  },
  {
   "cell_type": "markdown",
   "id": "8c2f0c22",
   "metadata": {},
   "source": []
  }
 ],
 "metadata": {
  "kernelspec": {
   "display_name": "Python 3",
   "language": "python",
   "name": "python3"
  },
  "language_info": {
   "codemirror_mode": {
    "name": "ipython",
    "version": 3
   },
   "file_extension": ".py",
   "mimetype": "text/x-python",
   "name": "python",
   "nbconvert_exporter": "python",
   "pygments_lexer": "ipython3",
   "version": "3.8.8"
  }
 },
 "nbformat": 4,
 "nbformat_minor": 5
}
